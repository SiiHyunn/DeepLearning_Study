{
 "cells": [
  {
   "cell_type": "code",
   "execution_count": 77,
   "id": "2858574b",
   "metadata": {},
   "outputs": [],
   "source": [
    "import numpy as np\n",
    "import pandas as pd\n",
    "import os\n",
    "import glob\n",
    "import shutil\n",
    "import random\n",
    "import matplotlib.pylab as plt\n",
    "from PIL import Image"
   ]
  },
  {
   "cell_type": "code",
   "execution_count": 94,
   "id": "3a3a810c",
   "metadata": {},
   "outputs": [],
   "source": [
    "base_dir = \"./RockPaperScissors/\"\n",
    "\n",
    "# train validation test 디렉터리 생성\n",
    "train_dir = os.path.join(base_dir,\"train\")\n",
    "#os.makedirs(train_dir)\n",
    "\n",
    "validation_dir = os.path.join(base_dir,\"validation\")\n",
    "#os.mkdir(validation_dir)\n",
    "\n",
    "test_dir = os.path.join(base_dir,\"test\")\n",
    "#os.mkdir(test_dir)"
   ]
  },
  {
   "cell_type": "code",
   "execution_count": 95,
   "id": "304c7e05",
   "metadata": {},
   "outputs": [],
   "source": [
    "#훈련용 가위바위보 경로\n",
    "train_rock_dir = os.path.join(train_dir,\"rock\")\n",
    "#os.mkdir(train_rock_dir)\n",
    "\n",
    "train_scissors_dir = os.path.join(train_dir,\"scissors\")\n",
    "#os.mkdir(train_scissors_dir)\n",
    "\n",
    "train_paper_dir = os.path.join(train_dir,\"paper\")\n",
    "#os.mkdir(train_paper_dir)\n",
    "\n",
    "#검증용 가위바위보 경로\n",
    "validation_rock_dir = os.path.join(validation_dir,\"rock\")\n",
    "#os.mkdir(validation_rock_dir)\n",
    "\n",
    "validation_scissors_dir = os.path.join(validation_dir,\"scissors\")\n",
    "#os.mkdir(validation_scissors_dir)\n",
    "\n",
    "validation_paper_dir = os.path.join(validation_dir,\"paper\")\n",
    "#os.mkdir(validation_paper_dir)\n",
    "\n",
    "#테스트용 가위바위보 경로\n",
    "test_rock_dir = os.path.join(test_dir,\"rock\")\n",
    "#os.mkdir(test_rock_dir)\n",
    "\n",
    "test_scissors_dir = os.path.join(test_dir,\"scissors\")\n",
    "#os.mkdir(test_scissors_dir)\n",
    "\n",
    "test_paper_dir = os.path.join(test_dir,\"paper\")\n",
    "#os.mkdir(test_paper_dir)"
   ]
  },
  {
   "cell_type": "code",
   "execution_count": 98,
   "id": "a724a3b8",
   "metadata": {},
   "outputs": [],
   "source": [
    "orgin_dir = \"dataset/scissors/\"\n",
    "fnames = ['scissors_img_{}.jpg'.format(i+1) for i in range(501)]\n",
    "file_names = os.listdir(orgin_dir)\n",
    "i=0\n",
    "\n",
    "#이름 변경하기\n",
    "for name in file_names:\n",
    "    src = os.path.join(orgin_dir, name)\n",
    "    dst = fnames[i]\n",
    "    dst = os.path.join(orgin_dir, dst)\n",
    "    os.rename(src, dst)\n",
    "    i += 1"
   ]
  },
  {
   "cell_type": "code",
   "execution_count": 99,
   "id": "dfe617b6",
   "metadata": {},
   "outputs": [],
   "source": [
    "orgin_dir = \"dataset/rock/\"\n",
    "fnames = ['rock_img_{}.jpg'.format(i+1) for i in range(501)]\n",
    "file_names = os.listdir(orgin_dir)\n",
    "i=0\n",
    "\n",
    "#이름 변경하기\n",
    "for name in file_names:\n",
    "    src = os.path.join(orgin_dir, name)\n",
    "    dst = fnames[i]\n",
    "    dst = os.path.join(orgin_dir, dst)\n",
    "    os.rename(src, dst)\n",
    "    i += 1"
   ]
  },
  {
   "cell_type": "code",
   "execution_count": 100,
   "id": "787b5789",
   "metadata": {},
   "outputs": [],
   "source": [
    "orgin_dir = \"dataset/paper/\"\n",
    "fnames = ['paper_img_{}.jpg'.format(i+1) for i in range(501)]\n",
    "file_names = os.listdir(orgin_dir)\n",
    "i=0\n",
    "\n",
    "#이름 변경하기\n",
    "for name in file_names:\n",
    "    src = os.path.join(orgin_dir, name)\n",
    "    dst = fnames[i]\n",
    "    dst = os.path.join(orgin_dir, dst)\n",
    "    os.rename(src, dst)\n",
    "    i += 1"
   ]
  },
  {
   "cell_type": "code",
   "execution_count": 102,
   "id": "bf6e2b2f",
   "metadata": {},
   "outputs": [],
   "source": [
    "a=glob.glob(\"./dataset/paper/*.jpg\")\n",
    "random.shuffle(a)\n",
    "i=1\n",
    "for fname in a:\n",
    "    im = Image.open(fname)\n",
    "    img2 = im.resize((300,300))\n",
    "    img2.save(\"./dataset/paper/paper_img_{}.jpg\".format(i))\n",
    "    i+=1"
   ]
  },
  {
   "cell_type": "code",
   "execution_count": 103,
   "id": "28e2f5aa",
   "metadata": {},
   "outputs": [],
   "source": [
    "b=glob.glob(\"./dataset/rock/*.jpg\")\n",
    "random.shuffle(b)\n",
    "i=1\n",
    "for fname in b:\n",
    "    im = Image.open(fname)\n",
    "    img2 = im.resize((300,300))\n",
    "    img2.save(\"./dataset/rock/rock_img_{}.jpg\".format(i))\n",
    "    i+=1"
   ]
  },
  {
   "cell_type": "code",
   "execution_count": 109,
   "id": "4f2cd53d",
   "metadata": {},
   "outputs": [],
   "source": [
    "c=glob.glob(\"./dataset/scissors/*.jpg\")\n",
    "random.shuffle(c)\n",
    "i=1\n",
    "for fname in c:\n",
    "    im = Image.open(fname)\n",
    "    img2 = im.resize((300,300))\n",
    "    img2.save(\"./dataset/scissors/scissors_img_{}.jpg\".format(i))\n",
    "    i+=1"
   ]
  }
 ],
 "metadata": {
  "kernelspec": {
   "display_name": "Python 3 (ipykernel)",
   "language": "python",
   "name": "python3"
  },
  "language_info": {
   "codemirror_mode": {
    "name": "ipython",
    "version": 3
   },
   "file_extension": ".py",
   "mimetype": "text/x-python",
   "name": "python",
   "nbconvert_exporter": "python",
   "pygments_lexer": "ipython3",
   "version": "3.8.12"
  }
 },
 "nbformat": 4,
 "nbformat_minor": 5
}
