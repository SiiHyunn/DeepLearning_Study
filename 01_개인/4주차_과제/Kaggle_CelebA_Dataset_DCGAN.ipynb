{
 "cells": [
  {
   "cell_type": "code",
   "execution_count": 29,
   "id": "e8a1f111",
   "metadata": {},
   "outputs": [
    {
     "name": "stdout",
     "output_type": "stream",
     "text": [
      "Model: \"model_14\"\n",
      "_________________________________________________________________\n",
      "Layer (type)                 Output Shape              Param #   \n",
      "=================================================================\n",
      "input_15 (InputLayer)        [(None, 32)]              0         \n",
      "_________________________________________________________________\n",
      "dense_9 (Dense)              (None, 32768)             1081344   \n",
      "_________________________________________________________________\n",
      "leaky_re_lu_41 (LeakyReLU)   (None, 32768)             0         \n",
      "_________________________________________________________________\n",
      "reshape_5 (Reshape)          (None, 16, 16, 128)       0         \n",
      "_________________________________________________________________\n",
      "conv2d_36 (Conv2D)           (None, 16, 16, 256)       819456    \n",
      "_________________________________________________________________\n",
      "leaky_re_lu_42 (LeakyReLU)   (None, 16, 16, 256)       0         \n",
      "_________________________________________________________________\n",
      "conv2d_transpose_5 (Conv2DTr (None, 32, 32, 256)       1048832   \n",
      "_________________________________________________________________\n",
      "leaky_re_lu_43 (LeakyReLU)   (None, 32, 32, 256)       0         \n",
      "_________________________________________________________________\n",
      "conv2d_37 (Conv2D)           (None, 32, 32, 256)       1638656   \n",
      "_________________________________________________________________\n",
      "leaky_re_lu_44 (LeakyReLU)   (None, 32, 32, 256)       0         \n",
      "_________________________________________________________________\n",
      "conv2d_38 (Conv2D)           (None, 32, 32, 256)       1638656   \n",
      "_________________________________________________________________\n",
      "leaky_re_lu_45 (LeakyReLU)   (None, 32, 32, 256)       0         \n",
      "_________________________________________________________________\n",
      "conv2d_39 (Conv2D)           (None, 32, 32, 3)         37635     \n",
      "=================================================================\n",
      "Total params: 6,264,579\n",
      "Trainable params: 6,264,579\n",
      "Non-trainable params: 0\n",
      "_________________________________________________________________\n"
     ]
    }
   ],
   "source": [
    "import keras\n",
    "from keras import layers\n",
    "import numpy as np\n",
    "import tensorflow as tf\n",
    "import cv2\n",
    "from keras import layers\n",
    "from keras import models\n",
    "\n",
    "latent_dim = 32\n",
    "height = 32\n",
    "width = 32\n",
    "channels = 3\n",
    "\n",
    "generator_input = keras.Input(shape=(latent_dim,))\n",
    "\n",
    "# 입력을 16 × 16 크기의 128개 채널을 가진 특성 맵으로 변환합니다\n",
    "x = layers.Dense(128 * 16 * 16)(generator_input)\n",
    "x = layers.LeakyReLU()(x)\n",
    "x = layers.Reshape((16, 16, 128))(x)\n",
    "\n",
    "# 합성곱 층을 추가합니다\n",
    "x = layers.Conv2D(256, 5, padding='same')(x)\n",
    "x = layers.LeakyReLU()(x)\n",
    "\n",
    "# 32 × 32 크기로 업샘플링합니다\n",
    "x = layers.Conv2DTranspose(256, 4, strides=2, padding='same')(x)\n",
    "x = layers.LeakyReLU()(x)\n",
    "\n",
    "# 합성곱 층을 더 추가합니다\n",
    "x = layers.Conv2D(256, 5, padding='same')(x)\n",
    "x = layers.LeakyReLU()(x)\n",
    "x = layers.Conv2D(256, 5, padding='same')(x)\n",
    "x = layers.LeakyReLU()(x)\n",
    "\n",
    "# 32 × 32 크기의 1개 채널을 가진 특성 맵을 생성합니다\n",
    "x = layers.Conv2D(channels, 7, activation='tanh', padding='same')(x)\n",
    "generator = keras.models.Model(generator_input, x)\n",
    "generator.summary()"
   ]
  },
  {
   "cell_type": "code",
   "execution_count": 30,
   "id": "5f6aa8c3",
   "metadata": {},
   "outputs": [
    {
     "name": "stdout",
     "output_type": "stream",
     "text": [
      "Model: \"model_15\"\n",
      "_________________________________________________________________\n",
      "Layer (type)                 Output Shape              Param #   \n",
      "=================================================================\n",
      "input_16 (InputLayer)        [(None, 32, 32, 3)]       0         \n",
      "_________________________________________________________________\n",
      "conv2d_40 (Conv2D)           (None, 30, 30, 128)       3584      \n",
      "_________________________________________________________________\n",
      "leaky_re_lu_46 (LeakyReLU)   (None, 30, 30, 128)       0         \n",
      "_________________________________________________________________\n",
      "conv2d_41 (Conv2D)           (None, 14, 14, 128)       262272    \n",
      "_________________________________________________________________\n",
      "leaky_re_lu_47 (LeakyReLU)   (None, 14, 14, 128)       0         \n",
      "_________________________________________________________________\n",
      "conv2d_42 (Conv2D)           (None, 6, 6, 128)         262272    \n",
      "_________________________________________________________________\n",
      "leaky_re_lu_48 (LeakyReLU)   (None, 6, 6, 128)         0         \n",
      "_________________________________________________________________\n",
      "conv2d_43 (Conv2D)           (None, 2, 2, 128)         262272    \n",
      "_________________________________________________________________\n",
      "leaky_re_lu_49 (LeakyReLU)   (None, 2, 2, 128)         0         \n",
      "_________________________________________________________________\n",
      "flatten_4 (Flatten)          (None, 512)               0         \n",
      "_________________________________________________________________\n",
      "dropout_4 (Dropout)          (None, 512)               0         \n",
      "_________________________________________________________________\n",
      "dense_10 (Dense)             (None, 1)                 513       \n",
      "=================================================================\n",
      "Total params: 790,913\n",
      "Trainable params: 790,913\n",
      "Non-trainable params: 0\n",
      "_________________________________________________________________\n"
     ]
    }
   ],
   "source": [
    "discriminator_input = layers.Input(shape=(height, width, channels))\n",
    "x = layers.Conv2D(128, 3)(discriminator_input)\n",
    "x = layers.LeakyReLU()(x)\n",
    "x = layers.Conv2D(128, 4, strides=2)(x)\n",
    "x = layers.LeakyReLU()(x)\n",
    "x = layers.Conv2D(128, 4, strides=2)(x)\n",
    "x = layers.LeakyReLU()(x)\n",
    "x = layers.Conv2D(128, 4, strides=2)(x)\n",
    "x = layers.LeakyReLU()(x)\n",
    "x = layers.Flatten()(x)\n",
    "\n",
    "# 드롭아웃 층을 넣는 것이 아주 중요합니다!\n",
    "x = layers.Dropout(0.4)(x)\n",
    "\n",
    "# 분류 층\n",
    "x = layers.Dense(1, activation='sigmoid')(x)\n",
    "\n",
    "discriminator = tf.keras.models.Model(discriminator_input, x)\n",
    "discriminator.summary()\n",
    "\n",
    "# 옵티마이저에서 (값을 지정하여) 그래디언트 클리핑을 사용합니다\n",
    "# 안정된 훈련을 위해서 학습률 감쇠를 사용합니다\n",
    "discriminator_optimizer = tf.keras.optimizers.RMSprop(learning_rate=0.0008, clipvalue=1.0, decay=1e-8)\n",
    "discriminator.compile(optimizer=discriminator_optimizer, loss='binary_crossentropy')"
   ]
  },
  {
   "cell_type": "code",
   "execution_count": 31,
   "id": "70dd9de1",
   "metadata": {},
   "outputs": [],
   "source": [
    "# 판별자의 가중치가 훈련되지 않도록 설정합니다(gan 모델에만 적용됩니다)\n",
    "discriminator.trainable = False\n",
    "\n",
    "gan_input = tf.keras.Input(shape=(latent_dim,))\n",
    "gan_output = discriminator(generator(gan_input))\n",
    "gan = keras.models.Model(gan_input, gan_output)\n",
    "\n",
    "gan_optimizer = tf.keras.optimizers.RMSprop(lr=0.0004, clipvalue=1.0, decay=1e-8)\n",
    "gan.compile(optimizer=gan_optimizer, loss='binary_crossentropy')"
   ]
  },
  {
   "cell_type": "code",
   "execution_count": 34,
   "id": "27a791c0",
   "metadata": {},
   "outputs": [
    {
     "name": "stderr",
     "output_type": "stream",
     "text": [
      "2022-01-24 16:54:15.825999: I tensorflow/core/grappler/optimizers/custom_graph_optimizer_registry.cc:112] Plugin optimizer for device_type GPU is enabled.\n",
      "2022-01-24 16:54:16.204072: I tensorflow/core/grappler/optimizers/custom_graph_optimizer_registry.cc:112] Plugin optimizer for device_type GPU is enabled.\n"
     ]
    },
    {
     "name": "stdout",
     "output_type": "stream",
     "text": [
      "스텝 0에서 판별자 손실: 0.6896334290504456\n",
      "스텝 0에서 적대적 손실: 0.6631351113319397\n",
      "스텝 100에서 판별자 손실: -0.4149013161659241\n",
      "스텝 100에서 적대적 손실: 36.594295501708984\n",
      "스텝 200에서 판별자 손실: -0.7495508193969727\n",
      "스텝 200에서 적대적 손실: 21.946807861328125\n",
      "스텝 300에서 판별자 손실: -0.16847051680088043\n",
      "스텝 300에서 적대적 손실: 19.32329559326172\n",
      "스텝 400에서 판별자 손실: 0.2967219054698944\n",
      "스텝 400에서 적대적 손실: 8.868700981140137\n",
      "스텝 500에서 판별자 손실: 0.22338704764842987\n",
      "스텝 500에서 적대적 손실: 12.247355461120605\n",
      "스텝 600에서 판별자 손실: -0.10114550590515137\n",
      "스텝 600에서 적대적 손실: 11.580902099609375\n",
      "스텝 700에서 판별자 손실: 0.1801626980304718\n",
      "스텝 700에서 적대적 손실: 9.787276268005371\n",
      "스텝 800에서 판별자 손실: -0.3352024555206299\n",
      "스텝 800에서 적대적 손실: 23.422550201416016\n",
      "스텝 900에서 판별자 손실: -0.04228394106030464\n",
      "스텝 900에서 적대적 손실: 8.248766899108887\n",
      "스텝 1000에서 판별자 손실: -0.055049460381269455\n",
      "스텝 1000에서 적대적 손실: 10.23361587524414\n",
      "스텝 1100에서 판별자 손실: -0.11402139812707901\n",
      "스텝 1100에서 적대적 손실: 13.17919921875\n",
      "스텝 1200에서 판별자 손실: 0.9547465443611145\n",
      "스텝 1200에서 적대적 손실: 21.907724380493164\n",
      "스텝 1300에서 판별자 손실: -0.7157344222068787\n",
      "스텝 1300에서 적대적 손실: 54.753021240234375\n",
      "스텝 1400에서 판별자 손실: 0.2850329577922821\n",
      "스텝 1400에서 적대적 손실: 58.620635986328125\n",
      "스텝 1500에서 판별자 손실: -1.0799413919448853\n",
      "스텝 1500에서 적대적 손실: 157.26661682128906\n",
      "스텝 1600에서 판별자 손실: 2.3858907222747803\n",
      "스텝 1600에서 적대적 손실: 296.8940734863281\n",
      "스텝 1700에서 판별자 손실: 4.313279628753662\n",
      "스텝 1700에서 적대적 손실: 819.3494262695312\n",
      "스텝 1800에서 판별자 손실: -35.665992736816406\n",
      "스텝 1800에서 적대적 손실: 3604.884521484375\n",
      "스텝 1900에서 판별자 손실: -50.601318359375\n",
      "스텝 1900에서 적대적 손실: 10781.1650390625\n",
      "스텝 2000에서 판별자 손실: -242.3193817138672\n",
      "스텝 2000에서 적대적 손실: 23837.927734375\n",
      "스텝 2100에서 판별자 손실: -464.6864929199219\n",
      "스텝 2100에서 적대적 손실: 49314.85546875\n",
      "스텝 2200에서 판별자 손실: -836.125\n",
      "스텝 2200에서 적대적 손실: 78875.75\n",
      "스텝 2300에서 판별자 손실: -1155.7257080078125\n",
      "스텝 2300에서 적대적 손실: 132854.109375\n",
      "스텝 2400에서 판별자 손실: -4224.1533203125\n",
      "스텝 2400에서 적대적 손실: 235124.203125\n",
      "스텝 2500에서 판별자 손실: -9681.7294921875\n",
      "스텝 2500에서 적대적 손실: 593572.75\n",
      "스텝 2600에서 판별자 손실: -13353.009765625\n",
      "스텝 2600에서 적대적 손실: 878720.5\n",
      "스텝 2700에서 판별자 손실: -9721.0380859375\n",
      "스텝 2700에서 적대적 손실: 1606962.875\n",
      "스텝 2800에서 판별자 손실: -70958.4765625\n",
      "스텝 2800에서 적대적 손실: 3870150.5\n",
      "스텝 2900에서 판별자 손실: -91028.2734375\n",
      "스텝 2900에서 적대적 손실: 4888670.5\n",
      "스텝 3000에서 판별자 손실: -170281.296875\n",
      "스텝 3000에서 적대적 손실: 9226483.0\n",
      "스텝 3100에서 판별자 손실: -289216.28125\n",
      "스텝 3100에서 적대적 손실: 14106301.0\n",
      "스텝 3200에서 판별자 손실: -526297.625\n",
      "스텝 3200에서 적대적 손실: 19871112.0\n",
      "스텝 3300에서 판별자 손실: -545488.4375\n",
      "스텝 3300에서 적대적 손실: 23696852.0\n",
      "스텝 3400에서 판별자 손실: -710823.1875\n",
      "스텝 3400에서 적대적 손실: 31979296.0\n",
      "스텝 3500에서 판별자 손실: -806980.125\n",
      "스텝 3500에서 적대적 손실: 42661836.0\n",
      "스텝 3600에서 판별자 손실: -705175.4375\n",
      "스텝 3600에서 적대적 손실: 54808864.0\n",
      "스텝 3700에서 판별자 손실: -694521.125\n",
      "스텝 3700에서 적대적 손실: 68919632.0\n",
      "스텝 3800에서 판별자 손실: -352552.25\n",
      "스텝 3800에서 적대적 손실: 84762832.0\n",
      "스텝 3900에서 판별자 손실: -2283754.75\n",
      "스텝 3900에서 적대적 손실: 126137976.0\n",
      "스텝 4000에서 판별자 손실: -3952538.5\n",
      "스텝 4000에서 적대적 손실: 151551616.0\n",
      "스텝 4100에서 판별자 손실: -4171324.0\n",
      "스텝 4100에서 적대적 손실: 181302448.0\n",
      "스텝 4200에서 판별자 손실: -5027597.0\n",
      "스텝 4200에서 적대적 손실: 213903728.0\n",
      "스텝 4300에서 판별자 손실: -4633549.5\n",
      "스텝 4300에서 적대적 손실: 212067024.0\n",
      "스텝 4400에서 판별자 손실: -4133126.5\n",
      "스텝 4400에서 적대적 손실: 256260512.0\n",
      "스텝 4500에서 판별자 손실: -3241890.0\n",
      "스텝 4500에서 적대적 손실: 308266080.0\n",
      "스텝 4600에서 판별자 손실: -8738372.0\n",
      "스텝 4600에서 적대적 손실: 361632928.0\n",
      "스텝 4700에서 판별자 손실: -11519920.0\n",
      "스텝 4700에서 적대적 손실: 504008256.0\n",
      "스텝 4800에서 판별자 손실: -16846246.0\n",
      "스텝 4800에서 적대적 손실: 599439680.0\n",
      "스텝 4900에서 판별자 손실: -10886095.0\n",
      "스텝 4900에서 적대적 손실: 698342080.0\n",
      "스텝 5000에서 판별자 손실: -14971021.0\n",
      "스텝 5000에서 적대적 손실: 806146240.0\n",
      "스텝 5100에서 판별자 손실: -21982736.0\n",
      "스텝 5100에서 적대적 손실: 924309312.0\n",
      "스텝 5200에서 판별자 손실: -19293998.0\n",
      "스텝 5200에서 적대적 손실: 1047132352.0\n",
      "스텝 5300에서 판별자 손실: -22567574.0\n",
      "스텝 5300에서 적대적 손실: 1184029056.0\n",
      "스텝 5400에서 판별자 손실: -29491220.0\n",
      "스텝 5400에서 적대적 손실: 1319891200.0\n",
      "스텝 5500에서 판별자 손실: -35181180.0\n",
      "스텝 5500에서 적대적 손실: 1459773952.0\n",
      "스텝 5600에서 판별자 손실: -30169536.0\n",
      "스텝 5600에서 적대적 손실: 1607655680.0\n",
      "스텝 5700에서 판별자 손실: -42431904.0\n",
      "스텝 5700에서 적대적 손실: 1749270400.0\n",
      "스텝 5800에서 판별자 손실: -50901672.0\n",
      "스텝 5800에서 적대적 손실: 1897752832.0\n",
      "스텝 5900에서 판별자 손실: -41192828.0\n",
      "스텝 5900에서 적대적 손실: 2051856384.0\n",
      "스텝 6000에서 판별자 손실: -56486668.0\n",
      "스텝 6000에서 적대적 손실: 2211475456.0\n",
      "스텝 6100에서 판별자 손실: -66960616.0\n",
      "스텝 6100에서 적대적 손실: 2391147520.0\n",
      "스텝 6200에서 판별자 손실: -65565020.0\n",
      "스텝 6200에서 적대적 손실: 2584638464.0\n",
      "스텝 6300에서 판별자 손실: -68098968.0\n",
      "스텝 6300에서 적대적 손실: 2793129728.0\n",
      "스텝 6400에서 판별자 손실: -56809196.0\n",
      "스텝 6400에서 적대적 손실: 3019570944.0\n",
      "스텝 6500에서 판별자 손실: -79486072.0\n",
      "스텝 6500에서 적대적 손실: 3266939392.0\n",
      "스텝 6600에서 판별자 손실: -93094024.0\n",
      "스텝 6600에서 적대적 손실: 3506572544.0\n",
      "스텝 6700에서 판별자 손실: -78811960.0\n",
      "스텝 6700에서 적대적 손실: 3809465600.0\n",
      "스텝 6800에서 판별자 손실: -100542840.0\n",
      "스텝 6800에서 적대적 손실: 4094479616.0\n",
      "스텝 6900에서 판별자 손실: -117648952.0\n",
      "스텝 6900에서 적대적 손실: 4423233536.0\n",
      "스텝 7000에서 판별자 손실: -85067536.0\n",
      "스텝 7000에서 적대적 손실: 4726155776.0\n",
      "스텝 7100에서 판별자 손실: -113890152.0\n",
      "스텝 7100에서 적대적 손실: 5094006272.0\n",
      "스텝 7200에서 판별자 손실: -132726872.0\n",
      "스텝 7200에서 적대적 손실: 5468385280.0\n",
      "스텝 7300에서 판별자 손실: -153313392.0\n",
      "스텝 7300에서 적대적 손실: 5858153984.0\n",
      "스텝 7400에서 판별자 손실: -149387312.0\n",
      "스텝 7400에서 적대적 손실: 6269558272.0\n",
      "스텝 7500에서 판별자 손실: -176165312.0\n",
      "스텝 7500에서 적대적 손실: 6714278912.0\n",
      "스텝 7600에서 판별자 손실: -143630416.0\n",
      "스텝 7600에서 적대적 손실: 7187281408.0\n",
      "스텝 7700에서 판별자 손실: -153434256.0\n",
      "스텝 7700에서 적대적 손실: 7627302400.0\n",
      "스텝 7800에서 판별자 손실: -141428720.0\n",
      "스텝 7800에서 적대적 손실: 8122232832.0\n",
      "스텝 7900에서 판별자 손실: -191567280.0\n",
      "스텝 7900에서 적대적 손실: 8716456960.0\n",
      "스텝 8000에서 판별자 손실: -222189600.0\n",
      "스텝 8000에서 적대적 손실: 9305006080.0\n",
      "스텝 8100에서 판별자 손실: -183574560.0\n",
      "스텝 8100에서 적대적 손실: 8130722304.0\n",
      "스텝 8200에서 판별자 손실: -252947024.0\n",
      "스텝 8200에서 적대적 손실: 9110133760.0\n",
      "스텝 8300에서 판별자 손실: -254363504.0\n",
      "스텝 8300에서 적대적 손실: 9865805824.0\n",
      "스텝 8400에서 판별자 손실: -189392880.0\n",
      "스텝 8400에서 적대적 손실: 10530364416.0\n",
      "스텝 8500에서 판별자 손실: -266415728.0\n",
      "스텝 8500에서 적대적 손실: 11323312128.0\n",
      "스텝 8600에서 판별자 손실: -242158064.0\n",
      "스텝 8600에서 적대적 손실: 12114766848.0\n",
      "스텝 8700에서 판별자 손실: -136546224.0\n",
      "스텝 8700에서 적대적 손실: 12902751232.0\n",
      "스텝 8800에서 판별자 손실: -277784160.0\n",
      "스텝 8800에서 적대적 손실: 13846292480.0\n",
      "스텝 8900에서 판별자 손실: -252957904.0\n",
      "스텝 8900에서 적대적 손실: 14760684544.0\n",
      "스텝 9000에서 판별자 손실: -143505904.0\n",
      "스텝 9000에서 적대적 손실: 15775570944.0\n",
      "스텝 9100에서 판별자 손실: -376006208.0\n",
      "스텝 9100에서 적대적 손실: 16523126784.0\n",
      "스텝 9200에서 판별자 손실: -357353984.0\n",
      "스텝 9200에서 적대적 손실: 17747066880.0\n",
      "스텝 9300에서 판별자 손실: -259785728.0\n",
      "스텝 9300에서 적대적 손실: 18651600896.0\n",
      "스텝 9400에서 판별자 손실: -403931776.0\n",
      "스텝 9400에서 적대적 손실: 19747649536.0\n",
      "스텝 9500에서 판별자 손실: -463655680.0\n",
      "스텝 9500에서 적대적 손실: 21077096448.0\n",
      "스텝 9600에서 판별자 손실: -429309760.0\n",
      "스텝 9600에서 적대적 손실: 22287738880.0\n",
      "스텝 9700에서 판별자 손실: -506740320.0\n",
      "스텝 9700에서 적대적 손실: 23329798144.0\n",
      "스텝 9800에서 판별자 손실: -295926752.0\n",
      "스텝 9800에서 적대적 손실: 23701477376.0\n",
      "스텝 9900에서 판별자 손실: -113964688.0\n",
      "스텝 9900에서 적대적 손실: 25904019456.0\n"
     ]
    }
   ],
   "source": [
    "import os\n",
    "from keras.preprocessing import image\n",
    "\n",
    "# CIFAR10 데이터를 로드합니다\n",
    "(x_train, y_train), (_, _) = keras.datasets.cifar10.load_data()\n",
    "\n",
    "# 개구리 이미지를 선택합니다(클래스 6)\n",
    "x_train = x_train[y_train.flatten() == 6]\n",
    "\n",
    "# 데이터를 정규화합니다\n",
    "x_train = x_train.reshape(\n",
    "    (x_train.shape[0],) + (height, width, channels)).astype('float32') / 255.\n",
    "\n",
    "iterations = 10000\n",
    "batch_size = 20\n",
    "save_dir = './gan_images/'\n",
    "#if not os.path.exists(save_dir):\n",
    "#    os.mkdir(save_dir)\n",
    "\n",
    "# 훈련 반복 시작\n",
    "start = 0\n",
    "for step in range(iterations):\n",
    "    # 잠재 공간에서 무작위로 포인트를 샘플링합니다\n",
    "    random_latent_vectors = np.random.normal(size=(batch_size, latent_dim))\n",
    "\n",
    "    # 가짜 이미지를 디코딩합니다\n",
    "    generated_images = generator.predict(random_latent_vectors)\n",
    "\n",
    "    # 진짜 이미지와 연결합니다\n",
    "    stop = start + batch_size\n",
    "    real_images = x_train[start: stop]\n",
    "    combined_images = np.concatenate([generated_images, real_images])\n",
    "\n",
    "    # 진짜와 가짜 이미지를 구분하여 레이블을 합칩니다\n",
    "    labels = np.concatenate([np.ones((batch_size, 1)),\n",
    "                             np.zeros((batch_size, 1))])\n",
    "    # 레이블에 랜덤 노이즈를 추가합니다. 아주 중요합니다!\n",
    "    labels += 0.05 * np.random.random(labels.shape)\n",
    "\n",
    "    # discriminator를 훈련합니다\n",
    "    d_loss = discriminator.train_on_batch(combined_images, labels)\n",
    "\n",
    "    # 잠재 공간에서 무작위로 포인트를 샘플링합니다\n",
    "    random_latent_vectors = np.random.normal(size=(batch_size, latent_dim))\n",
    "\n",
    "    # 모두 “진짜 이미지\"라고 레이블을 만듭니다\n",
    "    misleading_targets = np.zeros((batch_size, 1))\n",
    "\n",
    "    # generator를 훈련합니다(gan 모델에서 discriminator의 가중치는 동결됩니다)\n",
    "    a_loss = gan.train_on_batch(random_latent_vectors, misleading_targets)\n",
    "    \n",
    "    start += batch_size\n",
    "    if start > len(x_train) - batch_size:\n",
    "        start = 0\n",
    "\n",
    "    # 중간 중간 저장하고 그래프를 그립니다\n",
    "    if step % 100 == 0:\n",
    "        # 모델 가중치를 저장합니다\n",
    "        gan.save_weights('gan.h5')\n",
    "\n",
    "        # 측정 지표를 출력합니다\n",
    "        print('스텝 %s에서 판별자 손실: %s' % (step, d_loss))\n",
    "        print('스텝 %s에서 적대적 손실: %s' % (step, a_loss))\n",
    "\n",
    "        # 생성된 이미지 하나를 저장합니다\n",
    "        img = image.array_to_img(generated_images[0] * 255., scale=False)\n",
    "        img.save(os.path.join(save_dir, 'generated_frog' + str(step) + '.png'))\n",
    "\n",
    "        # 비교를 위해 진짜 이미지 하나를 저장합니다\n",
    "        img = image.array_to_img(real_images[0] * 255., scale=False)\n",
    "        img.save(os.path.join(save_dir, 'real_frog' + str(step) + '.png'))"
   ]
  },
  {
   "cell_type": "code",
   "execution_count": 35,
   "id": "0d2ef85e",
   "metadata": {},
   "outputs": [
    {
     "data": {
      "image/png": "[encoded data removed]",
      "text/plain": [
       "<Figure size 432x288 with 1 Axes>"
      ]
     },
     "metadata": {
      "needs_background": "light"
     },
     "output_type": "display_data"
    },
    {
     "data": {
      "image/png": "[encoded data removed]",
      "text/plain": [
       "<Figure size 432x288 with 1 Axes>"
      ]
     },
     "metadata": {
      "needs_background": "light"
     },
     "output_type": "display_data"
    },
    {
     "data": {
      "image/png": "[encoded data removed]",
      "text/plain": [
       "<Figure size 432x288 with 1 Axes>"
      ]
     },
     "metadata": {
      "needs_background": "light"
     },
     "output_type": "display_data"
    },
    {
     "data": {
      "image/png": "[encoded data removed]",
      "text/plain": [
       "<Figure size 432x288 with 1 Axes>"
      ]
     },
     "metadata": {
      "needs_background": "light"
     },
     "output_type": "display_data"
    },
    {
     "data": {
      "image/png": "[encoded data removed]",
      "text/plain": [
       "<Figure size 432x288 with 1 Axes>"
      ]
     },
     "metadata": {
      "needs_background": "light"
     },
     "output_type": "display_data"
    },
    {
     "data": {
      "image/png": "[encoded data removed]",
      "text/plain": [
       "<Figure size 432x288 with 1 Axes>"
      ]
     },
     "metadata": {
      "needs_background": "light"
     },
     "output_type": "display_data"
    },
    {
     "data": {
      "image/png": "[encoded data removed]",
      "text/plain": [
       "<Figure size 432x288 with 1 Axes>"
      ]
     },
     "metadata": {
      "needs_background": "light"
     },
     "output_type": "display_data"
    },
    {
     "data": {
      "image/png": "[encoded data removed]",
      "text/plain": [
       "<Figure size 432x288 with 1 Axes>"
      ]
     },
     "metadata": {
      "needs_background": "light"
     },
     "output_type": "display_data"
    },
    {
     "data": {
      "image/png": "[encoded data removed]",
      "text/plain": [
       "<Figure size 432x288 with 1 Axes>"
      ]
     },
     "metadata": {
      "needs_background": "light"
     },
     "output_type": "display_data"
    },
    {
     "data": {
      "image/png": "[encoded data removed]",
      "text/plain": [
       "<Figure size 432x288 with 1 Axes>"
      ]
     },
     "metadata": {
      "needs_background": "light"
     },
     "output_type": "display_data"
    }
   ],
   "source": [
    "import matplotlib.pyplot as plt\n",
    "\n",
    "# 잠재 공간에서 랜덤한 포인트를 샘플링합니다\n",
    "random_latent_vectors = np.random.normal(size=(10, latent_dim))\n",
    "\n",
    "# 가짜 이미지로 디코딩합니다\n",
    "generated_images = generator.predict(random_latent_vectors)\n",
    "\n",
    "for i in range(generated_images.shape[0]):\n",
    "    img = image.array_to_img(generated_images[i] * 255., scale=False)\n",
    "    plt.figure()\n",
    "    plt.imshow(img)\n",
    "    \n",
    "plt.show()"
   ]
  },
  {
   "cell_type": "code",
   "execution_count": null,
   "id": "199a5862",
   "metadata": {},
   "outputs": [],
   "source": []
  }
 ],
 "metadata": {
  "kernelspec": {
   "display_name": "Python 3 (ipykernel)",
   "language": "python",
   "name": "python3"
  },
  "language_info": {
   "codemirror_mode": {
    "name": "ipython",
    "version": 3
   },
   "file_extension": ".py",
   "mimetype": "text/x-python",
   "name": "python",
   "nbconvert_exporter": "python",
   "pygments_lexer": "ipython3",
   "version": "3.8.12"
  }
 },
 "nbformat": 4,
 "nbformat_minor": 5
}
