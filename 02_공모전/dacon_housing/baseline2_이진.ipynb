{
  "cells": [
    {
      "cell_type": "markdown",
      "id": "ca6e7384-49f5-4b7c-986b-e8f686e80fd4",
      "metadata": {
        "id": "ca6e7384-49f5-4b7c-986b-e8f686e80fd4"
      },
      "source": [
        "# 데이터 불러오기\n",
        "필요한 패키지를 임포트하고 데이터를 불러와줍니다."
      ]
    },
    {
      "cell_type": "code",
      "execution_count": 1,
      "id": "5b9b0374-2844-4877-a850-0e2158f4901a",
      "metadata": {
        "colab": {
          "base_uri": "https://localhost:8080/",
          "height": 285
        },
        "id": "5b9b0374-2844-4877-a850-0e2158f4901a",
        "outputId": "4cad0824-a1ae-40f5-990a-1d683298318c"
      },
      "outputs": [
        {
          "output_type": "execute_result",
          "data": {
            "text/html": [
              "\n",
              "  <div id=\"df-b765312c-f0af-4f64-b432-e7d04f05f23d\">\n",
              "    <div class=\"colab-df-container\">\n",
              "      <div>\n",
              "<style scoped>\n",
              "    .dataframe tbody tr th:only-of-type {\n",
              "        vertical-align: middle;\n",
              "    }\n",
              "\n",
              "    .dataframe tbody tr th {\n",
              "        vertical-align: top;\n",
              "    }\n",
              "\n",
              "    .dataframe thead th {\n",
              "        text-align: right;\n",
              "    }\n",
              "</style>\n",
              "<table border=\"1\" class=\"dataframe\">\n",
              "  <thead>\n",
              "    <tr style=\"text-align: right;\">\n",
              "      <th></th>\n",
              "      <th>id</th>\n",
              "      <th>Overall Qual</th>\n",
              "      <th>Gr Liv Area</th>\n",
              "      <th>Exter Qual</th>\n",
              "      <th>Garage Cars</th>\n",
              "      <th>Garage Area</th>\n",
              "      <th>Kitchen Qual</th>\n",
              "      <th>Total Bsmt SF</th>\n",
              "      <th>1st Flr SF</th>\n",
              "      <th>Bsmt Qual</th>\n",
              "      <th>Full Bath</th>\n",
              "      <th>Year Built</th>\n",
              "      <th>Year Remod/Add</th>\n",
              "      <th>Garage Yr Blt</th>\n",
              "      <th>target</th>\n",
              "    </tr>\n",
              "  </thead>\n",
              "  <tbody>\n",
              "    <tr>\n",
              "      <th>0</th>\n",
              "      <td>1</td>\n",
              "      <td>10</td>\n",
              "      <td>2392</td>\n",
              "      <td>Ex</td>\n",
              "      <td>3</td>\n",
              "      <td>968</td>\n",
              "      <td>Ex</td>\n",
              "      <td>2392</td>\n",
              "      <td>2392</td>\n",
              "      <td>Ex</td>\n",
              "      <td>2</td>\n",
              "      <td>2003</td>\n",
              "      <td>2003</td>\n",
              "      <td>2003</td>\n",
              "      <td>386250</td>\n",
              "    </tr>\n",
              "    <tr>\n",
              "      <th>1</th>\n",
              "      <td>2</td>\n",
              "      <td>7</td>\n",
              "      <td>1352</td>\n",
              "      <td>Gd</td>\n",
              "      <td>2</td>\n",
              "      <td>466</td>\n",
              "      <td>Gd</td>\n",
              "      <td>1352</td>\n",
              "      <td>1352</td>\n",
              "      <td>Ex</td>\n",
              "      <td>2</td>\n",
              "      <td>2006</td>\n",
              "      <td>2007</td>\n",
              "      <td>2006</td>\n",
              "      <td>194000</td>\n",
              "    </tr>\n",
              "    <tr>\n",
              "      <th>2</th>\n",
              "      <td>3</td>\n",
              "      <td>5</td>\n",
              "      <td>900</td>\n",
              "      <td>TA</td>\n",
              "      <td>1</td>\n",
              "      <td>288</td>\n",
              "      <td>TA</td>\n",
              "      <td>864</td>\n",
              "      <td>900</td>\n",
              "      <td>TA</td>\n",
              "      <td>1</td>\n",
              "      <td>1967</td>\n",
              "      <td>1967</td>\n",
              "      <td>1967</td>\n",
              "      <td>123000</td>\n",
              "    </tr>\n",
              "    <tr>\n",
              "      <th>3</th>\n",
              "      <td>4</td>\n",
              "      <td>5</td>\n",
              "      <td>1174</td>\n",
              "      <td>TA</td>\n",
              "      <td>2</td>\n",
              "      <td>576</td>\n",
              "      <td>Gd</td>\n",
              "      <td>680</td>\n",
              "      <td>680</td>\n",
              "      <td>TA</td>\n",
              "      <td>1</td>\n",
              "      <td>1900</td>\n",
              "      <td>2006</td>\n",
              "      <td>2000</td>\n",
              "      <td>135000</td>\n",
              "    </tr>\n",
              "    <tr>\n",
              "      <th>4</th>\n",
              "      <td>5</td>\n",
              "      <td>7</td>\n",
              "      <td>1958</td>\n",
              "      <td>Gd</td>\n",
              "      <td>3</td>\n",
              "      <td>936</td>\n",
              "      <td>Gd</td>\n",
              "      <td>1026</td>\n",
              "      <td>1026</td>\n",
              "      <td>Gd</td>\n",
              "      <td>2</td>\n",
              "      <td>2005</td>\n",
              "      <td>2005</td>\n",
              "      <td>2005</td>\n",
              "      <td>250000</td>\n",
              "    </tr>\n",
              "  </tbody>\n",
              "</table>\n",
              "</div>\n",
              "      <button class=\"colab-df-convert\" onclick=\"convertToInteractive('df-b765312c-f0af-4f64-b432-e7d04f05f23d')\"\n",
              "              title=\"Convert this dataframe to an interactive table.\"\n",
              "              style=\"display:none;\">\n",
              "        \n",
              "  <svg xmlns=\"http://www.w3.org/2000/svg\" height=\"24px\"viewBox=\"0 0 24 24\"\n",
              "       width=\"24px\">\n",
              "    <path d=\"M0 0h24v24H0V0z\" fill=\"none\"/>\n",
              "    <path d=\"M18.56 5.44l.94 2.06.94-2.06 2.06-.94-2.06-.94-.94-2.06-.94 2.06-2.06.94zm-11 1L8.5 8.5l.94-2.06 2.06-.94-2.06-.94L8.5 2.5l-.94 2.06-2.06.94zm10 10l.94 2.06.94-2.06 2.06-.94-2.06-.94-.94-2.06-.94 2.06-2.06.94z\"/><path d=\"M17.41 7.96l-1.37-1.37c-.4-.4-.92-.59-1.43-.59-.52 0-1.04.2-1.43.59L10.3 9.45l-7.72 7.72c-.78.78-.78 2.05 0 2.83L4 21.41c.39.39.9.59 1.41.59.51 0 1.02-.2 1.41-.59l7.78-7.78 2.81-2.81c.8-.78.8-2.07 0-2.86zM5.41 20L4 18.59l7.72-7.72 1.47 1.35L5.41 20z\"/>\n",
              "  </svg>\n",
              "      </button>\n",
              "      \n",
              "  <style>\n",
              "    .colab-df-container {\n",
              "      display:flex;\n",
              "      flex-wrap:wrap;\n",
              "      gap: 12px;\n",
              "    }\n",
              "\n",
              "    .colab-df-convert {\n",
              "      background-color: #E8F0FE;\n",
              "      border: none;\n",
              "      border-radius: 50%;\n",
              "      cursor: pointer;\n",
              "      display: none;\n",
              "      fill: #1967D2;\n",
              "      height: 32px;\n",
              "      padding: 0 0 0 0;\n",
              "      width: 32px;\n",
              "    }\n",
              "\n",
              "    .colab-df-convert:hover {\n",
              "      background-color: #E2EBFA;\n",
              "      box-shadow: 0px 1px 2px rgba(60, 64, 67, 0.3), 0px 1px 3px 1px rgba(60, 64, 67, 0.15);\n",
              "      fill: #174EA6;\n",
              "    }\n",
              "\n",
              "    [theme=dark] .colab-df-convert {\n",
              "      background-color: #3B4455;\n",
              "      fill: #D2E3FC;\n",
              "    }\n",
              "\n",
              "    [theme=dark] .colab-df-convert:hover {\n",
              "      background-color: #434B5C;\n",
              "      box-shadow: 0px 1px 3px 1px rgba(0, 0, 0, 0.15);\n",
              "      filter: drop-shadow(0px 1px 2px rgba(0, 0, 0, 0.3));\n",
              "      fill: #FFFFFF;\n",
              "    }\n",
              "  </style>\n",
              "\n",
              "      <script>\n",
              "        const buttonEl =\n",
              "          document.querySelector('#df-b765312c-f0af-4f64-b432-e7d04f05f23d button.colab-df-convert');\n",
              "        buttonEl.style.display =\n",
              "          google.colab.kernel.accessAllowed ? 'block' : 'none';\n",
              "\n",
              "        async function convertToInteractive(key) {\n",
              "          const element = document.querySelector('#df-b765312c-f0af-4f64-b432-e7d04f05f23d');\n",
              "          const dataTable =\n",
              "            await google.colab.kernel.invokeFunction('convertToInteractive',\n",
              "                                                     [key], {});\n",
              "          if (!dataTable) return;\n",
              "\n",
              "          const docLinkHtml = 'Like what you see? Visit the ' +\n",
              "            '<a target=\"_blank\" href=https://colab.research.google.com/notebooks/data_table.ipynb>data table notebook</a>'\n",
              "            + ' to learn more about interactive tables.';\n",
              "          element.innerHTML = '';\n",
              "          dataTable['output_type'] = 'display_data';\n",
              "          await google.colab.output.renderOutput(dataTable, element);\n",
              "          const docLink = document.createElement('div');\n",
              "          docLink.innerHTML = docLinkHtml;\n",
              "          element.appendChild(docLink);\n",
              "        }\n",
              "      </script>\n",
              "    </div>\n",
              "  </div>\n",
              "  "
            ],
            "text/plain": [
              "   id  Overall Qual  Gr Liv Area  ... Year Remod/Add  Garage Yr Blt  target\n",
              "0   1            10         2392  ...           2003           2003  386250\n",
              "1   2             7         1352  ...           2007           2006  194000\n",
              "2   3             5          900  ...           1967           1967  123000\n",
              "3   4             5         1174  ...           2006           2000  135000\n",
              "4   5             7         1958  ...           2005           2005  250000\n",
              "\n",
              "[5 rows x 15 columns]"
            ]
          },
          "metadata": {},
          "execution_count": 1
        }
      ],
      "source": [
        "import warnings\n",
        "warnings.filterwarnings(action='ignore')  #경고메세지 무시하기\n",
        "\n",
        "import pandas as pd\n",
        "\n",
        "train_data = pd.read_csv(\"/content/data/train.csv\")\n",
        "sample_submission = pd.read_csv(\"/content/data/sample_submission.csv\")\n",
        "\n",
        "train_data.head()"
      ]
    },
    {
      "cell_type": "markdown",
      "id": "03004945-6c91-49ec-a1c0-024cf61aac8a",
      "metadata": {
        "id": "03004945-6c91-49ec-a1c0-024cf61aac8a"
      },
      "source": [
        "출력된 데이터의 모양을 살펴보면 **총 15개의 열(column)**이 존재하는 것을 확인할 수 있습니다.\n",
        "\n",
        "15 개 중 **2개**는 **id** 와 **target** 열 입니다.\n",
        "\n",
        "데이터를 자세히 살펴보는 것은 EDA 글을 통해 더 자세히 배워봅시다.\n",
        "\n",
        "여기에서는 **분석 방법**에 초점을 맞추겠습니다.\n",
        "\n",
        "데이터를 살펴보면 데이터의 모양이 조금씩 다릅니다.\n",
        "\n",
        "Gr Liv Area, Garage Cars 과 같은 데이터들은 수치를 나타내는 데이터로 **수치형(numerical) 데이터**라고 합니다.\n",
        "\n",
        "반면, Kitchen Qual, Bsmt Qual 와 같은 데이터는 수치가 아닌 종류를 나타내죠. 이러한 데이터를 **범주형(categorical) 데이터**라고 합니다.\n",
        "\n",
        "범주형 데이터의 라벨이 숫자가 아닌 **문자열의 형식으로 저장**되어 있다면 데이터 분석 과정에서 **인코딩(encoding)이 필요**합니다."
      ]
    },
    {
      "cell_type": "markdown",
      "id": "81796818-701f-405c-9f80-568015b69fe9",
      "metadata": {
        "id": "81796818-701f-405c-9f80-568015b69fe9"
      },
      "source": [
        "## 결측치 확인\n",
        "\n",
        "결측치(NA: Not Available)란 값이 누락된 데이터를 말합니다.\n",
        "\n",
        "보다 정확한 분석을 하기 위해서는 데이터의 결측치를 확인하고 적절히 처리해주어야 합니다.\n",
        "\n",
        "이번 데이터에 결측치가 있나 확인해볼까요?"
      ]
    },
    {
      "cell_type": "code",
      "execution_count": 2,
      "id": "85adad87-2c61-42b9-92a4-184cb5dcce76",
      "metadata": {
        "colab": {
          "base_uri": "https://localhost:8080/"
        },
        "id": "85adad87-2c61-42b9-92a4-184cb5dcce76",
        "outputId": "5ca2ae25-e161-49b8-9dd1-a9da04b4df02"
      },
      "outputs": [
        {
          "output_type": "stream",
          "name": "stdout",
          "text": [
            "결측치가 존재하지 않습니다\n"
          ]
        }
      ],
      "source": [
        "def check_missing_col(dataframe):\n",
        "    missing_col = []  #결측치를 가지는 열을 담는 list\n",
        "    counted_missing_col = 0 #결측치를 가지는 열의 개수\n",
        "    for i, col in enumerate(dataframe.columns):\n",
        "        missing_values = sum(dataframe[col].isna()) #열에서 null을 확인한다\n",
        "        is_missing = True if missing_values >= 1 else False #하나라도 결측치가 존재한다면\n",
        "        if is_missing:\n",
        "            counted_missing_col += 1  #결측치를 가지는 열의 개수(counted_missing_col)을 하나 증가시킨다.\n",
        "            print(f'결측치가 있는 컬럼은: {col}입니다')\n",
        "            print(f'해당 컬럼에 총 {missing_values}개의 결측치가 존재합니다.')\n",
        "            missing_col.append([col, dataframe[col].dtype]) #list에 열(column)을 추가한다.\n",
        "    if counted_missing_col == 0:\n",
        "        print('결측치가 존재하지 않습니다')\n",
        "    return missing_col\n",
        "\n",
        "missing_col = check_missing_col(train_data)"
      ]
    },
    {
      "cell_type": "markdown",
      "id": "93eb017c-8fac-4292-9738-b2aa0455b9e9",
      "metadata": {
        "id": "93eb017c-8fac-4292-9738-b2aa0455b9e9"
      },
      "source": [
        "### 라벨 인코딩\n",
        "라벨인코더를 이용해 라벨인코딩을 진행해주려 합니다.\n",
        "\n",
        "**라벨인코딩**이란, **범주형 변수**를 **숫자로 인코딩**해주는 동시에 컴퓨터가 이들이 각각 다른 범주인 것을 인식하도록 각 값을 **0, 1, 2 등의 값으로 구별**하여 인코딩하는 기법을 말합니다.\n",
        "\n",
        "라벨 인코딩 함수를 작성해 직접 변수들을 인코딩하겠습니다."
      ]
    },
    {
      "cell_type": "code",
      "execution_count": 3,
      "id": "c06d75f4-0771-41e7-9339-35000e056215",
      "metadata": {
        "id": "c06d75f4-0771-41e7-9339-35000e056215"
      },
      "outputs": [],
      "source": [
        "#라벨 인코딩을 하기 전 불필요한 열을 제거하고, 범주형 데이터 열과 수치형 데이터 열을 나누어줍니다. \n",
        "train_x = train_data.drop([\"id\",\"target\"],axis=1) #train_data에서 필요없는 id와 target(=y)를 제거(drop메서드 사용)\n",
        "train_y = train_data.target #target특징을 train_data의 y에 담는다\n",
        "\n",
        "num_features = ['Overall Qual', 'Gr Liv Area', 'Garage Cars', #수치형 데이터\n",
        "       'Garage Area', 'Total Bsmt SF', '1st Flr SF',\n",
        "       'Full Bath', 'Year Built', 'Year Remod/Add',\n",
        "       'Garage Yr Blt']\n",
        "\n",
        "cat_features = [\"Exter Qual\", \"Kitchen Qual\",\"Bsmt Qual\"] #범주형 데이터\n",
        "\n",
        "from sklearn.preprocessing import LabelEncoder  #labelencoder를 불러온다\n",
        "\n",
        "le = LabelEncoder() #le라는 변수에 labelencoder를 생성\n",
        "\n",
        "for feature in cat_features:  #범주형 데이터 라벨 인코딩\n",
        "    train_x[feature] = le.fit_transform(train_x[feature])\n",
        "    \n",
        "    #le.fit(X_train)\n",
        "    #train_x[feature] = le.transform(train_x[feature])의 과정과 동일하다."
      ]
    },
    {
      "cell_type": "markdown",
      "id": "f6225ac3-021f-49be-9bd5-c993a04ce0ad",
      "metadata": {
        "id": "f6225ac3-021f-49be-9bd5-c993a04ce0ad"
      },
      "source": [
        "### 정규화 \n",
        "수치형 데이터들을 정규화 시켜줍니다.\n",
        "\n",
        "머신러닝 과정에서 모델은 데이터의 특성(feature)들을 추출해 학습을 진행합니다.\n",
        "\n",
        "하지만 학습을 하는 과정에서 데이터의 값이 너무 크거나, 분산이 너무 크면 학습 과정에 악영향을 끼칠 수 있습니다. \n",
        "\n",
        "따라서 정규화를 통해 데이터 값의 크기를 줄이고 분산을 줄여 모델이 데이터를 이상하게 해석하는 것을 방지합니다.\n",
        "\n",
        "이번 베이스라인에서는 min-max 정규화를 이용해 봅시다.\n",
        "\n",
        "min-max 정규화는 수치형 데이터의 값을 0~1 사이의 값으로 변환해줍니다.\n",
        "\n",
        "min-max 정규화의 수식은 아래와 같습니다.\n",
        "\n",
        "X' = (X - MIN) / (MAX-MIN)"
      ]
    },
    {
      "cell_type": "code",
      "execution_count": 4,
      "id": "b82f27c5-8de6-431a-91f4-32c3dfe86071",
      "metadata": {
        "id": "b82f27c5-8de6-431a-91f4-32c3dfe86071"
      },
      "outputs": [],
      "source": [
        "#정규화를 위한 패키지를 불러옵니다.\n",
        "from sklearn.preprocessing import MinMaxScaler\n",
        "\n",
        "#수치형 데이터를 정규화 시켜줍니다.\n",
        "scaler = MinMaxScaler() #MinMaxScaler 객체 생성\n",
        "train_x[num_features] = scaler.fit_transform(train_x[num_features]) #수치형 데이터에 대해 정규화"
      ]
    },
    {
      "cell_type": "markdown",
      "id": "d056a695-601d-44e9-a0b1-2ac73683345a",
      "metadata": {
        "id": "d056a695-601d-44e9-a0b1-2ac73683345a"
      },
      "source": [
        "### 모델 설계 & 학습\n",
        "\n",
        "#### GridSearchCV 를 사용한 파라미터 최적화\n",
        "\n",
        "이제 **데이터를 전처리하는 과정**이 끝났습니다. 이제 데이터 분석을 위해 **모델을 설계하는 단계**를 진행해야 합니다.\n",
        "\n",
        "우선 사용할 **모델을 선택**하여야 합니다. 사용할 모델은 데이터의 특성, task 의 특성에 알맞게 선택해야 합니다.\n",
        "\n",
        "모델을 선택했다면 **모델의 파라미터를 최적화**하는 과정을 거쳐야 합니다. \n",
        "\n",
        "파라미터란 모델의 설정을 말합니다. 예를 들어 Linear Regression 모델의 경우 y 절편을 0으로 설정할 수 있습니다.\n",
        "\n",
        "파라미터 최적화를 하는 기본적인 방법은 여러 파라미터들을 실험하는 방법입니다.\n",
        "\n",
        "sklearn 은 GridSearchCV 메소드를 제공합니다.\n",
        "\n",
        "우선 **선택한 모델과 비교하고 싶은 파라미터들을 설정**해 줍니다. \n",
        "\n",
        "그 다음 학습 데이터를 나누어줍니다. 예를 들어 학습 데이터를 5개의 배치로 나누어 주었다고 가정 해보겠습니다.\n",
        "\n",
        "5개로 나누어진 데이터 중, 4개의 데이터로 학습을 진행합니다. 그 다음 나머지 1개의 데이터 배치로 성능을 검증합니다.\n",
        "\n",
        "따라서 5번의 학습과 검증이 이루어질 것 입니다. 이때 최상의 성능을 출력하는 파라미터들이 모델의 파라미터로 선택되는 것 입니다.\n",
        "\n",
        "데이터를 n개의 배치로 나누고, 비교하고자 하는 파라미터들의 조합이 m개라면 총 n * m 번의 학습과 검증이 진행되는 것 입니다.\n",
        "\n",
        "따라서 학습 시간이 오래 걸리고, 그에 맞는 컴퓨팅 자원이 필요합니다.\n",
        "\n",
        "이번 베이스라인에서는 GridSearchCV 기법의 개념을 소개하는 방향으로 작성되었습니다.\n",
        "\n",
        "따라서 앙상블 기법에 사용된 세부적인 모델들의 세부적인 개념들을 추후 베이스라인들에서 소개하겠습니다."
      ]
    },
    {
      "cell_type": "code",
      "execution_count": 5,
      "id": "97ccd75e-30d7-49ca-880e-86034bdd1ece",
      "metadata": {
        "id": "97ccd75e-30d7-49ca-880e-86034bdd1ece"
      },
      "outputs": [],
      "source": [
        "#GridSearchCV 를 사용할 모델들을 호출합니다.\n",
        "from sklearn.ensemble import RandomForestRegressor  #랜덤포레스트 모듈\n",
        "from sklearn.ensemble import GradientBoostingRegressor  #그레이디언트 부스팅 모듈\n",
        "from sklearn.ensemble import ExtraTreesRegressor  #익스트림 랜덤트리 모듈\n",
        "\n",
        "from sklearn.model_selection import GridSearchCV  #GridSearchCV: 최적의 하이퍼파라미터를 알려준다\n",
        "\n",
        "#모델들을 할당할 리스트를 만들어줍니다.\n",
        "estimators = []\n",
        "\n",
        "#estimators 리스트에 모델들을 추가해줍니다.\n",
        "rf = RandomForestRegressor()  #랜덤포레스트 생성\n",
        "estimators.append(rf)\n",
        "\n",
        "gbr = GradientBoostingRegressor() #그레이디언트 부스팅 생성\n",
        "estimators.append(gbr)\n",
        "\n",
        "etr = ExtraTreesRegressor() #익스트림 랜덤트리 생성\n",
        "estimators.append(etr)\n",
        "\n",
        "#모들의 파라미터들을 할당할 리스트를 만들어줍니다.\n",
        "params = []\n",
        "\n",
        "# params 리스트에 성능을 비교하고자하는 파라미터들 추가해줍니다.\n",
        "#랜덤포레스트의 인자\n",
        "params_rf = {'n_estimators' : [90, 100, 110, 120],  #[90, 100, 110, 120] 중 최적의 n_estimators인자 결정\n",
        "            'min_samples_split' : [1,2,3,4]}  #[1, 2, 3, 4] 중 최적의 \bmin_samples_split인자 결정\n",
        "params.append(params_rf)\n",
        "\n",
        "#그레이디언트 부스팅의 인자\n",
        "params_gbr = {'loss' : ['huber', 'quantile'],\n",
        "             'learning_rate':[0.05,0.06,0.07,0.08,0.09,0.1,0.11,0.12,0.13,0.14,0.15], #최적의 learning_rate인자 결정\n",
        "             'n_estimators':[60,70,80,90,100,110,120,130,140,150]}  #최적의 n_estimators인자 결정\n",
        "params.append(params_gbr)\n",
        "\n",
        "#익스트림 랜덤트리의 인자\n",
        "params_etr = {'n_estimators' : [50,60,70,80,90,100,110,120,130,140,150]}  #최적의 n_estimators인자 결정\n",
        "params.append(params_etr)"
      ]
    },
    {
      "cell_type": "code",
      "execution_count": 7,
      "id": "ae20071a-34e4-47b9-acc6-31409c54a063",
      "metadata": {
        "colab": {
          "base_uri": "https://localhost:8080/",
          "height": 101,
          "referenced_widgets": [
            "2e3d34a56d8e436480a81b2c3a44e989",
            "6f9486cef1564bb8924d986386f5ecf3",
            "504ea6bf13af4a399d5c74a0582ba130",
            "561da5249e0e4b728463f348e9df34e4",
            "9c63484a483845c2b546cfd227811bfa",
            "f4b91ec4fd104aa5ae5eb6d73e6b57a6",
            "907238b2254d41c383eaed591cda6751",
            "8616d99b96c24d31ad2441a0e595c117",
            "0051ab3913d044bea7ab554aab23ee0a",
            "1ca40f9e4f8a4392a2aee9ee20e2d7d6",
            "781df8c03f0e45f2aa42f580439b7644"
          ]
        },
        "id": "ae20071a-34e4-47b9-acc6-31409c54a063",
        "outputId": "788d54bf-d000-4463-d568-91a612c70c13"
      },
      "outputs": [
        {
          "output_type": "display_data",
          "data": {
            "application/vnd.jupyter.widget-view+json": {
              "model_id": "2e3d34a56d8e436480a81b2c3a44e989",
              "version_minor": 0,
              "version_major": 2
            },
            "text/plain": [
              "  0%|          | 0/3 [00:00<?, ?it/s]"
            ]
          },
          "metadata": {}
        },
        {
          "output_type": "stream",
          "name": "stdout",
          "text": [
            "Fitting 5 folds for each of 16 candidates, totalling 80 fits\n",
            "Fitting 5 folds for each of 220 candidates, totalling 1100 fits\n",
            "Fitting 5 folds for each of 11 candidates, totalling 55 fits\n"
          ]
        }
      ],
      "source": [
        "#GridSearchCV 를 이용해 모델들을 최적화시켜줍니다.\n",
        "from tqdm.auto import tqdm  #프로그램의 진행상황을 확인할 수 있는 모듈\n",
        "def gridSearchCV(models,params):\n",
        "    best_models=[]\n",
        "    for i in tqdm(range(0,len(models))):\n",
        "        model_grid = GridSearchCV(models[i], params[i],n_jobs = -1, verbose=1, cv=5)\n",
        "        model_grid.fit(train_x,train_y) #모델 훈련\n",
        "        best_models.append(model_grid.best_estimator_)\n",
        "    return best_models\n",
        "\n",
        "best_model_list = gridSearchCV(estimators,params)"
      ]
    },
    {
      "cell_type": "code",
      "execution_count": 8,
      "id": "5c1b0370-4788-446a-bcd4-8e54fcd3b8a4",
      "metadata": {
        "colab": {
          "base_uri": "https://localhost:8080/"
        },
        "id": "5c1b0370-4788-446a-bcd4-8e54fcd3b8a4",
        "outputId": "be476c99-e731-4fad-a893-44b386b94e04"
      },
      "outputs": [
        {
          "output_type": "execute_result",
          "data": {
            "text/plain": [
              "[RandomForestRegressor(n_estimators=110),\n",
              " GradientBoostingRegressor(learning_rate=0.08, loss='huber', n_estimators=140),\n",
              " ExtraTreesRegressor(n_estimators=70)]"
            ]
          },
          "metadata": {},
          "execution_count": 8
        }
      ],
      "source": [
        "#GridSerachCV 를 통해 최적화된 모델들을 확인합니다.\n",
        "best_model_list"
      ]
    },
    {
      "cell_type": "markdown",
      "id": "7fe36741-d655-4a3a-a06d-522a684d49d7",
      "metadata": {
        "id": "7fe36741-d655-4a3a-a06d-522a684d49d7"
      },
      "source": [
        "#### 앙상블 모델 학습\n",
        "\n",
        "위 코드에서는 3개의 모델을 선택하여 GridSearchCV 를 통해 각 모델들의 파라미터들을 최적화해주었습니다.\n",
        "\n",
        "그 다음에는 3개의 모델을 모두 활용하여 하나의 모델을 설계해 보겠습니다.\n",
        "\n",
        "앙살블 기법은 \"집단지성\" 으로 부터 아이디어를 얻은 알고리즘입니다.\n",
        " \n",
        "모델 하나의 예측 보다는 여러 모델들의 예측을 종합하여 도출한 예측이 더 정확할 때가 많습니다. \n",
        "\n",
        "Regression 의 경우 각 모델들이 개별로 예측한 값의 평균 값을 도출하는 방식으로 여러 모델들을 조합해줍니다.\n",
        "\n",
        "sklearn 패키지의 VotingRegressor 메소드를 통해 앙상블 모델을 구현할 수 있습니다.\n",
        "\n",
        "GridSearchCV 를 통해 최적의 파라미터들을 찾은 모델들 VotingRegressor 객체에 할당한 후, 학습을 진행합니다.\n",
        "\n",
        "이번 베이스라인에서는 앙상블 기법의 개념을 소개하는 방향으로 작성되었습니다.\n",
        "\n",
        "따라서 앙상블 기법에 사용된 세부적인 모델들의 세부적인 개념들을 추후 베이스라인들에서 소개하겠습니다."
      ]
    },
    {
      "cell_type": "code",
      "execution_count": 9,
      "id": "19cc264b-70f5-4009-9650-a11fac507e83",
      "metadata": {
        "colab": {
          "base_uri": "https://localhost:8080/"
        },
        "id": "19cc264b-70f5-4009-9650-a11fac507e83",
        "outputId": "c7c4a667-1220-445e-da2d-28e18480055e"
      },
      "outputs": [
        {
          "output_type": "execute_result",
          "data": {
            "text/plain": [
              "VotingRegressor(estimators=[('rf', RandomForestRegressor(n_estimators=110)),\n",
              "                            ('GBR',\n",
              "                             GradientBoostingRegressor(learning_rate=0.08,\n",
              "                                                       loss='huber',\n",
              "                                                       n_estimators=140)),\n",
              "                            ('ET', ExtraTreesRegressor(n_estimators=70))])"
            ]
          },
          "metadata": {},
          "execution_count": 9
        }
      ],
      "source": [
        "#GridSearchCV 를 통해 최적화된 모델들을 사용합니다.\n",
        "best_models = [\n",
        "    ('rf', RandomForestRegressor(n_estimators=110)),\n",
        "    ('GBR', GradientBoostingRegressor(learning_rate=0.08, loss='huber', n_estimators=140)),\n",
        "    ('ET', ExtraTreesRegressor(n_estimators=70))\n",
        "]\n",
        "\n",
        "#앙상블 기법을 위한 패키지를 불러옵니다.\n",
        "from sklearn.ensemble import VotingRegressor  #개별예측을 평균하여 최종예측을 형성한다.\n",
        "\n",
        "#앙상블 모델을 학습시켜줍니다.\n",
        "voting_rg = VotingRegressor(estimators=best_models)\n",
        "voting_rg.fit(train_x,train_y)  #앙상블한 모델에 훈련"
      ]
    },
    {
      "cell_type": "markdown",
      "id": "eca202e9-40ba-4250-bc1b-8faf0fbad273",
      "metadata": {
        "id": "eca202e9-40ba-4250-bc1b-8faf0fbad273"
      },
      "source": [
        "### 추론\n",
        "\n",
        "학습 데이터에 했던 전처리 과정(라벨인코딩, 정규화)를 테스트 데이터에도 해줍니다.\n",
        "\n",
        "단, 학습 데이터에 학습된 인코더와 정규화 파라미터를 사용해 주어야 합니다. \n",
        "\n",
        "(테스트 데이터를 학습 시킨 후 인코딩과 정규화를 진행하면 data leakage 에 해당됩니다!)"
      ]
    },
    {
      "cell_type": "code",
      "execution_count": 10,
      "id": "ace9085a-4598-4674-b3ea-f0e540e0ca29",
      "metadata": {
        "id": "ace9085a-4598-4674-b3ea-f0e540e0ca29"
      },
      "outputs": [],
      "source": [
        "test_data = pd.read_csv(\"/content/data/test.csv\")\n",
        "\n",
        "test_x = test_data.drop(\"id\",axis=1)  #id column 제거\n",
        "\n",
        "for feature in cat_features:\n",
        "    test_x[feature] = le.transform(test_x[feature]) #fit 없이 transform만 하는 이유: 새로운 mean값과 variance값을 얻게 test_data가 학습을 하게되기 때문에\n",
        "    \n",
        "test_x[num_features] = scaler.transform(test_x[num_features])"
      ]
    },
    {
      "cell_type": "code",
      "execution_count": 11,
      "id": "6ea6a30c-1858-435d-b839-9d01bcaa3a6b",
      "metadata": {
        "id": "6ea6a30c-1858-435d-b839-9d01bcaa3a6b"
      },
      "outputs": [],
      "source": [
        "#학습된 모델을 통해 test 데이터를 추론합니다.\n",
        "predictions = voting_rg.predict(test_x)\n",
        "\n",
        "sample_submission.target = predictions\n",
        "sample_submission.to_csv(\"submission.csv\",index = False)"
      ]
    },
    {
      "cell_type": "code",
      "execution_count": null,
      "id": "b8ea592a-2dcc-4376-85df-4e23241981d7",
      "metadata": {
        "id": "b8ea592a-2dcc-4376-85df-4e23241981d7"
      },
      "outputs": [],
      "source": [
        ""
      ]
    },
    {
      "cell_type": "code",
      "execution_count": null,
      "id": "a3419491-3b61-4bd6-81ab-1a49960c1dd6",
      "metadata": {
        "id": "a3419491-3b61-4bd6-81ab-1a49960c1dd6"
      },
      "outputs": [],
      "source": [
        ""
      ]
    }
  ],
  "metadata": {
    "interpreter": {
      "hash": "767d51c1340bd893661ea55ea3124f6de3c7a262a8b4abca0554b478b1e2ff90"
    },
    "kernelspec": {
      "display_name": "soobin",
      "language": "python",
      "name": ".env"
    },
    "language_info": {
      "codemirror_mode": {
        "name": "ipython",
        "version": 3
      },
      "file_extension": ".py",
      "mimetype": "text/x-python",
      "name": "python",
      "nbconvert_exporter": "python",
      "pygments_lexer": "ipython3",
      "version": "3.8.3"
    },
    "colab": {
      "name": "[Baseline]2",
      "provenance": []
    },
    "widgets": {
      "application/vnd.jupyter.widget-state+json": {
        "2e3d34a56d8e436480a81b2c3a44e989": {
          "model_module": "@jupyter-widgets/controls",
          "model_name": "HBoxModel",
          "model_module_version": "1.5.0",
          "state": {
            "_view_name": "HBoxView",
            "_dom_classes": [],
            "_model_name": "HBoxModel",
            "_view_module": "@jupyter-widgets/controls",
            "_model_module_version": "1.5.0",
            "_view_count": null,
            "_view_module_version": "1.5.0",
            "box_style": "",
            "layout": "IPY_MODEL_6f9486cef1564bb8924d986386f5ecf3",
            "_model_module": "@jupyter-widgets/controls",
            "children": [
              "IPY_MODEL_504ea6bf13af4a399d5c74a0582ba130",
              "IPY_MODEL_561da5249e0e4b728463f348e9df34e4",
              "IPY_MODEL_9c63484a483845c2b546cfd227811bfa"
            ]
          }
        },
        "6f9486cef1564bb8924d986386f5ecf3": {
          "model_module": "@jupyter-widgets/base",
          "model_name": "LayoutModel",
          "model_module_version": "1.2.0",
          "state": {
            "_view_name": "LayoutView",
            "grid_template_rows": null,
            "right": null,
            "justify_content": null,
            "_view_module": "@jupyter-widgets/base",
            "overflow": null,
            "_model_module_version": "1.2.0",
            "_view_count": null,
            "flex_flow": null,
            "width": null,
            "min_width": null,
            "border": null,
            "align_items": null,
            "bottom": null,
            "_model_module": "@jupyter-widgets/base",
            "top": null,
            "grid_column": null,
            "overflow_y": null,
            "overflow_x": null,
            "grid_auto_flow": null,
            "grid_area": null,
            "grid_template_columns": null,
            "flex": null,
            "_model_name": "LayoutModel",
            "justify_items": null,
            "grid_row": null,
            "max_height": null,
            "align_content": null,
            "visibility": null,
            "align_self": null,
            "height": null,
            "min_height": null,
            "padding": null,
            "grid_auto_rows": null,
            "grid_gap": null,
            "max_width": null,
            "order": null,
            "_view_module_version": "1.2.0",
            "grid_template_areas": null,
            "object_position": null,
            "object_fit": null,
            "grid_auto_columns": null,
            "margin": null,
            "display": null,
            "left": null
          }
        },
        "504ea6bf13af4a399d5c74a0582ba130": {
          "model_module": "@jupyter-widgets/controls",
          "model_name": "HTMLModel",
          "model_module_version": "1.5.0",
          "state": {
            "_view_name": "HTMLView",
            "style": "IPY_MODEL_f4b91ec4fd104aa5ae5eb6d73e6b57a6",
            "_dom_classes": [],
            "description": "",
            "_model_name": "HTMLModel",
            "placeholder": "​",
            "_view_module": "@jupyter-widgets/controls",
            "_model_module_version": "1.5.0",
            "value": "100%",
            "_view_count": null,
            "_view_module_version": "1.5.0",
            "description_tooltip": null,
            "_model_module": "@jupyter-widgets/controls",
            "layout": "IPY_MODEL_907238b2254d41c383eaed591cda6751"
          }
        },
        "561da5249e0e4b728463f348e9df34e4": {
          "model_module": "@jupyter-widgets/controls",
          "model_name": "FloatProgressModel",
          "model_module_version": "1.5.0",
          "state": {
            "_view_name": "ProgressView",
            "style": "IPY_MODEL_8616d99b96c24d31ad2441a0e595c117",
            "_dom_classes": [],
            "description": "",
            "_model_name": "FloatProgressModel",
            "bar_style": "success",
            "max": 3,
            "_view_module": "@jupyter-widgets/controls",
            "_model_module_version": "1.5.0",
            "value": 3,
            "_view_count": null,
            "_view_module_version": "1.5.0",
            "orientation": "horizontal",
            "min": 0,
            "description_tooltip": null,
            "_model_module": "@jupyter-widgets/controls",
            "layout": "IPY_MODEL_0051ab3913d044bea7ab554aab23ee0a"
          }
        },
        "9c63484a483845c2b546cfd227811bfa": {
          "model_module": "@jupyter-widgets/controls",
          "model_name": "HTMLModel",
          "model_module_version": "1.5.0",
          "state": {
            "_view_name": "HTMLView",
            "style": "IPY_MODEL_1ca40f9e4f8a4392a2aee9ee20e2d7d6",
            "_dom_classes": [],
            "description": "",
            "_model_name": "HTMLModel",
            "placeholder": "​",
            "_view_module": "@jupyter-widgets/controls",
            "_model_module_version": "1.5.0",
            "value": " 3/3 [07:51&lt;00:00, 150.01s/it]",
            "_view_count": null,
            "_view_module_version": "1.5.0",
            "description_tooltip": null,
            "_model_module": "@jupyter-widgets/controls",
            "layout": "IPY_MODEL_781df8c03f0e45f2aa42f580439b7644"
          }
        },
        "f4b91ec4fd104aa5ae5eb6d73e6b57a6": {
          "model_module": "@jupyter-widgets/controls",
          "model_name": "DescriptionStyleModel",
          "model_module_version": "1.5.0",
          "state": {
            "_view_name": "StyleView",
            "_model_name": "DescriptionStyleModel",
            "description_width": "",
            "_view_module": "@jupyter-widgets/base",
            "_model_module_version": "1.5.0",
            "_view_count": null,
            "_view_module_version": "1.2.0",
            "_model_module": "@jupyter-widgets/controls"
          }
        },
        "907238b2254d41c383eaed591cda6751": {
          "model_module": "@jupyter-widgets/base",
          "model_name": "LayoutModel",
          "model_module_version": "1.2.0",
          "state": {
            "_view_name": "LayoutView",
            "grid_template_rows": null,
            "right": null,
            "justify_content": null,
            "_view_module": "@jupyter-widgets/base",
            "overflow": null,
            "_model_module_version": "1.2.0",
            "_view_count": null,
            "flex_flow": null,
            "width": null,
            "min_width": null,
            "border": null,
            "align_items": null,
            "bottom": null,
            "_model_module": "@jupyter-widgets/base",
            "top": null,
            "grid_column": null,
            "overflow_y": null,
            "overflow_x": null,
            "grid_auto_flow": null,
            "grid_area": null,
            "grid_template_columns": null,
            "flex": null,
            "_model_name": "LayoutModel",
            "justify_items": null,
            "grid_row": null,
            "max_height": null,
            "align_content": null,
            "visibility": null,
            "align_self": null,
            "height": null,
            "min_height": null,
            "padding": null,
            "grid_auto_rows": null,
            "grid_gap": null,
            "max_width": null,
            "order": null,
            "_view_module_version": "1.2.0",
            "grid_template_areas": null,
            "object_position": null,
            "object_fit": null,
            "grid_auto_columns": null,
            "margin": null,
            "display": null,
            "left": null
          }
        },
        "8616d99b96c24d31ad2441a0e595c117": {
          "model_module": "@jupyter-widgets/controls",
          "model_name": "ProgressStyleModel",
          "model_module_version": "1.5.0",
          "state": {
            "_view_name": "StyleView",
            "_model_name": "ProgressStyleModel",
            "description_width": "",
            "_view_module": "@jupyter-widgets/base",
            "_model_module_version": "1.5.0",
            "_view_count": null,
            "_view_module_version": "1.2.0",
            "bar_color": null,
            "_model_module": "@jupyter-widgets/controls"
          }
        },
        "0051ab3913d044bea7ab554aab23ee0a": {
          "model_module": "@jupyter-widgets/base",
          "model_name": "LayoutModel",
          "model_module_version": "1.2.0",
          "state": {
            "_view_name": "LayoutView",
            "grid_template_rows": null,
            "right": null,
            "justify_content": null,
            "_view_module": "@jupyter-widgets/base",
            "overflow": null,
            "_model_module_version": "1.2.0",
            "_view_count": null,
            "flex_flow": null,
            "width": null,
            "min_width": null,
            "border": null,
            "align_items": null,
            "bottom": null,
            "_model_module": "@jupyter-widgets/base",
            "top": null,
            "grid_column": null,
            "overflow_y": null,
            "overflow_x": null,
            "grid_auto_flow": null,
            "grid_area": null,
            "grid_template_columns": null,
            "flex": null,
            "_model_name": "LayoutModel",
            "justify_items": null,
            "grid_row": null,
            "max_height": null,
            "align_content": null,
            "visibility": null,
            "align_self": null,
            "height": null,
            "min_height": null,
            "padding": null,
            "grid_auto_rows": null,
            "grid_gap": null,
            "max_width": null,
            "order": null,
            "_view_module_version": "1.2.0",
            "grid_template_areas": null,
            "object_position": null,
            "object_fit": null,
            "grid_auto_columns": null,
            "margin": null,
            "display": null,
            "left": null
          }
        },
        "1ca40f9e4f8a4392a2aee9ee20e2d7d6": {
          "model_module": "@jupyter-widgets/controls",
          "model_name": "DescriptionStyleModel",
          "model_module_version": "1.5.0",
          "state": {
            "_view_name": "StyleView",
            "_model_name": "DescriptionStyleModel",
            "description_width": "",
            "_view_module": "@jupyter-widgets/base",
            "_model_module_version": "1.5.0",
            "_view_count": null,
            "_view_module_version": "1.2.0",
            "_model_module": "@jupyter-widgets/controls"
          }
        },
        "781df8c03f0e45f2aa42f580439b7644": {
          "model_module": "@jupyter-widgets/base",
          "model_name": "LayoutModel",
          "model_module_version": "1.2.0",
          "state": {
            "_view_name": "LayoutView",
            "grid_template_rows": null,
            "right": null,
            "justify_content": null,
            "_view_module": "@jupyter-widgets/base",
            "overflow": null,
            "_model_module_version": "1.2.0",
            "_view_count": null,
            "flex_flow": null,
            "width": null,
            "min_width": null,
            "border": null,
            "align_items": null,
            "bottom": null,
            "_model_module": "@jupyter-widgets/base",
            "top": null,
            "grid_column": null,
            "overflow_y": null,
            "overflow_x": null,
            "grid_auto_flow": null,
            "grid_area": null,
            "grid_template_columns": null,
            "flex": null,
            "_model_name": "LayoutModel",
            "justify_items": null,
            "grid_row": null,
            "max_height": null,
            "align_content": null,
            "visibility": null,
            "align_self": null,
            "height": null,
            "min_height": null,
            "padding": null,
            "grid_auto_rows": null,
            "grid_gap": null,
            "max_width": null,
            "order": null,
            "_view_module_version": "1.2.0",
            "grid_template_areas": null,
            "object_position": null,
            "object_fit": null,
            "grid_auto_columns": null,
            "margin": null,
            "display": null,
            "left": null
          }
        }
      }
    }
  },
  "nbformat": 4,
  "nbformat_minor": 5
}