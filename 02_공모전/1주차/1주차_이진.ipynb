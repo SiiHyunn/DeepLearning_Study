{
  "nbformat": 4,
  "nbformat_minor": 0,
  "metadata": {
    "colab": {
      "name": "집값 예측 문제",
      "provenance": [],
      "collapsed_sections": []
    },
    "kernelspec": {
      "name": "python3",
      "display_name": "Python 3"
    },
    "language_info": {
      "name": "python"
    },
    "accelerator": "GPU"
  },
  "cells": [
    {
      "cell_type": "code",
      "execution_count": null,
      "metadata": {
        "id": "EgOJQZsVo0io"
      },
      "outputs": [],
      "source": [
        "import numpy as np\n",
        "import pandas as pd\n",
        "import seaborn as sns\n",
        "import matplotlib.pyplot as plt"
      ]
    },
    {
      "cell_type": "markdown",
      "source": [
        "# 데이터셋 불러오기"
      ],
      "metadata": {
        "id": "ngbbgmeSp26w"
      }
    },
    {
      "cell_type": "code",
      "source": [
        "train = pd.read_csv('/content/housing_dataset/train.csv')\n",
        "test = pd.read_csv('/content/housing_dataset/test.csv')"
      ],
      "metadata": {
        "id": "fsWfGJi1pjnE"
      },
      "execution_count": null,
      "outputs": []
    },
    {
      "cell_type": "markdown",
      "source": [
        "# 데이터 확인"
      ],
      "metadata": {
        "id": "oawwbcXEt2vc"
      }
    },
    {
      "cell_type": "code",
      "source": [
        "train.head() #5번째 행까지의 train data 확인"
      ],
      "metadata": {
        "colab": {
          "base_uri": "https://localhost:8080/",
          "height": 285
        },
        "id": "62LH7FPKqGH-",
        "outputId": "2baaf16e-befe-49b4-d4c3-1851d76086d0"
      },
      "execution_count": null,
      "outputs": [
        {
          "output_type": "execute_result",
          "data": {
            "text/html": [
              "\n",
              "  <div id=\"df-4d36e45b-05d8-4bd7-856d-d38c21b0420a\">\n",
              "    <div class=\"colab-df-container\">\n",
              "      <div>\n",
              "<style scoped>\n",
              "    .dataframe tbody tr th:only-of-type {\n",
              "        vertical-align: middle;\n",
              "    }\n",
              "\n",
              "    .dataframe tbody tr th {\n",
              "        vertical-align: top;\n",
              "    }\n",
              "\n",
              "    .dataframe thead th {\n",
              "        text-align: right;\n",
              "    }\n",
              "</style>\n",
              "<table border=\"1\" class=\"dataframe\">\n",
              "  <thead>\n",
              "    <tr style=\"text-align: right;\">\n",
              "      <th></th>\n",
              "      <th>id</th>\n",
              "      <th>Overall Qual</th>\n",
              "      <th>Gr Liv Area</th>\n",
              "      <th>Exter Qual</th>\n",
              "      <th>Garage Cars</th>\n",
              "      <th>Garage Area</th>\n",
              "      <th>Kitchen Qual</th>\n",
              "      <th>Total Bsmt SF</th>\n",
              "      <th>1st Flr SF</th>\n",
              "      <th>Bsmt Qual</th>\n",
              "      <th>Full Bath</th>\n",
              "      <th>Year Built</th>\n",
              "      <th>Year Remod/Add</th>\n",
              "      <th>Garage Yr Blt</th>\n",
              "      <th>target</th>\n",
              "    </tr>\n",
              "  </thead>\n",
              "  <tbody>\n",
              "    <tr>\n",
              "      <th>0</th>\n",
              "      <td>1</td>\n",
              "      <td>10</td>\n",
              "      <td>2392</td>\n",
              "      <td>Ex</td>\n",
              "      <td>3</td>\n",
              "      <td>968</td>\n",
              "      <td>Ex</td>\n",
              "      <td>2392</td>\n",
              "      <td>2392</td>\n",
              "      <td>Ex</td>\n",
              "      <td>2</td>\n",
              "      <td>2003</td>\n",
              "      <td>2003</td>\n",
              "      <td>2003</td>\n",
              "      <td>386250</td>\n",
              "    </tr>\n",
              "    <tr>\n",
              "      <th>1</th>\n",
              "      <td>2</td>\n",
              "      <td>7</td>\n",
              "      <td>1352</td>\n",
              "      <td>Gd</td>\n",
              "      <td>2</td>\n",
              "      <td>466</td>\n",
              "      <td>Gd</td>\n",
              "      <td>1352</td>\n",
              "      <td>1352</td>\n",
              "      <td>Ex</td>\n",
              "      <td>2</td>\n",
              "      <td>2006</td>\n",
              "      <td>2007</td>\n",
              "      <td>2006</td>\n",
              "      <td>194000</td>\n",
              "    </tr>\n",
              "    <tr>\n",
              "      <th>2</th>\n",
              "      <td>3</td>\n",
              "      <td>5</td>\n",
              "      <td>900</td>\n",
              "      <td>TA</td>\n",
              "      <td>1</td>\n",
              "      <td>288</td>\n",
              "      <td>TA</td>\n",
              "      <td>864</td>\n",
              "      <td>900</td>\n",
              "      <td>TA</td>\n",
              "      <td>1</td>\n",
              "      <td>1967</td>\n",
              "      <td>1967</td>\n",
              "      <td>1967</td>\n",
              "      <td>123000</td>\n",
              "    </tr>\n",
              "    <tr>\n",
              "      <th>3</th>\n",
              "      <td>4</td>\n",
              "      <td>5</td>\n",
              "      <td>1174</td>\n",
              "      <td>TA</td>\n",
              "      <td>2</td>\n",
              "      <td>576</td>\n",
              "      <td>Gd</td>\n",
              "      <td>680</td>\n",
              "      <td>680</td>\n",
              "      <td>TA</td>\n",
              "      <td>1</td>\n",
              "      <td>1900</td>\n",
              "      <td>2006</td>\n",
              "      <td>2000</td>\n",
              "      <td>135000</td>\n",
              "    </tr>\n",
              "    <tr>\n",
              "      <th>4</th>\n",
              "      <td>5</td>\n",
              "      <td>7</td>\n",
              "      <td>1958</td>\n",
              "      <td>Gd</td>\n",
              "      <td>3</td>\n",
              "      <td>936</td>\n",
              "      <td>Gd</td>\n",
              "      <td>1026</td>\n",
              "      <td>1026</td>\n",
              "      <td>Gd</td>\n",
              "      <td>2</td>\n",
              "      <td>2005</td>\n",
              "      <td>2005</td>\n",
              "      <td>2005</td>\n",
              "      <td>250000</td>\n",
              "    </tr>\n",
              "  </tbody>\n",
              "</table>\n",
              "</div>\n",
              "      <button class=\"colab-df-convert\" onclick=\"convertToInteractive('df-4d36e45b-05d8-4bd7-856d-d38c21b0420a')\"\n",
              "              title=\"Convert this dataframe to an interactive table.\"\n",
              "              style=\"display:none;\">\n",
              "        \n",
              "  <svg xmlns=\"http://www.w3.org/2000/svg\" height=\"24px\"viewBox=\"0 0 24 24\"\n",
              "       width=\"24px\">\n",
              "    <path d=\"M0 0h24v24H0V0z\" fill=\"none\"/>\n",
              "    <path d=\"M18.56 5.44l.94 2.06.94-2.06 2.06-.94-2.06-.94-.94-2.06-.94 2.06-2.06.94zm-11 1L8.5 8.5l.94-2.06 2.06-.94-2.06-.94L8.5 2.5l-.94 2.06-2.06.94zm10 10l.94 2.06.94-2.06 2.06-.94-2.06-.94-.94-2.06-.94 2.06-2.06.94z\"/><path d=\"M17.41 7.96l-1.37-1.37c-.4-.4-.92-.59-1.43-.59-.52 0-1.04.2-1.43.59L10.3 9.45l-7.72 7.72c-.78.78-.78 2.05 0 2.83L4 21.41c.39.39.9.59 1.41.59.51 0 1.02-.2 1.41-.59l7.78-7.78 2.81-2.81c.8-.78.8-2.07 0-2.86zM5.41 20L4 18.59l7.72-7.72 1.47 1.35L5.41 20z\"/>\n",
              "  </svg>\n",
              "      </button>\n",
              "      \n",
              "  <style>\n",
              "    .colab-df-container {\n",
              "      display:flex;\n",
              "      flex-wrap:wrap;\n",
              "      gap: 12px;\n",
              "    }\n",
              "\n",
              "    .colab-df-convert {\n",
              "      background-color: #E8F0FE;\n",
              "      border: none;\n",
              "      border-radius: 50%;\n",
              "      cursor: pointer;\n",
              "      display: none;\n",
              "      fill: #1967D2;\n",
              "      height: 32px;\n",
              "      padding: 0 0 0 0;\n",
              "      width: 32px;\n",
              "    }\n",
              "\n",
              "    .colab-df-convert:hover {\n",
              "      background-color: #E2EBFA;\n",
              "      box-shadow: 0px 1px 2px rgba(60, 64, 67, 0.3), 0px 1px 3px 1px rgba(60, 64, 67, 0.15);\n",
              "      fill: #174EA6;\n",
              "    }\n",
              "\n",
              "    [theme=dark] .colab-df-convert {\n",
              "      background-color: #3B4455;\n",
              "      fill: #D2E3FC;\n",
              "    }\n",
              "\n",
              "    [theme=dark] .colab-df-convert:hover {\n",
              "      background-color: #434B5C;\n",
              "      box-shadow: 0px 1px 3px 1px rgba(0, 0, 0, 0.15);\n",
              "      filter: drop-shadow(0px 1px 2px rgba(0, 0, 0, 0.3));\n",
              "      fill: #FFFFFF;\n",
              "    }\n",
              "  </style>\n",
              "\n",
              "      <script>\n",
              "        const buttonEl =\n",
              "          document.querySelector('#df-4d36e45b-05d8-4bd7-856d-d38c21b0420a button.colab-df-convert');\n",
              "        buttonEl.style.display =\n",
              "          google.colab.kernel.accessAllowed ? 'block' : 'none';\n",
              "\n",
              "        async function convertToInteractive(key) {\n",
              "          const element = document.querySelector('#df-4d36e45b-05d8-4bd7-856d-d38c21b0420a');\n",
              "          const dataTable =\n",
              "            await google.colab.kernel.invokeFunction('convertToInteractive',\n",
              "                                                     [key], {});\n",
              "          if (!dataTable) return;\n",
              "\n",
              "          const docLinkHtml = 'Like what you see? Visit the ' +\n",
              "            '<a target=\"_blank\" href=https://colab.research.google.com/notebooks/data_table.ipynb>data table notebook</a>'\n",
              "            + ' to learn more about interactive tables.';\n",
              "          element.innerHTML = '';\n",
              "          dataTable['output_type'] = 'display_data';\n",
              "          await google.colab.output.renderOutput(dataTable, element);\n",
              "          const docLink = document.createElement('div');\n",
              "          docLink.innerHTML = docLinkHtml;\n",
              "          element.appendChild(docLink);\n",
              "        }\n",
              "      </script>\n",
              "    </div>\n",
              "  </div>\n",
              "  "
            ],
            "text/plain": [
              "   id  Overall Qual  Gr Liv Area  ... Year Remod/Add  Garage Yr Blt  target\n",
              "0   1            10         2392  ...           2003           2003  386250\n",
              "1   2             7         1352  ...           2007           2006  194000\n",
              "2   3             5          900  ...           1967           1967  123000\n",
              "3   4             5         1174  ...           2006           2000  135000\n",
              "4   5             7         1958  ...           2005           2005  250000\n",
              "\n",
              "[5 rows x 15 columns]"
            ]
          },
          "metadata": {},
          "execution_count": 6
        }
      ]
    },
    {
      "cell_type": "markdown",
      "source": [
        "# 특징 확인"
      ],
      "metadata": {
        "id": "NX6yV47jqsFr"
      }
    },
    {
      "cell_type": "code",
      "source": [
        "train.columns #train data의 열 정보(feature) 확인"
      ],
      "metadata": {
        "colab": {
          "base_uri": "https://localhost:8080/"
        },
        "id": "zx4anb5lqo0k",
        "outputId": "f4d13c7e-fd9e-4f75-afd8-887d092fe040"
      },
      "execution_count": null,
      "outputs": [
        {
          "output_type": "execute_result",
          "data": {
            "text/plain": [
              "Index(['id', 'Overall Qual', 'Gr Liv Area', 'Exter Qual', 'Garage Cars',\n",
              "       'Garage Area', 'Kitchen Qual', 'Total Bsmt SF', '1st Flr SF',\n",
              "       'Bsmt Qual', 'Full Bath', 'Year Built', 'Year Remod/Add',\n",
              "       'Garage Yr Blt', 'target'],\n",
              "      dtype='object')"
            ]
          },
          "metadata": {},
          "execution_count": 7
        }
      ]
    },
    {
      "cell_type": "markdown",
      "source": [
        "Year Built : 완공 연도\n",
        "\n",
        "Year Remod/Add : 리모델링 연도\n",
        "\n",
        "Garage Yr Blt : 차고 완공 연도\n",
        "\n",
        "Overall Qual : 전반적 재료와 마감 품질\n",
        "\n",
        "Exter Qual : 외관 재료 품질\n",
        "\n",
        "Bsmt Qual : 지하실 높이\n",
        "\n",
        "Kitchen Qual : 부엌 품질\n",
        "\n",
        "Gr Liv Area : 지상층 생활 면적\n",
        "\n",
        "Total Bsmt SF : 지하실 면적\n",
        "\n",
        "1st Fls SF : 1층 면적\n",
        "\n",
        "Garage Area : 차고 면적\n",
        "\n",
        "Full Bath : 지하층 화장실 갯수\n",
        "\n",
        "Garage Cars : 차고 자리 개수"
      ],
      "metadata": {
        "id": "xDlSz4QduJe-"
      }
    },
    {
      "cell_type": "markdown",
      "source": [
        "# 결측치 확인"
      ],
      "metadata": {
        "id": "xLil68S5qBEI"
      }
    },
    {
      "cell_type": "code",
      "source": [
        "train.isnull().sum() #정상적인 값이 아닌 null이 들어있는지 확인"
      ],
      "metadata": {
        "colab": {
          "base_uri": "https://localhost:8080/"
        },
        "id": "Ac_EsrPTppvA",
        "outputId": "75c09bda-6da9-4ca7-be3f-d5e0def6265a"
      },
      "execution_count": null,
      "outputs": [
        {
          "output_type": "execute_result",
          "data": {
            "text/plain": [
              "id                0\n",
              "Overall Qual      0\n",
              "Gr Liv Area       0\n",
              "Exter Qual        0\n",
              "Garage Cars       0\n",
              "Garage Area       0\n",
              "Kitchen Qual      0\n",
              "Total Bsmt SF     0\n",
              "1st Flr SF        0\n",
              "Bsmt Qual         0\n",
              "Full Bath         0\n",
              "Year Built        0\n",
              "Year Remod/Add    0\n",
              "Garage Yr Blt     0\n",
              "target            0\n",
              "dtype: int64"
            ]
          },
          "metadata": {},
          "execution_count": 4
        }
      ]
    },
    {
      "cell_type": "code",
      "source": [
        "test.isnull().sum() #정상적인 값이 아닌 null이 들어있는지 확인"
      ],
      "metadata": {
        "colab": {
          "base_uri": "https://localhost:8080/"
        },
        "id": "WygvCfHCpx0M",
        "outputId": "4beb669d-efb5-4450-adef-cfc78b0103b1"
      },
      "execution_count": null,
      "outputs": [
        {
          "output_type": "execute_result",
          "data": {
            "text/plain": [
              "id                0\n",
              "Overall Qual      0\n",
              "Gr Liv Area       0\n",
              "Exter Qual        0\n",
              "Garage Cars       0\n",
              "Garage Area       0\n",
              "Kitchen Qual      0\n",
              "Total Bsmt SF     0\n",
              "1st Flr SF        0\n",
              "Bsmt Qual         0\n",
              "Full Bath         0\n",
              "Year Built        0\n",
              "Year Remod/Add    0\n",
              "Garage Yr Blt     0\n",
              "dtype: int64"
            ]
          },
          "metadata": {},
          "execution_count": 5
        }
      ]
    },
    {
      "cell_type": "markdown",
      "source": [
        "# 연도 관련 데이터 변환"
      ],
      "metadata": {
        "id": "RMM3KjnLu8c_"
      }
    },
    {
      "cell_type": "code",
      "source": [
        "train['Year Built']=2022-train['Year Built']\n",
        "train['Year Remod/Add']=2022-train['Year Remod/Add']\n",
        "train['Garage Yr Blt']=2022-train['Garage Yr Blt']\n",
        "test['Year Built']=2022-test['Year Built']\n",
        "test['Year Remod/Add']=2022-test['Year Remod/Add']\n",
        "test['Garage Yr Blt']=2022-test['Garage Yr Blt']"
      ],
      "metadata": {
        "id": "VE1LYkcOvBfa"
      },
      "execution_count": null,
      "outputs": []
    },
    {
      "cell_type": "markdown",
      "source": [
        "# 특징 간 상관관계 확인"
      ],
      "metadata": {
        "id": "cJPimOwmwGV-"
      }
    },
    {
      "cell_type": "code",
      "source": [
        "data_corr = train.corr() #corr()함수는 데이터 프레임의 열 사이의 상관 관계를 찾는다\n",
        "\n",
        "data_corr"
      ],
      "metadata": {
        "colab": {
          "base_uri": "https://localhost:8080/",
          "height": 539
        },
        "id": "qFKQSc9AwBwx",
        "outputId": "880c65d6-3033-4a34-a137-23750ab04f5f"
      },
      "execution_count": null,
      "outputs": [
        {
          "output_type": "execute_result",
          "data": {
            "text/html": [
              "\n",
              "  <div id=\"df-f98c5180-a9ca-4c2b-ab9d-2b22a1de5840\">\n",
              "    <div class=\"colab-df-container\">\n",
              "      <div>\n",
              "<style scoped>\n",
              "    .dataframe tbody tr th:only-of-type {\n",
              "        vertical-align: middle;\n",
              "    }\n",
              "\n",
              "    .dataframe tbody tr th {\n",
              "        vertical-align: top;\n",
              "    }\n",
              "\n",
              "    .dataframe thead th {\n",
              "        text-align: right;\n",
              "    }\n",
              "</style>\n",
              "<table border=\"1\" class=\"dataframe\">\n",
              "  <thead>\n",
              "    <tr style=\"text-align: right;\">\n",
              "      <th></th>\n",
              "      <th>id</th>\n",
              "      <th>Overall Qual</th>\n",
              "      <th>Gr Liv Area</th>\n",
              "      <th>Garage Cars</th>\n",
              "      <th>Garage Area</th>\n",
              "      <th>Total Bsmt SF</th>\n",
              "      <th>1st Flr SF</th>\n",
              "      <th>Full Bath</th>\n",
              "      <th>Year Built</th>\n",
              "      <th>Year Remod/Add</th>\n",
              "      <th>Garage Yr Blt</th>\n",
              "      <th>target</th>\n",
              "    </tr>\n",
              "  </thead>\n",
              "  <tbody>\n",
              "    <tr>\n",
              "      <th>id</th>\n",
              "      <td>1.000000</td>\n",
              "      <td>0.009727</td>\n",
              "      <td>0.010232</td>\n",
              "      <td>0.005031</td>\n",
              "      <td>0.026733</td>\n",
              "      <td>0.031217</td>\n",
              "      <td>0.022935</td>\n",
              "      <td>-0.012976</td>\n",
              "      <td>0.014630</td>\n",
              "      <td>0.012683</td>\n",
              "      <td>0.043364</td>\n",
              "      <td>0.022934</td>\n",
              "    </tr>\n",
              "    <tr>\n",
              "      <th>Overall Qual</th>\n",
              "      <td>0.009727</td>\n",
              "      <td>1.000000</td>\n",
              "      <td>0.588243</td>\n",
              "      <td>0.571066</td>\n",
              "      <td>0.517218</td>\n",
              "      <td>0.509058</td>\n",
              "      <td>0.476398</td>\n",
              "      <td>0.554248</td>\n",
              "      <td>-0.582875</td>\n",
              "      <td>-0.579142</td>\n",
              "      <td>-0.553927</td>\n",
              "      <td>0.810607</td>\n",
              "    </tr>\n",
              "    <tr>\n",
              "      <th>Gr Liv Area</th>\n",
              "      <td>0.010232</td>\n",
              "      <td>0.588243</td>\n",
              "      <td>1.000000</td>\n",
              "      <td>0.516287</td>\n",
              "      <td>0.480863</td>\n",
              "      <td>0.419220</td>\n",
              "      <td>0.522535</td>\n",
              "      <td>0.612423</td>\n",
              "      <td>-0.232281</td>\n",
              "      <td>-0.315723</td>\n",
              "      <td>-0.261861</td>\n",
              "      <td>0.742061</td>\n",
              "    </tr>\n",
              "    <tr>\n",
              "      <th>Garage Cars</th>\n",
              "      <td>0.005031</td>\n",
              "      <td>0.571066</td>\n",
              "      <td>0.516287</td>\n",
              "      <td>1.000000</td>\n",
              "      <td>0.840054</td>\n",
              "      <td>0.466017</td>\n",
              "      <td>0.445017</td>\n",
              "      <td>0.513078</td>\n",
              "      <td>-0.505803</td>\n",
              "      <td>-0.433307</td>\n",
              "      <td>-0.562320</td>\n",
              "      <td>0.634497</td>\n",
              "    </tr>\n",
              "    <tr>\n",
              "      <th>Garage Area</th>\n",
              "      <td>0.026733</td>\n",
              "      <td>0.517218</td>\n",
              "      <td>0.480863</td>\n",
              "      <td>0.840054</td>\n",
              "      <td>1.000000</td>\n",
              "      <td>0.499634</td>\n",
              "      <td>0.485843</td>\n",
              "      <td>0.418852</td>\n",
              "      <td>-0.445816</td>\n",
              "      <td>-0.364369</td>\n",
              "      <td>-0.536310</td>\n",
              "      <td>0.617151</td>\n",
              "    </tr>\n",
              "    <tr>\n",
              "      <th>Total Bsmt SF</th>\n",
              "      <td>0.031217</td>\n",
              "      <td>0.509058</td>\n",
              "      <td>0.419220</td>\n",
              "      <td>0.466017</td>\n",
              "      <td>0.499634</td>\n",
              "      <td>1.000000</td>\n",
              "      <td>0.868811</td>\n",
              "      <td>0.367648</td>\n",
              "      <td>-0.403767</td>\n",
              "      <td>-0.265506</td>\n",
              "      <td>-0.347908</td>\n",
              "      <td>0.664047</td>\n",
              "    </tr>\n",
              "    <tr>\n",
              "      <th>1st Flr SF</th>\n",
              "      <td>0.022935</td>\n",
              "      <td>0.476398</td>\n",
              "      <td>0.522535</td>\n",
              "      <td>0.445017</td>\n",
              "      <td>0.485843</td>\n",
              "      <td>0.868811</td>\n",
              "      <td>1.000000</td>\n",
              "      <td>0.370299</td>\n",
              "      <td>-0.290443</td>\n",
              "      <td>-0.236692</td>\n",
              "      <td>-0.259898</td>\n",
              "      <td>0.646843</td>\n",
              "    </tr>\n",
              "    <tr>\n",
              "      <th>Full Bath</th>\n",
              "      <td>-0.012976</td>\n",
              "      <td>0.554248</td>\n",
              "      <td>0.612423</td>\n",
              "      <td>0.513078</td>\n",
              "      <td>0.418852</td>\n",
              "      <td>0.367648</td>\n",
              "      <td>0.370299</td>\n",
              "      <td>1.000000</td>\n",
              "      <td>-0.508745</td>\n",
              "      <td>-0.472537</td>\n",
              "      <td>-0.498692</td>\n",
              "      <td>0.554453</td>\n",
              "    </tr>\n",
              "    <tr>\n",
              "      <th>Year Built</th>\n",
              "      <td>0.014630</td>\n",
              "      <td>-0.582875</td>\n",
              "      <td>-0.232281</td>\n",
              "      <td>-0.505803</td>\n",
              "      <td>-0.445816</td>\n",
              "      <td>-0.403767</td>\n",
              "      <td>-0.290443</td>\n",
              "      <td>-0.508745</td>\n",
              "      <td>1.000000</td>\n",
              "      <td>0.616008</td>\n",
              "      <td>0.815615</td>\n",
              "      <td>-0.546037</td>\n",
              "    </tr>\n",
              "    <tr>\n",
              "      <th>Year Remod/Add</th>\n",
              "      <td>0.012683</td>\n",
              "      <td>-0.579142</td>\n",
              "      <td>-0.315723</td>\n",
              "      <td>-0.433307</td>\n",
              "      <td>-0.364369</td>\n",
              "      <td>-0.265506</td>\n",
              "      <td>-0.236692</td>\n",
              "      <td>-0.472537</td>\n",
              "      <td>0.616008</td>\n",
              "      <td>1.000000</td>\n",
              "      <td>0.644251</td>\n",
              "      <td>-0.529477</td>\n",
              "    </tr>\n",
              "    <tr>\n",
              "      <th>Garage Yr Blt</th>\n",
              "      <td>0.043364</td>\n",
              "      <td>-0.553927</td>\n",
              "      <td>-0.261861</td>\n",
              "      <td>-0.562320</td>\n",
              "      <td>-0.536310</td>\n",
              "      <td>-0.347908</td>\n",
              "      <td>-0.259898</td>\n",
              "      <td>-0.498692</td>\n",
              "      <td>0.815615</td>\n",
              "      <td>0.644251</td>\n",
              "      <td>1.000000</td>\n",
              "      <td>-0.517973</td>\n",
              "    </tr>\n",
              "    <tr>\n",
              "      <th>target</th>\n",
              "      <td>0.022934</td>\n",
              "      <td>0.810607</td>\n",
              "      <td>0.742061</td>\n",
              "      <td>0.634497</td>\n",
              "      <td>0.617151</td>\n",
              "      <td>0.664047</td>\n",
              "      <td>0.646843</td>\n",
              "      <td>0.554453</td>\n",
              "      <td>-0.546037</td>\n",
              "      <td>-0.529477</td>\n",
              "      <td>-0.517973</td>\n",
              "      <td>1.000000</td>\n",
              "    </tr>\n",
              "  </tbody>\n",
              "</table>\n",
              "</div>\n",
              "      <button class=\"colab-df-convert\" onclick=\"convertToInteractive('df-f98c5180-a9ca-4c2b-ab9d-2b22a1de5840')\"\n",
              "              title=\"Convert this dataframe to an interactive table.\"\n",
              "              style=\"display:none;\">\n",
              "        \n",
              "  <svg xmlns=\"http://www.w3.org/2000/svg\" height=\"24px\"viewBox=\"0 0 24 24\"\n",
              "       width=\"24px\">\n",
              "    <path d=\"M0 0h24v24H0V0z\" fill=\"none\"/>\n",
              "    <path d=\"M18.56 5.44l.94 2.06.94-2.06 2.06-.94-2.06-.94-.94-2.06-.94 2.06-2.06.94zm-11 1L8.5 8.5l.94-2.06 2.06-.94-2.06-.94L8.5 2.5l-.94 2.06-2.06.94zm10 10l.94 2.06.94-2.06 2.06-.94-2.06-.94-.94-2.06-.94 2.06-2.06.94z\"/><path d=\"M17.41 7.96l-1.37-1.37c-.4-.4-.92-.59-1.43-.59-.52 0-1.04.2-1.43.59L10.3 9.45l-7.72 7.72c-.78.78-.78 2.05 0 2.83L4 21.41c.39.39.9.59 1.41.59.51 0 1.02-.2 1.41-.59l7.78-7.78 2.81-2.81c.8-.78.8-2.07 0-2.86zM5.41 20L4 18.59l7.72-7.72 1.47 1.35L5.41 20z\"/>\n",
              "  </svg>\n",
              "      </button>\n",
              "      \n",
              "  <style>\n",
              "    .colab-df-container {\n",
              "      display:flex;\n",
              "      flex-wrap:wrap;\n",
              "      gap: 12px;\n",
              "    }\n",
              "\n",
              "    .colab-df-convert {\n",
              "      background-color: #E8F0FE;\n",
              "      border: none;\n",
              "      border-radius: 50%;\n",
              "      cursor: pointer;\n",
              "      display: none;\n",
              "      fill: #1967D2;\n",
              "      height: 32px;\n",
              "      padding: 0 0 0 0;\n",
              "      width: 32px;\n",
              "    }\n",
              "\n",
              "    .colab-df-convert:hover {\n",
              "      background-color: #E2EBFA;\n",
              "      box-shadow: 0px 1px 2px rgba(60, 64, 67, 0.3), 0px 1px 3px 1px rgba(60, 64, 67, 0.15);\n",
              "      fill: #174EA6;\n",
              "    }\n",
              "\n",
              "    [theme=dark] .colab-df-convert {\n",
              "      background-color: #3B4455;\n",
              "      fill: #D2E3FC;\n",
              "    }\n",
              "\n",
              "    [theme=dark] .colab-df-convert:hover {\n",
              "      background-color: #434B5C;\n",
              "      box-shadow: 0px 1px 3px 1px rgba(0, 0, 0, 0.15);\n",
              "      filter: drop-shadow(0px 1px 2px rgba(0, 0, 0, 0.3));\n",
              "      fill: #FFFFFF;\n",
              "    }\n",
              "  </style>\n",
              "\n",
              "      <script>\n",
              "        const buttonEl =\n",
              "          document.querySelector('#df-f98c5180-a9ca-4c2b-ab9d-2b22a1de5840 button.colab-df-convert');\n",
              "        buttonEl.style.display =\n",
              "          google.colab.kernel.accessAllowed ? 'block' : 'none';\n",
              "\n",
              "        async function convertToInteractive(key) {\n",
              "          const element = document.querySelector('#df-f98c5180-a9ca-4c2b-ab9d-2b22a1de5840');\n",
              "          const dataTable =\n",
              "            await google.colab.kernel.invokeFunction('convertToInteractive',\n",
              "                                                     [key], {});\n",
              "          if (!dataTable) return;\n",
              "\n",
              "          const docLinkHtml = 'Like what you see? Visit the ' +\n",
              "            '<a target=\"_blank\" href=https://colab.research.google.com/notebooks/data_table.ipynb>data table notebook</a>'\n",
              "            + ' to learn more about interactive tables.';\n",
              "          element.innerHTML = '';\n",
              "          dataTable['output_type'] = 'display_data';\n",
              "          await google.colab.output.renderOutput(dataTable, element);\n",
              "          const docLink = document.createElement('div');\n",
              "          docLink.innerHTML = docLinkHtml;\n",
              "          element.appendChild(docLink);\n",
              "        }\n",
              "      </script>\n",
              "    </div>\n",
              "  </div>\n",
              "  "
            ],
            "text/plain": [
              "                      id  Overall Qual  ...  Garage Yr Blt    target\n",
              "id              1.000000      0.009727  ...       0.043364  0.022934\n",
              "Overall Qual    0.009727      1.000000  ...      -0.553927  0.810607\n",
              "Gr Liv Area     0.010232      0.588243  ...      -0.261861  0.742061\n",
              "Garage Cars     0.005031      0.571066  ...      -0.562320  0.634497\n",
              "Garage Area     0.026733      0.517218  ...      -0.536310  0.617151\n",
              "Total Bsmt SF   0.031217      0.509058  ...      -0.347908  0.664047\n",
              "1st Flr SF      0.022935      0.476398  ...      -0.259898  0.646843\n",
              "Full Bath      -0.012976      0.554248  ...      -0.498692  0.554453\n",
              "Year Built      0.014630     -0.582875  ...       0.815615 -0.546037\n",
              "Year Remod/Add  0.012683     -0.579142  ...       0.644251 -0.529477\n",
              "Garage Yr Blt   0.043364     -0.553927  ...       1.000000 -0.517973\n",
              "target          0.022934      0.810607  ...      -0.517973  1.000000\n",
              "\n",
              "[12 rows x 12 columns]"
            ]
          },
          "metadata": {},
          "execution_count": 15
        }
      ]
    },
    {
      "cell_type": "markdown",
      "source": [
        "# 특징 간 상관관계 히트맵 시각화"
      ],
      "metadata": {
        "id": "f6xiJzT6wMYu"
      }
    },
    {
      "cell_type": "code",
      "source": [
        "plt.figure(figsize=(10,10))\n",
        "sns.set(font_scale=0.8)\n",
        "sns.heatmap(data_corr, annot=True, cbar=False) #히트맵 시각화\n",
        "plt.show()"
      ],
      "metadata": {
        "colab": {
          "base_uri": "https://localhost:8080/",
          "height": 656
        },
        "id": "2QPTCe4Cvbi6",
        "outputId": "095263a6-e079-4c4f-e325-6edc179e645d"
      },
      "execution_count": null,
      "outputs": [
        {
          "output_type": "display_data",
          "data": {
            "image/png": "[encoded data removed]",
            "text/plain": [
              "<Figure size 720x720 with 1 Axes>"
            ]
          },
          "metadata": {
            "needs_background": "light"
          }
        }
      ]
    },
    {
      "cell_type": "markdown",
      "source": [
        "→ target과의 상관관계 변수가 **음수**여도 상관없다. (절대값으로 보기때문)"
      ],
      "metadata": {
        "id": "gzdfuGLDxDUf"
      }
    },
    {
      "cell_type": "markdown",
      "source": [
        "# Train 데이터에서 **target**과 관계성이 가장 떨어지는 **id**와 **Overall Qual**과 비슷한 특징인 **Exter Qual, Kitchen Qual, Bsmt Qual** 제거\n",
        "# train_x와 train_y, test_x 생성"
      ],
      "metadata": {
        "id": "Xnv9T-5ozrSi"
      }
    },
    {
      "cell_type": "code",
      "source": [
        "train_x = train.drop(['id','target','Overall Qual','Exter Qual','Kitchen Qual','Bsmt Qual'], axis=1) #id와 target, 그리고 Overall Qual을 제외한 Qual 특징 제거\n",
        "train_y = train['target']\n",
        "\n",
        "test_x = test.drop(['id','Overall Qual','Exter Qual','Kitchen Qual','Bsmt Qual'], axis=1) #id와 Overall Qual을 제외한 Qual 특징 제거"
      ],
      "metadata": {
        "id": "1HZIrLq3xYFW"
      },
      "execution_count": null,
      "outputs": []
    },
    {
      "cell_type": "code",
      "source": [
        "train_x"
      ],
      "metadata": {
        "colab": {
          "base_uri": "https://localhost:8080/",
          "height": 424
        },
        "id": "1fDZHw7KzqIo",
        "outputId": "d06cf407-99b8-457f-bc68-f0332fb2aee6"
      },
      "execution_count": null,
      "outputs": [
        {
          "output_type": "execute_result",
          "data": {
            "text/html": [
              "\n",
              "  <div id=\"df-d7eb963c-5595-42f4-a032-a9c8b702eaca\">\n",
              "    <div class=\"colab-df-container\">\n",
              "      <div>\n",
              "<style scoped>\n",
              "    .dataframe tbody tr th:only-of-type {\n",
              "        vertical-align: middle;\n",
              "    }\n",
              "\n",
              "    .dataframe tbody tr th {\n",
              "        vertical-align: top;\n",
              "    }\n",
              "\n",
              "    .dataframe thead th {\n",
              "        text-align: right;\n",
              "    }\n",
              "</style>\n",
              "<table border=\"1\" class=\"dataframe\">\n",
              "  <thead>\n",
              "    <tr style=\"text-align: right;\">\n",
              "      <th></th>\n",
              "      <th>Gr Liv Area</th>\n",
              "      <th>Garage Cars</th>\n",
              "      <th>Garage Area</th>\n",
              "      <th>Total Bsmt SF</th>\n",
              "      <th>1st Flr SF</th>\n",
              "      <th>Full Bath</th>\n",
              "      <th>Year Built</th>\n",
              "      <th>Year Remod/Add</th>\n",
              "      <th>Garage Yr Blt</th>\n",
              "    </tr>\n",
              "  </thead>\n",
              "  <tbody>\n",
              "    <tr>\n",
              "      <th>0</th>\n",
              "      <td>2392</td>\n",
              "      <td>3</td>\n",
              "      <td>968</td>\n",
              "      <td>2392</td>\n",
              "      <td>2392</td>\n",
              "      <td>2</td>\n",
              "      <td>19</td>\n",
              "      <td>19</td>\n",
              "      <td>19</td>\n",
              "    </tr>\n",
              "    <tr>\n",
              "      <th>1</th>\n",
              "      <td>1352</td>\n",
              "      <td>2</td>\n",
              "      <td>466</td>\n",
              "      <td>1352</td>\n",
              "      <td>1352</td>\n",
              "      <td>2</td>\n",
              "      <td>16</td>\n",
              "      <td>15</td>\n",
              "      <td>16</td>\n",
              "    </tr>\n",
              "    <tr>\n",
              "      <th>2</th>\n",
              "      <td>900</td>\n",
              "      <td>1</td>\n",
              "      <td>288</td>\n",
              "      <td>864</td>\n",
              "      <td>900</td>\n",
              "      <td>1</td>\n",
              "      <td>55</td>\n",
              "      <td>55</td>\n",
              "      <td>55</td>\n",
              "    </tr>\n",
              "    <tr>\n",
              "      <th>3</th>\n",
              "      <td>1174</td>\n",
              "      <td>2</td>\n",
              "      <td>576</td>\n",
              "      <td>680</td>\n",
              "      <td>680</td>\n",
              "      <td>1</td>\n",
              "      <td>122</td>\n",
              "      <td>16</td>\n",
              "      <td>22</td>\n",
              "    </tr>\n",
              "    <tr>\n",
              "      <th>4</th>\n",
              "      <td>1958</td>\n",
              "      <td>3</td>\n",
              "      <td>936</td>\n",
              "      <td>1026</td>\n",
              "      <td>1026</td>\n",
              "      <td>2</td>\n",
              "      <td>17</td>\n",
              "      <td>17</td>\n",
              "      <td>17</td>\n",
              "    </tr>\n",
              "    <tr>\n",
              "      <th>...</th>\n",
              "      <td>...</td>\n",
              "      <td>...</td>\n",
              "      <td>...</td>\n",
              "      <td>...</td>\n",
              "      <td>...</td>\n",
              "      <td>...</td>\n",
              "      <td>...</td>\n",
              "      <td>...</td>\n",
              "      <td>...</td>\n",
              "    </tr>\n",
              "    <tr>\n",
              "      <th>1345</th>\n",
              "      <td>1756</td>\n",
              "      <td>2</td>\n",
              "      <td>422</td>\n",
              "      <td>872</td>\n",
              "      <td>888</td>\n",
              "      <td>2</td>\n",
              "      <td>26</td>\n",
              "      <td>25</td>\n",
              "      <td>26</td>\n",
              "    </tr>\n",
              "    <tr>\n",
              "      <th>1346</th>\n",
              "      <td>2748</td>\n",
              "      <td>3</td>\n",
              "      <td>850</td>\n",
              "      <td>1850</td>\n",
              "      <td>1850</td>\n",
              "      <td>2</td>\n",
              "      <td>16</td>\n",
              "      <td>16</td>\n",
              "      <td>16</td>\n",
              "    </tr>\n",
              "    <tr>\n",
              "      <th>1347</th>\n",
              "      <td>1214</td>\n",
              "      <td>1</td>\n",
              "      <td>318</td>\n",
              "      <td>1214</td>\n",
              "      <td>1214</td>\n",
              "      <td>2</td>\n",
              "      <td>55</td>\n",
              "      <td>55</td>\n",
              "      <td>55</td>\n",
              "    </tr>\n",
              "    <tr>\n",
              "      <th>1348</th>\n",
              "      <td>894</td>\n",
              "      <td>2</td>\n",
              "      <td>440</td>\n",
              "      <td>864</td>\n",
              "      <td>894</td>\n",
              "      <td>1</td>\n",
              "      <td>48</td>\n",
              "      <td>48</td>\n",
              "      <td>48</td>\n",
              "    </tr>\n",
              "    <tr>\n",
              "      <th>1349</th>\n",
              "      <td>907</td>\n",
              "      <td>1</td>\n",
              "      <td>343</td>\n",
              "      <td>907</td>\n",
              "      <td>907</td>\n",
              "      <td>1</td>\n",
              "      <td>44</td>\n",
              "      <td>44</td>\n",
              "      <td>44</td>\n",
              "    </tr>\n",
              "  </tbody>\n",
              "</table>\n",
              "<p>1350 rows × 9 columns</p>\n",
              "</div>\n",
              "      <button class=\"colab-df-convert\" onclick=\"convertToInteractive('df-d7eb963c-5595-42f4-a032-a9c8b702eaca')\"\n",
              "              title=\"Convert this dataframe to an interactive table.\"\n",
              "              style=\"display:none;\">\n",
              "        \n",
              "  <svg xmlns=\"http://www.w3.org/2000/svg\" height=\"24px\"viewBox=\"0 0 24 24\"\n",
              "       width=\"24px\">\n",
              "    <path d=\"M0 0h24v24H0V0z\" fill=\"none\"/>\n",
              "    <path d=\"M18.56 5.44l.94 2.06.94-2.06 2.06-.94-2.06-.94-.94-2.06-.94 2.06-2.06.94zm-11 1L8.5 8.5l.94-2.06 2.06-.94-2.06-.94L8.5 2.5l-.94 2.06-2.06.94zm10 10l.94 2.06.94-2.06 2.06-.94-2.06-.94-.94-2.06-.94 2.06-2.06.94z\"/><path d=\"M17.41 7.96l-1.37-1.37c-.4-.4-.92-.59-1.43-.59-.52 0-1.04.2-1.43.59L10.3 9.45l-7.72 7.72c-.78.78-.78 2.05 0 2.83L4 21.41c.39.39.9.59 1.41.59.51 0 1.02-.2 1.41-.59l7.78-7.78 2.81-2.81c.8-.78.8-2.07 0-2.86zM5.41 20L4 18.59l7.72-7.72 1.47 1.35L5.41 20z\"/>\n",
              "  </svg>\n",
              "      </button>\n",
              "      \n",
              "  <style>\n",
              "    .colab-df-container {\n",
              "      display:flex;\n",
              "      flex-wrap:wrap;\n",
              "      gap: 12px;\n",
              "    }\n",
              "\n",
              "    .colab-df-convert {\n",
              "      background-color: #E8F0FE;\n",
              "      border: none;\n",
              "      border-radius: 50%;\n",
              "      cursor: pointer;\n",
              "      display: none;\n",
              "      fill: #1967D2;\n",
              "      height: 32px;\n",
              "      padding: 0 0 0 0;\n",
              "      width: 32px;\n",
              "    }\n",
              "\n",
              "    .colab-df-convert:hover {\n",
              "      background-color: #E2EBFA;\n",
              "      box-shadow: 0px 1px 2px rgba(60, 64, 67, 0.3), 0px 1px 3px 1px rgba(60, 64, 67, 0.15);\n",
              "      fill: #174EA6;\n",
              "    }\n",
              "\n",
              "    [theme=dark] .colab-df-convert {\n",
              "      background-color: #3B4455;\n",
              "      fill: #D2E3FC;\n",
              "    }\n",
              "\n",
              "    [theme=dark] .colab-df-convert:hover {\n",
              "      background-color: #434B5C;\n",
              "      box-shadow: 0px 1px 3px 1px rgba(0, 0, 0, 0.15);\n",
              "      filter: drop-shadow(0px 1px 2px rgba(0, 0, 0, 0.3));\n",
              "      fill: #FFFFFF;\n",
              "    }\n",
              "  </style>\n",
              "\n",
              "      <script>\n",
              "        const buttonEl =\n",
              "          document.querySelector('#df-d7eb963c-5595-42f4-a032-a9c8b702eaca button.colab-df-convert');\n",
              "        buttonEl.style.display =\n",
              "          google.colab.kernel.accessAllowed ? 'block' : 'none';\n",
              "\n",
              "        async function convertToInteractive(key) {\n",
              "          const element = document.querySelector('#df-d7eb963c-5595-42f4-a032-a9c8b702eaca');\n",
              "          const dataTable =\n",
              "            await google.colab.kernel.invokeFunction('convertToInteractive',\n",
              "                                                     [key], {});\n",
              "          if (!dataTable) return;\n",
              "\n",
              "          const docLinkHtml = 'Like what you see? Visit the ' +\n",
              "            '<a target=\"_blank\" href=https://colab.research.google.com/notebooks/data_table.ipynb>data table notebook</a>'\n",
              "            + ' to learn more about interactive tables.';\n",
              "          element.innerHTML = '';\n",
              "          dataTable['output_type'] = 'display_data';\n",
              "          await google.colab.output.renderOutput(dataTable, element);\n",
              "          const docLink = document.createElement('div');\n",
              "          docLink.innerHTML = docLinkHtml;\n",
              "          element.appendChild(docLink);\n",
              "        }\n",
              "      </script>\n",
              "    </div>\n",
              "  </div>\n",
              "  "
            ],
            "text/plain": [
              "      Gr Liv Area  Garage Cars  ...  Year Remod/Add  Garage Yr Blt\n",
              "0            2392            3  ...              19             19\n",
              "1            1352            2  ...              15             16\n",
              "2             900            1  ...              55             55\n",
              "3            1174            2  ...              16             22\n",
              "4            1958            3  ...              17             17\n",
              "...           ...          ...  ...             ...            ...\n",
              "1345         1756            2  ...              25             26\n",
              "1346         2748            3  ...              16             16\n",
              "1347         1214            1  ...              55             55\n",
              "1348          894            2  ...              48             48\n",
              "1349          907            1  ...              44             44\n",
              "\n",
              "[1350 rows x 9 columns]"
            ]
          },
          "metadata": {},
          "execution_count": 29
        }
      ]
    },
    {
      "cell_type": "markdown",
      "source": [
        "# 랜덤포레스트 모델 생성"
      ],
      "metadata": {
        "id": "S0wZJip30bhe"
      }
    },
    {
      "cell_type": "code",
      "source": [
        "from sklearn.ensemble import RandomForestClassifier\n",
        "\n",
        "model = RandomForestClassifier(n_estimators= 100)\n",
        "\n",
        "model.fit(train_x,train_y)"
      ],
      "metadata": {
        "colab": {
          "base_uri": "https://localhost:8080/"
        },
        "id": "KxKxMTJH0agZ",
        "outputId": "b6e58b07-feef-4a5b-c54d-0aaa19872c31"
      },
      "execution_count": null,
      "outputs": [
        {
          "output_type": "execute_result",
          "data": {
            "text/plain": [
              "RandomForestClassifier()"
            ]
          },
          "metadata": {},
          "execution_count": 30
        }
      ]
    },
    {
      "cell_type": "markdown",
      "source": [
        "# Train 데이터 평가"
      ],
      "metadata": {
        "id": "LWJK1muY1cWW"
      }
    },
    {
      "cell_type": "code",
      "source": [
        "model.score(train_x, train_y)"
      ],
      "metadata": {
        "colab": {
          "base_uri": "https://localhost:8080/"
        },
        "id": "o73iaA1H1TiE",
        "outputId": "7880d166-7fde-4ecc-a0bb-0ed24f72f308"
      },
      "execution_count": null,
      "outputs": [
        {
          "output_type": "execute_result",
          "data": {
            "text/plain": [
              "0.04148148148148148"
            ]
          },
          "metadata": {},
          "execution_count": 39
        }
      ]
    },
    {
      "cell_type": "markdown",
      "source": [
        "# 모델 평가 및 제출"
      ],
      "metadata": {
        "id": "PvXzfM3R2AB6"
      }
    },
    {
      "cell_type": "code",
      "source": [
        "test_y_pred = model.predict(test_x)"
      ],
      "metadata": {
        "id": "tpKBey1m1uGD"
      },
      "execution_count": null,
      "outputs": []
    },
    {
      "cell_type": "code",
      "source": [
        "from sklearn import metrics\n",
        "\n",
        "print(f\"Accuracy: {metrics.accuracy_score(train_y, test_y_pred)}\")"
      ],
      "metadata": {
        "colab": {
          "base_uri": "https://localhost:8080/"
        },
        "id": "J5jugLwS10lJ",
        "outputId": "7f1788ea-dd76-4286-a179-75ece8c54aca"
      },
      "execution_count": null,
      "outputs": [
        {
          "output_type": "stream",
          "name": "stdout",
          "text": [
            "Accuracy: 0.005925925925925926\n"
          ]
        }
      ]
    },
    {
      "cell_type": "code",
      "source": [
        "submission = pd.read_csv(\"/content/housing_dataset/sample_submission.csv\")\n",
        "submission['target'] = test_y_pred"
      ],
      "metadata": {
        "id": "vC2sEMWp35PV"
      },
      "execution_count": null,
      "outputs": []
    },
    {
      "cell_type": "code",
      "source": [
        "submission.to_csv('베이스 라인2 .csv', index = False)"
      ],
      "metadata": {
        "id": "OKh0ggh04SL5"
      },
      "execution_count": null,
      "outputs": []
    }
  ]
}