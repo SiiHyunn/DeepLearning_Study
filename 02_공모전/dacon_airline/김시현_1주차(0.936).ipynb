{
 "cells": [
  {
   "cell_type": "markdown",
   "metadata": {},
   "source": [
    "# Airlines\n",
    "\n",
    "> 대회 안내\n",
    "- target : 0 or 1 -> 분류\n",
    "\n",
    "> 평가 산식\n",
    "- Accuracy"
   ]
  },
  {
   "cell_type": "code",
   "execution_count": 1,
   "metadata": {
    "ExecuteTime": {
     "end_time": "2022-02-12T12:23:43.097201Z",
     "start_time": "2022-02-12T12:23:41.951736Z"
    }
   },
   "outputs": [],
   "source": [
    "import pandas as pd\n",
    "import numpy as np\n",
    "import matplotlib\n",
    "import matplotlib.pyplot as plt\n",
    "import seaborn as sns\n",
    "\n",
    "from scipy import stats\n",
    "\n",
    "import warnings\n",
    "warnings.filterwarnings('ignore')\n",
    "\n",
    "%matplotlib inline\n",
    "matplotlib.rc('figure', facecolor='w', edgecolor='w')"
   ]
  },
  {
   "cell_type": "markdown",
   "metadata": {},
   "source": [
    "# Data\n",
    "\n",
    "> Null\n",
    "- Null 값은 없음"
   ]
  },
  {
   "cell_type": "code",
   "execution_count": 2,
   "metadata": {
    "ExecuteTime": {
     "end_time": "2022-02-12T12:23:44.158229Z",
     "start_time": "2022-02-12T12:23:44.069426Z"
    }
   },
   "outputs": [],
   "source": [
    "df_train = pd.read_csv('./data/train.csv')\n",
    "df_test = pd.read_csv('./data/test.csv')"
   ]
  },
  {
   "cell_type": "code",
   "execution_count": 3,
   "metadata": {
    "ExecuteTime": {
     "end_time": "2022-02-12T12:23:44.535007Z",
     "start_time": "2022-02-12T12:23:44.515877Z"
    }
   },
   "outputs": [],
   "source": [
    "# id 행 제거\n",
    "df_train.drop('id', axis=1, inplace=True)\n",
    "df_test.drop('id', axis=1, inplace=True)"
   ]
  },
  {
   "cell_type": "code",
   "execution_count": 4,
   "metadata": {
    "ExecuteTime": {
     "end_time": "2022-02-12T12:23:44.848515Z",
     "start_time": "2022-02-12T12:23:44.834514Z"
    }
   },
   "outputs": [
    {
     "name": "stdout",
     "output_type": "stream",
     "text": [
      "train's shape : (3000, 23)\n",
      "test's shape : (2000, 22)\n"
     ]
    }
   ],
   "source": [
    "print(\"train's shape : {}\".format(df_train.shape))\n",
    "print(\"test's shape : {}\".format(df_test.shape))"
   ]
  },
  {
   "cell_type": "code",
   "execution_count": 5,
   "metadata": {
    "ExecuteTime": {
     "end_time": "2022-02-12T12:23:45.281077Z",
     "start_time": "2022-02-12T12:23:45.256099Z"
    }
   },
   "outputs": [
    {
     "name": "stdout",
     "output_type": "stream",
     "text": [
      "<class 'pandas.core.frame.DataFrame'>\n",
      "RangeIndex: 3000 entries, 0 to 2999\n",
      "Data columns (total 23 columns):\n",
      " #   Column                             Non-Null Count  Dtype  \n",
      "---  ------                             --------------  -----  \n",
      " 0   Gender                             3000 non-null   object \n",
      " 1   Customer Type                      3000 non-null   object \n",
      " 2   Age                                3000 non-null   int64  \n",
      " 3   Type of Travel                     3000 non-null   object \n",
      " 4   Class                              3000 non-null   object \n",
      " 5   Flight Distance                    3000 non-null   int64  \n",
      " 6   Seat comfort                       3000 non-null   int64  \n",
      " 7   Departure/Arrival time convenient  3000 non-null   int64  \n",
      " 8   Food and drink                     3000 non-null   int64  \n",
      " 9   Gate location                      3000 non-null   int64  \n",
      " 10  Inflight wifi service              3000 non-null   int64  \n",
      " 11  Inflight entertainment             3000 non-null   int64  \n",
      " 12  Online support                     3000 non-null   int64  \n",
      " 13  Ease of Online booking             3000 non-null   int64  \n",
      " 14  On-board service                   3000 non-null   int64  \n",
      " 15  Leg room service                   3000 non-null   int64  \n",
      " 16  Baggage handling                   3000 non-null   int64  \n",
      " 17  Checkin service                    3000 non-null   int64  \n",
      " 18  Cleanliness                        3000 non-null   int64  \n",
      " 19  Online boarding                    3000 non-null   int64  \n",
      " 20  Departure Delay in Minutes         3000 non-null   int64  \n",
      " 21  Arrival Delay in Minutes           3000 non-null   float64\n",
      " 22  target                             3000 non-null   int64  \n",
      "dtypes: float64(1), int64(18), object(4)\n",
      "memory usage: 539.2+ KB\n"
     ]
    }
   ],
   "source": [
    "df_train.info()"
   ]
  },
  {
   "cell_type": "code",
   "execution_count": 6,
   "metadata": {
    "ExecuteTime": {
     "end_time": "2022-02-12T12:23:45.906155Z",
     "start_time": "2022-02-12T12:23:45.873131Z"
    }
   },
   "outputs": [
    {
     "data": {
      "text/html": [
       "<div>\n",
       "<style scoped>\n",
       "    .dataframe tbody tr th:only-of-type {\n",
       "        vertical-align: middle;\n",
       "    }\n",
       "\n",
       "    .dataframe tbody tr th {\n",
       "        vertical-align: top;\n",
       "    }\n",
       "\n",
       "    .dataframe thead th {\n",
       "        text-align: right;\n",
       "    }\n",
       "</style>\n",
       "<table border=\"1\" class=\"dataframe\">\n",
       "  <thead>\n",
       "    <tr style=\"text-align: right;\">\n",
       "      <th></th>\n",
       "      <th>Gender</th>\n",
       "      <th>Customer Type</th>\n",
       "      <th>Age</th>\n",
       "      <th>Type of Travel</th>\n",
       "      <th>Class</th>\n",
       "      <th>Flight Distance</th>\n",
       "      <th>Seat comfort</th>\n",
       "      <th>Departure/Arrival time convenient</th>\n",
       "      <th>Food and drink</th>\n",
       "      <th>Gate location</th>\n",
       "      <th>...</th>\n",
       "      <th>Ease of Online booking</th>\n",
       "      <th>On-board service</th>\n",
       "      <th>Leg room service</th>\n",
       "      <th>Baggage handling</th>\n",
       "      <th>Checkin service</th>\n",
       "      <th>Cleanliness</th>\n",
       "      <th>Online boarding</th>\n",
       "      <th>Departure Delay in Minutes</th>\n",
       "      <th>Arrival Delay in Minutes</th>\n",
       "      <th>target</th>\n",
       "    </tr>\n",
       "  </thead>\n",
       "  <tbody>\n",
       "    <tr>\n",
       "      <th>0</th>\n",
       "      <td>Female</td>\n",
       "      <td>disloyal Customer</td>\n",
       "      <td>22</td>\n",
       "      <td>Business travel</td>\n",
       "      <td>Eco</td>\n",
       "      <td>1599</td>\n",
       "      <td>3</td>\n",
       "      <td>0</td>\n",
       "      <td>3</td>\n",
       "      <td>3</td>\n",
       "      <td>...</td>\n",
       "      <td>4</td>\n",
       "      <td>5</td>\n",
       "      <td>4</td>\n",
       "      <td>4</td>\n",
       "      <td>4</td>\n",
       "      <td>5</td>\n",
       "      <td>4</td>\n",
       "      <td>0</td>\n",
       "      <td>0.0</td>\n",
       "      <td>0</td>\n",
       "    </tr>\n",
       "    <tr>\n",
       "      <th>1</th>\n",
       "      <td>Female</td>\n",
       "      <td>Loyal Customer</td>\n",
       "      <td>37</td>\n",
       "      <td>Business travel</td>\n",
       "      <td>Business</td>\n",
       "      <td>2810</td>\n",
       "      <td>2</td>\n",
       "      <td>4</td>\n",
       "      <td>4</td>\n",
       "      <td>4</td>\n",
       "      <td>...</td>\n",
       "      <td>5</td>\n",
       "      <td>5</td>\n",
       "      <td>4</td>\n",
       "      <td>2</td>\n",
       "      <td>1</td>\n",
       "      <td>5</td>\n",
       "      <td>2</td>\n",
       "      <td>18</td>\n",
       "      <td>18.0</td>\n",
       "      <td>0</td>\n",
       "    </tr>\n",
       "    <tr>\n",
       "      <th>2</th>\n",
       "      <td>Male</td>\n",
       "      <td>Loyal Customer</td>\n",
       "      <td>46</td>\n",
       "      <td>Business travel</td>\n",
       "      <td>Business</td>\n",
       "      <td>2622</td>\n",
       "      <td>1</td>\n",
       "      <td>1</td>\n",
       "      <td>1</td>\n",
       "      <td>1</td>\n",
       "      <td>...</td>\n",
       "      <td>4</td>\n",
       "      <td>4</td>\n",
       "      <td>4</td>\n",
       "      <td>4</td>\n",
       "      <td>5</td>\n",
       "      <td>4</td>\n",
       "      <td>3</td>\n",
       "      <td>0</td>\n",
       "      <td>0.0</td>\n",
       "      <td>1</td>\n",
       "    </tr>\n",
       "    <tr>\n",
       "      <th>3</th>\n",
       "      <td>Female</td>\n",
       "      <td>disloyal Customer</td>\n",
       "      <td>24</td>\n",
       "      <td>Business travel</td>\n",
       "      <td>Eco</td>\n",
       "      <td>2348</td>\n",
       "      <td>3</td>\n",
       "      <td>3</td>\n",
       "      <td>3</td>\n",
       "      <td>3</td>\n",
       "      <td>...</td>\n",
       "      <td>3</td>\n",
       "      <td>2</td>\n",
       "      <td>4</td>\n",
       "      <td>5</td>\n",
       "      <td>3</td>\n",
       "      <td>4</td>\n",
       "      <td>3</td>\n",
       "      <td>10</td>\n",
       "      <td>2.0</td>\n",
       "      <td>0</td>\n",
       "    </tr>\n",
       "    <tr>\n",
       "      <th>4</th>\n",
       "      <td>Female</td>\n",
       "      <td>Loyal Customer</td>\n",
       "      <td>58</td>\n",
       "      <td>Business travel</td>\n",
       "      <td>Business</td>\n",
       "      <td>105</td>\n",
       "      <td>3</td>\n",
       "      <td>3</td>\n",
       "      <td>3</td>\n",
       "      <td>3</td>\n",
       "      <td>...</td>\n",
       "      <td>4</td>\n",
       "      <td>4</td>\n",
       "      <td>4</td>\n",
       "      <td>4</td>\n",
       "      <td>4</td>\n",
       "      <td>4</td>\n",
       "      <td>5</td>\n",
       "      <td>0</td>\n",
       "      <td>0.0</td>\n",
       "      <td>1</td>\n",
       "    </tr>\n",
       "  </tbody>\n",
       "</table>\n",
       "<p>5 rows × 23 columns</p>\n",
       "</div>"
      ],
      "text/plain": [
       "   Gender      Customer Type  Age   Type of Travel     Class  Flight Distance  \\\n",
       "0  Female  disloyal Customer   22  Business travel       Eco             1599   \n",
       "1  Female     Loyal Customer   37  Business travel  Business             2810   \n",
       "2    Male     Loyal Customer   46  Business travel  Business             2622   \n",
       "3  Female  disloyal Customer   24  Business travel       Eco             2348   \n",
       "4  Female     Loyal Customer   58  Business travel  Business              105   \n",
       "\n",
       "   Seat comfort  Departure/Arrival time convenient  Food and drink  \\\n",
       "0             3                                  0               3   \n",
       "1             2                                  4               4   \n",
       "2             1                                  1               1   \n",
       "3             3                                  3               3   \n",
       "4             3                                  3               3   \n",
       "\n",
       "   Gate location  ...  Ease of Online booking  On-board service  \\\n",
       "0              3  ...                       4                 5   \n",
       "1              4  ...                       5                 5   \n",
       "2              1  ...                       4                 4   \n",
       "3              3  ...                       3                 2   \n",
       "4              3  ...                       4                 4   \n",
       "\n",
       "   Leg room service  Baggage handling  Checkin service  Cleanliness  \\\n",
       "0                 4                 4                4            5   \n",
       "1                 4                 2                1            5   \n",
       "2                 4                 4                5            4   \n",
       "3                 4                 5                3            4   \n",
       "4                 4                 4                4            4   \n",
       "\n",
       "   Online boarding  Departure Delay in Minutes  Arrival Delay in Minutes  \\\n",
       "0                4                           0                       0.0   \n",
       "1                2                          18                      18.0   \n",
       "2                3                           0                       0.0   \n",
       "3                3                          10                       2.0   \n",
       "4                5                           0                       0.0   \n",
       "\n",
       "   target  \n",
       "0       0  \n",
       "1       0  \n",
       "2       1  \n",
       "3       0  \n",
       "4       1  \n",
       "\n",
       "[5 rows x 23 columns]"
      ]
     },
     "execution_count": 6,
     "metadata": {},
     "output_type": "execute_result"
    }
   ],
   "source": [
    "df_train.head()"
   ]
  },
  {
   "cell_type": "code",
   "execution_count": 7,
   "metadata": {
    "ExecuteTime": {
     "end_time": "2022-02-12T12:23:47.280811Z",
     "start_time": "2022-02-12T12:23:46.839237Z"
    }
   },
   "outputs": [
    {
     "data": {
      "text/plain": [
       "<matplotlib.axes._subplots.AxesSubplot at 0x18237d3f9d0>"
      ]
     },
     "execution_count": 7,
     "metadata": {},
     "output_type": "execute_result"
    },
    {
     "data": {
      "image/png": "[encoded data removed]",
      "text/plain": [
       "<Figure size 1800x720 with 2 Axes>"
      ]
     },
     "metadata": {},
     "output_type": "display_data"
    }
   ],
   "source": [
    "import missingno as msno\n",
    "msno.matrix(df_train)"
   ]
  },
  {
   "cell_type": "markdown",
   "metadata": {},
   "source": [
    "# EDA"
   ]
  },
  {
   "cell_type": "code",
   "execution_count": 8,
   "metadata": {
    "ExecuteTime": {
     "end_time": "2022-02-12T12:23:52.437413Z",
     "start_time": "2022-02-12T12:23:52.416465Z"
    }
   },
   "outputs": [
    {
     "data": {
      "text/plain": [
       "Index(['Gender', 'Customer Type', 'Age', 'Type of Travel', 'Class',\n",
       "       'Flight Distance', 'Seat comfort', 'Departure/Arrival time convenient',\n",
       "       'Food and drink', 'Gate location', 'Inflight wifi service',\n",
       "       'Inflight entertainment', 'Online support', 'Ease of Online booking',\n",
       "       'On-board service', 'Leg room service', 'Baggage handling',\n",
       "       'Checkin service', 'Cleanliness', 'Online boarding',\n",
       "       'Departure Delay in Minutes', 'Arrival Delay in Minutes', 'target'],\n",
       "      dtype='object')"
      ]
     },
     "execution_count": 8,
     "metadata": {},
     "output_type": "execute_result"
    }
   ],
   "source": [
    "df_train.columns"
   ]
  },
  {
   "cell_type": "code",
   "execution_count": 9,
   "metadata": {
    "ExecuteTime": {
     "end_time": "2022-02-12T12:23:53.360459Z",
     "start_time": "2022-02-12T12:23:53.346320Z"
    }
   },
   "outputs": [],
   "source": [
    "cat_cols = df_train.select_dtypes(include='object').columns.to_list()\n",
    "num_cols = df_train.select_dtypes(exclude='object').columns.to_list()"
   ]
  },
  {
   "cell_type": "code",
   "execution_count": 10,
   "metadata": {
    "ExecuteTime": {
     "end_time": "2022-02-12T12:23:54.032654Z",
     "start_time": "2022-02-12T12:23:54.026103Z"
    }
   },
   "outputs": [],
   "source": [
    "num_cols.remove('target')"
   ]
  },
  {
   "cell_type": "markdown",
   "metadata": {},
   "source": [
    "## Target"
   ]
  },
  {
   "cell_type": "code",
   "execution_count": 11,
   "metadata": {
    "ExecuteTime": {
     "end_time": "2022-02-12T12:23:54.908489Z",
     "start_time": "2022-02-12T12:23:54.888748Z"
    }
   },
   "outputs": [
    {
     "data": {
      "text/plain": [
       "1    1668\n",
       "0    1332\n",
       "Name: target, dtype: int64"
      ]
     },
     "execution_count": 11,
     "metadata": {},
     "output_type": "execute_result"
    }
   ],
   "source": [
    "df_train['target'].value_counts()"
   ]
  },
  {
   "cell_type": "code",
   "execution_count": 12,
   "metadata": {
    "ExecuteTime": {
     "end_time": "2022-02-12T12:23:55.498241Z",
     "start_time": "2022-02-12T12:23:55.361030Z"
    }
   },
   "outputs": [
    {
     "data": {
      "text/plain": [
       "<matplotlib.axes._subplots.AxesSubplot at 0x18237e54070>"
      ]
     },
     "execution_count": 12,
     "metadata": {},
     "output_type": "execute_result"
    },
    {
     "data": {
      "image/png": "[encoded data removed]",
      "text/plain": [
       "<Figure size 432x288 with 1 Axes>"
      ]
     },
     "metadata": {},
     "output_type": "display_data"
    }
   ],
   "source": [
    "sns.countplot(df_train['target'])"
   ]
  },
  {
   "cell_type": "markdown",
   "metadata": {},
   "source": [
    "## 범주형 & 이산형"
   ]
  },
  {
   "cell_type": "code",
   "execution_count": 13,
   "metadata": {
    "ExecuteTime": {
     "end_time": "2022-02-12T12:23:56.593104Z",
     "start_time": "2022-02-12T12:23:56.580051Z"
    }
   },
   "outputs": [],
   "source": [
    "def discrete_feat(feature):\n",
    "    print('value count : \\n{}\\n'.format(df_train[feature].value_counts().sort_index()))\n",
    "    print('그룹별 만족(target) value count : \\n{}\\n'.format(df_train['target'].groupby(df_train[feature]).sum().sort_index()))\n",
    "    print('그룹별 만족(target) 비율 : \\n{}\\n'.format(df_train['target'].groupby(df_train[feature]).mean().sort_index()))"
   ]
  },
  {
   "cell_type": "code",
   "execution_count": 14,
   "metadata": {
    "ExecuteTime": {
     "end_time": "2022-02-12T12:23:58.292700Z",
     "start_time": "2022-02-12T12:23:57.187372Z"
    }
   },
   "outputs": [
    {
     "data": {
      "image/png": "[encoded data removed]",
      "text/plain": [
       "<Figure size 720x360 with 2 Axes>"
      ]
     },
     "metadata": {},
     "output_type": "display_data"
    },
    {
     "data": {
      "image/png": "[encoded data removed]",
      "text/plain": [
       "<Figure size 720x360 with 2 Axes>"
      ]
     },
     "metadata": {},
     "output_type": "display_data"
    },
    {
     "data": {
      "image/png": "[encoded data removed]",
      "text/plain": [
       "<Figure size 720x360 with 2 Axes>"
      ]
     },
     "metadata": {},
     "output_type": "display_data"
    },
    {
     "data": {
      "image/png": "[encoded data removed]",
      "text/plain": [
       "<Figure size 720x360 with 2 Axes>"
      ]
     },
     "metadata": {},
     "output_type": "display_data"
    }
   ],
   "source": [
    "def show_cat_plot(df, columns):\n",
    "    for column in columns:\n",
    "        sns.catplot(x=column, col='target', data=df, kind='count')\n",
    "        plt.show()\n",
    "        \n",
    "show_cat_plot(df_train,cat_cols)"
   ]
  },
  {
   "cell_type": "code",
   "execution_count": null,
   "metadata": {
    "ExecuteTime": {
     "end_time": "2022-02-12T12:24:03.458973Z",
     "start_time": "2022-02-12T12:23:58.513823Z"
    }
   },
   "outputs": [],
   "source": [
    "# def show_dist_plot(df, columns):\n",
    "#     for column in columns:\n",
    "#         print('[',column,']')\n",
    "#         f,ax=plt.subplots(1,2,figsize=(12,3))\n",
    "#         sns.distplot(x=df[column],ax=ax[0])\n",
    "#         sns.violinplot(x=df['target'],y=df[column],ax=ax[1])\n",
    "#         plt.show()\n",
    "        \n",
    "# show_dist_plot(df_train,num_cols)"
   ]
  },
  {
   "cell_type": "markdown",
   "metadata": {
    "ExecuteTime": {
     "end_time": "2022-02-08T14:52:53.722697Z",
     "start_time": "2022-02-08T14:52:53.703317Z"
    }
   },
   "source": [
    "### Gender\n",
    "\n",
    "> 성별 : Male / Female\n",
    "- 남자, 여자 수는 비슷함\n",
    "- 만족비율은 여자가 더 높음"
   ]
  },
  {
   "cell_type": "code",
   "execution_count": 16,
   "metadata": {
    "ExecuteTime": {
     "end_time": "2022-02-12T12:24:03.693119Z",
     "start_time": "2022-02-12T12:24:03.664118Z"
    }
   },
   "outputs": [
    {
     "name": "stdout",
     "output_type": "stream",
     "text": [
      "value count : \n",
      "Female    1498\n",
      "Male      1502\n",
      "Name: Gender, dtype: int64\n",
      "\n",
      "그룹별 만족(target) value count : \n",
      "Gender\n",
      "Female    1007\n",
      "Male       661\n",
      "Name: target, dtype: int64\n",
      "\n",
      "그룹별 만족(target) 비율 : \n",
      "Gender\n",
      "Female    0.67223\n",
      "Male      0.44008\n",
      "Name: target, dtype: float64\n",
      "\n"
     ]
    }
   ],
   "source": [
    "discrete_feat('Gender')"
   ]
  },
  {
   "cell_type": "markdown",
   "metadata": {},
   "source": [
    "### Customer Type"
   ]
  },
  {
   "cell_type": "code",
   "execution_count": 17,
   "metadata": {
    "ExecuteTime": {
     "end_time": "2022-02-12T12:24:05.600074Z",
     "start_time": "2022-02-12T12:24:05.581040Z"
    }
   },
   "outputs": [
    {
     "name": "stdout",
     "output_type": "stream",
     "text": [
      "value count : \n",
      "Loyal Customer       2489\n",
      "disloyal Customer     511\n",
      "Name: Customer Type, dtype: int64\n",
      "\n",
      "그룹별 만족(target) value count : \n",
      "Customer Type\n",
      "Loyal Customer       1536\n",
      "disloyal Customer     132\n",
      "Name: target, dtype: int64\n",
      "\n",
      "그룹별 만족(target) 비율 : \n",
      "Customer Type\n",
      "Loyal Customer       0.617115\n",
      "disloyal Customer    0.258317\n",
      "Name: target, dtype: float64\n",
      "\n"
     ]
    }
   ],
   "source": [
    "discrete_feat('Customer Type')"
   ]
  },
  {
   "cell_type": "markdown",
   "metadata": {},
   "source": [
    "### Type of Travel"
   ]
  },
  {
   "cell_type": "code",
   "execution_count": 18,
   "metadata": {
    "ExecuteTime": {
     "end_time": "2022-02-12T12:24:06.080559Z",
     "start_time": "2022-02-12T12:24:06.065900Z"
    }
   },
   "outputs": [
    {
     "name": "stdout",
     "output_type": "stream",
     "text": [
      "value count : \n",
      "Business travel    2053\n",
      "Personal Travel     947\n",
      "Name: Type of Travel, dtype: int64\n",
      "\n",
      "그룹별 만족(target) value count : \n",
      "Type of Travel\n",
      "Business travel    1234\n",
      "Personal Travel     434\n",
      "Name: target, dtype: int64\n",
      "\n",
      "그룹별 만족(target) 비율 : \n",
      "Type of Travel\n",
      "Business travel    0.601072\n",
      "Personal Travel    0.458289\n",
      "Name: target, dtype: float64\n",
      "\n"
     ]
    }
   ],
   "source": [
    "discrete_feat('Type of Travel')"
   ]
  },
  {
   "cell_type": "markdown",
   "metadata": {},
   "source": [
    "### Class"
   ]
  },
  {
   "cell_type": "code",
   "execution_count": 19,
   "metadata": {
    "ExecuteTime": {
     "end_time": "2022-02-12T12:24:06.454056Z",
     "start_time": "2022-02-12T12:24:06.433412Z"
    }
   },
   "outputs": [
    {
     "name": "stdout",
     "output_type": "stream",
     "text": [
      "value count : \n",
      "Business    1434\n",
      "Eco         1337\n",
      "Eco Plus     229\n",
      "Name: Class, dtype: int64\n",
      "\n",
      "그룹별 만족(target) value count : \n",
      "Class\n",
      "Business    1021\n",
      "Eco          546\n",
      "Eco Plus     101\n",
      "Name: target, dtype: int64\n",
      "\n",
      "그룹별 만족(target) 비율 : \n",
      "Class\n",
      "Business    0.711994\n",
      "Eco         0.408377\n",
      "Eco Plus    0.441048\n",
      "Name: target, dtype: float64\n",
      "\n"
     ]
    }
   ],
   "source": [
    "discrete_feat('Class')"
   ]
  },
  {
   "cell_type": "markdown",
   "metadata": {},
   "source": [
    "### Seat comfort\n",
    "\n",
    "> 좌석 편함"
   ]
  },
  {
   "cell_type": "code",
   "execution_count": 20,
   "metadata": {
    "ExecuteTime": {
     "end_time": "2022-02-12T12:24:06.812898Z",
     "start_time": "2022-02-12T12:24:06.788291Z"
    }
   },
   "outputs": [
    {
     "name": "stdout",
     "output_type": "stream",
     "text": [
      "value count : \n",
      "0    106\n",
      "1    476\n",
      "2    655\n",
      "3    680\n",
      "4    651\n",
      "5    432\n",
      "Name: Seat comfort, dtype: int64\n",
      "\n",
      "그룹별 만족(target) value count : \n",
      "Seat comfort\n",
      "0    105\n",
      "1    205\n",
      "2    229\n",
      "3    269\n",
      "4    430\n",
      "5    430\n",
      "Name: target, dtype: int64\n",
      "\n",
      "그룹별 만족(target) 비율 : \n",
      "Seat comfort\n",
      "0    0.990566\n",
      "1    0.430672\n",
      "2    0.349618\n",
      "3    0.395588\n",
      "4    0.660522\n",
      "5    0.995370\n",
      "Name: target, dtype: float64\n",
      "\n"
     ]
    }
   ],
   "source": [
    "discrete_feat('Seat comfort')"
   ]
  },
  {
   "cell_type": "markdown",
   "metadata": {
    "ExecuteTime": {
     "end_time": "2022-02-09T06:49:20.370388Z",
     "start_time": "2022-02-09T06:49:20.352450Z"
    }
   },
   "source": [
    "### Departure/Arrival time convenient\n",
    "\n",
    "> 출발/도착 시간 편의성\n",
    "- 모든 class가 비슷함 -> target 예측하는데 큰 영향 없을 듯 -> 피쳐 삭제"
   ]
  },
  {
   "cell_type": "code",
   "execution_count": 21,
   "metadata": {
    "ExecuteTime": {
     "end_time": "2022-02-12T12:24:07.501044Z",
     "start_time": "2022-02-12T12:24:07.472458Z"
    }
   },
   "outputs": [
    {
     "name": "stdout",
     "output_type": "stream",
     "text": [
      "value count : \n",
      "0    154\n",
      "1    453\n",
      "2    533\n",
      "3    562\n",
      "4    666\n",
      "5    632\n",
      "Name: Departure/Arrival time convenient, dtype: int64\n",
      "\n",
      "그룹별 만족(target) value count : \n",
      "Departure/Arrival time convenient\n",
      "0     90\n",
      "1    265\n",
      "2    278\n",
      "3    314\n",
      "4    372\n",
      "5    349\n",
      "Name: target, dtype: int64\n",
      "\n",
      "그룹별 만족(target) 비율 : \n",
      "Departure/Arrival time convenient\n",
      "0    0.584416\n",
      "1    0.584989\n",
      "2    0.521576\n",
      "3    0.558719\n",
      "4    0.558559\n",
      "5    0.552215\n",
      "Name: target, dtype: float64\n",
      "\n"
     ]
    }
   ],
   "source": [
    "discrete_feat('Departure/Arrival time convenient')"
   ]
  },
  {
   "cell_type": "markdown",
   "metadata": {},
   "source": [
    "### Food and drink"
   ]
  },
  {
   "cell_type": "code",
   "execution_count": 22,
   "metadata": {
    "ExecuteTime": {
     "end_time": "2022-02-12T12:24:07.910116Z",
     "start_time": "2022-02-12T12:24:07.891031Z"
    }
   },
   "outputs": [
    {
     "name": "stdout",
     "output_type": "stream",
     "text": [
      "value count : \n",
      "0    129\n",
      "1    474\n",
      "2    618\n",
      "3    674\n",
      "4    634\n",
      "5    471\n",
      "Name: Food and drink, dtype: int64\n",
      "\n",
      "그룹별 만족(target) value count : \n",
      "Food and drink\n",
      "0    107\n",
      "1    237\n",
      "2    264\n",
      "3    288\n",
      "4    385\n",
      "5    387\n",
      "Name: target, dtype: int64\n",
      "\n",
      "그룹별 만족(target) 비율 : \n",
      "Food and drink\n",
      "0    0.829457\n",
      "1    0.500000\n",
      "2    0.427184\n",
      "3    0.427300\n",
      "4    0.607256\n",
      "5    0.821656\n",
      "Name: target, dtype: float64\n",
      "\n"
     ]
    }
   ],
   "source": [
    "discrete_feat('Food and drink')"
   ]
  },
  {
   "cell_type": "markdown",
   "metadata": {},
   "source": [
    "### Gate location"
   ]
  },
  {
   "cell_type": "code",
   "execution_count": 23,
   "metadata": {
    "ExecuteTime": {
     "end_time": "2022-02-12T12:24:08.533656Z",
     "start_time": "2022-02-12T12:24:08.515258Z"
    }
   },
   "outputs": [
    {
     "name": "stdout",
     "output_type": "stream",
     "text": [
      "value count : \n",
      "1    494\n",
      "2    558\n",
      "3    801\n",
      "4    698\n",
      "5    449\n",
      "Name: Gate location, dtype: int64\n",
      "\n",
      "그룹별 만족(target) value count : \n",
      "Gate location\n",
      "1    302\n",
      "2    332\n",
      "3    364\n",
      "4    370\n",
      "5    300\n",
      "Name: target, dtype: int64\n",
      "\n",
      "그룹별 만족(target) 비율 : \n",
      "Gate location\n",
      "1    0.611336\n",
      "2    0.594982\n",
      "3    0.454432\n",
      "4    0.530086\n",
      "5    0.668151\n",
      "Name: target, dtype: float64\n",
      "\n"
     ]
    }
   ],
   "source": [
    "discrete_feat('Gate location')"
   ]
  },
  {
   "cell_type": "markdown",
   "metadata": {},
   "source": [
    "### Inflight wifi service"
   ]
  },
  {
   "cell_type": "code",
   "execution_count": 24,
   "metadata": {
    "ExecuteTime": {
     "end_time": "2022-02-12T12:24:08.891853Z",
     "start_time": "2022-02-12T12:24:08.875207Z"
    }
   },
   "outputs": [
    {
     "name": "stdout",
     "output_type": "stream",
     "text": [
      "value count : \n",
      "0      2\n",
      "1    334\n",
      "2    643\n",
      "3    603\n",
      "4    740\n",
      "5    678\n",
      "Name: Inflight wifi service, dtype: int64\n",
      "\n",
      "그룹별 만족(target) value count : \n",
      "Inflight wifi service\n",
      "0      0\n",
      "1     91\n",
      "2    330\n",
      "3    291\n",
      "4    489\n",
      "5    467\n",
      "Name: target, dtype: int64\n",
      "\n",
      "그룹별 만족(target) 비율 : \n",
      "Inflight wifi service\n",
      "0    0.000000\n",
      "1    0.272455\n",
      "2    0.513219\n",
      "3    0.482587\n",
      "4    0.660811\n",
      "5    0.688791\n",
      "Name: target, dtype: float64\n",
      "\n"
     ]
    }
   ],
   "source": [
    "discrete_feat('Inflight wifi service')"
   ]
  },
  {
   "cell_type": "markdown",
   "metadata": {},
   "source": [
    "### Inflight entertainment\n",
    "\n",
    "> 비행 중 엔터테인먼트\n",
    "- 0점이 만족도가 높음 -> 만족도에 영향이 없거나 대충 적었을 수도 있고"
   ]
  },
  {
   "cell_type": "code",
   "execution_count": 25,
   "metadata": {
    "ExecuteTime": {
     "end_time": "2022-02-12T12:24:10.936294Z",
     "start_time": "2022-02-12T12:24:10.911376Z"
    }
   },
   "outputs": [
    {
     "name": "stdout",
     "output_type": "stream",
     "text": [
      "value count : \n",
      "0     73\n",
      "1    283\n",
      "2    451\n",
      "3    564\n",
      "4    965\n",
      "5    664\n",
      "Name: Inflight entertainment, dtype: int64\n",
      "\n",
      "그룹별 만족(target) value count : \n",
      "Inflight entertainment\n",
      "0     55\n",
      "1     63\n",
      "2     65\n",
      "3    125\n",
      "4    722\n",
      "5    638\n",
      "Name: target, dtype: int64\n",
      "\n",
      "그룹별 만족(target) 비율 : \n",
      "Inflight entertainment\n",
      "0    0.753425\n",
      "1    0.222615\n",
      "2    0.144124\n",
      "3    0.221631\n",
      "4    0.748187\n",
      "5    0.960843\n",
      "Name: target, dtype: float64\n",
      "\n"
     ]
    }
   ],
   "source": [
    "discrete_feat('Inflight entertainment')"
   ]
  },
  {
   "cell_type": "markdown",
   "metadata": {},
   "source": [
    "### Online support"
   ]
  },
  {
   "cell_type": "code",
   "execution_count": 27,
   "metadata": {
    "ExecuteTime": {
     "end_time": "2022-02-12T12:26:25.363388Z",
     "start_time": "2022-02-12T12:26:25.343057Z"
    }
   },
   "outputs": [
    {
     "name": "stdout",
     "output_type": "stream",
     "text": [
      "value count : \n",
      "1     347\n",
      "2     371\n",
      "3     491\n",
      "4    1002\n",
      "5     789\n",
      "Name: Online support, dtype: int64\n",
      "\n",
      "그룹별 만족(target) value count : \n",
      "Online support\n",
      "1    100\n",
      "2    102\n",
      "3    139\n",
      "4    705\n",
      "5    622\n",
      "Name: target, dtype: int64\n",
      "\n",
      "그룹별 만족(target) 비율 : \n",
      "Online support\n",
      "1    0.288184\n",
      "2    0.274933\n",
      "3    0.283096\n",
      "4    0.703593\n",
      "5    0.788340\n",
      "Name: target, dtype: float64\n",
      "\n"
     ]
    }
   ],
   "source": [
    "discrete_feat('Online support')"
   ]
  },
  {
   "cell_type": "markdown",
   "metadata": {},
   "source": [
    "### Ease of Online booking"
   ]
  },
  {
   "cell_type": "code",
   "execution_count": 28,
   "metadata": {
    "ExecuteTime": {
     "end_time": "2022-02-12T12:26:25.721324Z",
     "start_time": "2022-02-12T12:26:25.707865Z"
    }
   },
   "outputs": [
    {
     "name": "stdout",
     "output_type": "stream",
     "text": [
      "value count : \n",
      "0      1\n",
      "1    308\n",
      "2    450\n",
      "3    496\n",
      "4    957\n",
      "5    788\n",
      "Name: Ease of Online booking, dtype: int64\n",
      "\n",
      "그룹별 만족(target) value count : \n",
      "Ease of Online booking\n",
      "0      0\n",
      "1     54\n",
      "2    127\n",
      "3    180\n",
      "4    696\n",
      "5    611\n",
      "Name: target, dtype: int64\n",
      "\n",
      "그룹별 만족(target) 비율 : \n",
      "Ease of Online booking\n",
      "0    0.000000\n",
      "1    0.175325\n",
      "2    0.282222\n",
      "3    0.362903\n",
      "4    0.727273\n",
      "5    0.775381\n",
      "Name: target, dtype: float64\n",
      "\n"
     ]
    }
   ],
   "source": [
    "discrete_feat('Ease of Online booking')"
   ]
  },
  {
   "cell_type": "markdown",
   "metadata": {},
   "source": [
    "### On-board service"
   ]
  },
  {
   "cell_type": "code",
   "execution_count": 29,
   "metadata": {
    "ExecuteTime": {
     "end_time": "2022-02-12T12:26:26.331714Z",
     "start_time": "2022-02-12T12:26:26.312113Z"
    }
   },
   "outputs": [
    {
     "name": "stdout",
     "output_type": "stream",
     "text": [
      "value count : \n",
      "1    317\n",
      "2    374\n",
      "3    580\n",
      "4    959\n",
      "5    770\n",
      "Name: On-board service, dtype: int64\n",
      "\n",
      "그룹별 만족(target) value count : \n",
      "On-board service\n",
      "1     88\n",
      "2    124\n",
      "3    240\n",
      "4    615\n",
      "5    601\n",
      "Name: target, dtype: int64\n",
      "\n",
      "그룹별 만족(target) 비율 : \n",
      "On-board service\n",
      "1    0.277603\n",
      "2    0.331551\n",
      "3    0.413793\n",
      "4    0.641293\n",
      "5    0.780519\n",
      "Name: target, dtype: float64\n",
      "\n"
     ]
    }
   ],
   "source": [
    "discrete_feat('On-board service')"
   ]
  },
  {
   "cell_type": "markdown",
   "metadata": {},
   "source": [
    "### Leg room service"
   ]
  },
  {
   "cell_type": "code",
   "execution_count": 30,
   "metadata": {
    "ExecuteTime": {
     "end_time": "2022-02-12T12:26:26.922778Z",
     "start_time": "2022-02-12T12:26:26.897217Z"
    }
   },
   "outputs": [
    {
     "name": "stdout",
     "output_type": "stream",
     "text": [
      "value count : \n",
      "0     11\n",
      "1    254\n",
      "2    510\n",
      "3    518\n",
      "4    908\n",
      "5    799\n",
      "Name: Leg room service, dtype: int64\n",
      "\n",
      "그룹별 만족(target) value count : \n",
      "Leg room service\n",
      "0      9\n",
      "1     70\n",
      "2    201\n",
      "3    183\n",
      "4    633\n",
      "5    572\n",
      "Name: target, dtype: int64\n",
      "\n",
      "그룹별 만족(target) 비율 : \n",
      "Leg room service\n",
      "0    0.818182\n",
      "1    0.275591\n",
      "2    0.394118\n",
      "3    0.353282\n",
      "4    0.697137\n",
      "5    0.715895\n",
      "Name: target, dtype: float64\n",
      "\n"
     ]
    }
   ],
   "source": [
    "discrete_feat('Leg room service')"
   ]
  },
  {
   "cell_type": "markdown",
   "metadata": {},
   "source": [
    "### Baggage handling"
   ]
  },
  {
   "cell_type": "code",
   "execution_count": 31,
   "metadata": {
    "ExecuteTime": {
     "end_time": "2022-02-12T12:26:27.263756Z",
     "start_time": "2022-02-12T12:26:27.234757Z"
    }
   },
   "outputs": [
    {
     "name": "stdout",
     "output_type": "stream",
     "text": [
      "value count : \n",
      "1     182\n",
      "2     290\n",
      "3     553\n",
      "4    1110\n",
      "5     865\n",
      "Name: Baggage handling, dtype: int64\n",
      "\n",
      "그룹별 만족(target) value count : \n",
      "Baggage handling\n",
      "1     76\n",
      "2    131\n",
      "3    186\n",
      "4    652\n",
      "5    623\n",
      "Name: target, dtype: int64\n",
      "\n",
      "그룹별 만족(target) 비율 : \n",
      "Baggage handling\n",
      "1    0.417582\n",
      "2    0.451724\n",
      "3    0.336347\n",
      "4    0.587387\n",
      "5    0.720231\n",
      "Name: target, dtype: float64\n",
      "\n"
     ]
    }
   ],
   "source": [
    "discrete_feat('Baggage handling')"
   ]
  },
  {
   "cell_type": "markdown",
   "metadata": {},
   "source": [
    "### Checkin service"
   ]
  },
  {
   "cell_type": "code",
   "execution_count": 32,
   "metadata": {
    "ExecuteTime": {
     "end_time": "2022-02-12T12:26:27.824704Z",
     "start_time": "2022-02-12T12:26:27.806434Z"
    }
   },
   "outputs": [
    {
     "name": "stdout",
     "output_type": "stream",
     "text": [
      "value count : \n",
      "1    334\n",
      "2    367\n",
      "3    809\n",
      "4    835\n",
      "5    655\n",
      "Name: Checkin service, dtype: int64\n",
      "\n",
      "그룹별 만족(target) value count : \n",
      "Checkin service\n",
      "1    124\n",
      "2    119\n",
      "3    452\n",
      "4    495\n",
      "5    478\n",
      "Name: target, dtype: int64\n",
      "\n",
      "그룹별 만족(target) 비율 : \n",
      "Checkin service\n",
      "1    0.371257\n",
      "2    0.324251\n",
      "3    0.558714\n",
      "4    0.592814\n",
      "5    0.729771\n",
      "Name: target, dtype: float64\n",
      "\n"
     ]
    }
   ],
   "source": [
    "discrete_feat('Checkin service')"
   ]
  },
  {
   "cell_type": "markdown",
   "metadata": {},
   "source": [
    "### Cleanliness"
   ]
  },
  {
   "cell_type": "code",
   "execution_count": 33,
   "metadata": {
    "ExecuteTime": {
     "end_time": "2022-02-12T12:26:28.698243Z",
     "start_time": "2022-02-12T12:26:28.671718Z"
    }
   },
   "outputs": [
    {
     "name": "stdout",
     "output_type": "stream",
     "text": [
      "value count : \n",
      "1     191\n",
      "2     295\n",
      "3     510\n",
      "4    1145\n",
      "5     859\n",
      "Name: Cleanliness, dtype: int64\n",
      "\n",
      "그룹별 만족(target) value count : \n",
      "Cleanliness\n",
      "1     92\n",
      "2    112\n",
      "3    172\n",
      "4    666\n",
      "5    626\n",
      "Name: target, dtype: int64\n",
      "\n",
      "그룹별 만족(target) 비율 : \n",
      "Cleanliness\n",
      "1    0.481675\n",
      "2    0.379661\n",
      "3    0.337255\n",
      "4    0.581659\n",
      "5    0.728754\n",
      "Name: target, dtype: float64\n",
      "\n"
     ]
    }
   ],
   "source": [
    "discrete_feat('Cleanliness')"
   ]
  },
  {
   "cell_type": "markdown",
   "metadata": {},
   "source": [
    "### Online boarding"
   ]
  },
  {
   "cell_type": "code",
   "execution_count": 34,
   "metadata": {
    "ExecuteTime": {
     "end_time": "2022-02-12T12:26:29.397907Z",
     "start_time": "2022-02-12T12:26:29.371748Z"
    }
   },
   "outputs": [
    {
     "name": "stdout",
     "output_type": "stream",
     "text": [
      "value count : \n",
      "0      1\n",
      "1    356\n",
      "2    414\n",
      "3    710\n",
      "4    840\n",
      "5    679\n",
      "Name: Online boarding, dtype: int64\n",
      "\n",
      "그룹별 만족(target) value count : \n",
      "Online boarding\n",
      "0      0\n",
      "1     95\n",
      "2    112\n",
      "3    395\n",
      "4    558\n",
      "5    508\n",
      "Name: target, dtype: int64\n",
      "\n",
      "그룹별 만족(target) 비율 : \n",
      "Online boarding\n",
      "0    0.000000\n",
      "1    0.266854\n",
      "2    0.270531\n",
      "3    0.556338\n",
      "4    0.664286\n",
      "5    0.748159\n",
      "Name: target, dtype: float64\n",
      "\n"
     ]
    }
   ],
   "source": [
    "discrete_feat('Online boarding')"
   ]
  },
  {
   "cell_type": "markdown",
   "metadata": {},
   "source": [
    "## 연속형"
   ]
  },
  {
   "cell_type": "markdown",
   "metadata": {},
   "source": [
    "### Age"
   ]
  },
  {
   "cell_type": "code",
   "execution_count": 35,
   "metadata": {
    "ExecuteTime": {
     "end_time": "2022-02-12T12:26:31.485760Z",
     "start_time": "2022-02-12T12:26:31.469790Z"
    }
   },
   "outputs": [
    {
     "data": {
      "text/plain": [
       "count    3000.000000\n",
       "mean       39.203000\n",
       "std        15.108802\n",
       "min         7.000000\n",
       "25%        27.000000\n",
       "50%        39.000000\n",
       "75%        51.000000\n",
       "max        80.000000\n",
       "Name: Age, dtype: float64"
      ]
     },
     "execution_count": 35,
     "metadata": {},
     "output_type": "execute_result"
    }
   ],
   "source": [
    "df_train['Age'].describe()"
   ]
  },
  {
   "cell_type": "code",
   "execution_count": 36,
   "metadata": {
    "ExecuteTime": {
     "end_time": "2022-02-12T12:26:31.815440Z",
     "start_time": "2022-02-12T12:26:31.801483Z"
    }
   },
   "outputs": [],
   "source": [
    "def age_categorize(age):\n",
    "    age = (age // 10) * 10\n",
    "    return age"
   ]
  },
  {
   "cell_type": "code",
   "execution_count": 37,
   "metadata": {
    "ExecuteTime": {
     "end_time": "2022-02-12T12:26:32.407739Z",
     "start_time": "2022-02-12T12:26:32.394355Z"
    }
   },
   "outputs": [],
   "source": [
    "# 나이대별로 카테고리화\n",
    "Age_category = df_train['Age'].apply(age_categorize)\n",
    "df_train['Age_cat'] = Age_category.astype('category')"
   ]
  },
  {
   "cell_type": "code",
   "execution_count": 38,
   "metadata": {
    "ExecuteTime": {
     "end_time": "2022-02-12T12:28:44.496222Z",
     "start_time": "2022-02-12T12:28:44.352276Z"
    }
   },
   "outputs": [
    {
     "data": {
      "image/png": "[encoded data removed]",
      "text/plain": [
       "<Figure size 864x576 with 1 Axes>"
      ]
     },
     "metadata": {},
     "output_type": "display_data"
    }
   ],
   "source": [
    "# 나이대 count plot\n",
    "plt.figure(figsize=(12,8))\n",
    "sns.countplot(y='Age_cat', data=df_train)\n",
    "plt.show()"
   ]
  },
  {
   "cell_type": "code",
   "execution_count": 39,
   "metadata": {
    "ExecuteTime": {
     "end_time": "2022-02-12T12:28:44.900059Z",
     "start_time": "2022-02-12T12:28:44.881494Z"
    }
   },
   "outputs": [
    {
     "data": {
      "text/html": [
       "<div>\n",
       "<style scoped>\n",
       "    .dataframe tbody tr th:only-of-type {\n",
       "        vertical-align: middle;\n",
       "    }\n",
       "\n",
       "    .dataframe tbody tr th {\n",
       "        vertical-align: top;\n",
       "    }\n",
       "\n",
       "    .dataframe thead th {\n",
       "        text-align: right;\n",
       "    }\n",
       "</style>\n",
       "<table border=\"1\" class=\"dataframe\">\n",
       "  <thead>\n",
       "    <tr style=\"text-align: right;\">\n",
       "      <th></th>\n",
       "      <th>target</th>\n",
       "    </tr>\n",
       "    <tr>\n",
       "      <th>Age_cat</th>\n",
       "      <th></th>\n",
       "    </tr>\n",
       "  </thead>\n",
       "  <tbody>\n",
       "    <tr>\n",
       "      <th>0</th>\n",
       "      <td>0.464286</td>\n",
       "    </tr>\n",
       "    <tr>\n",
       "      <th>10</th>\n",
       "      <td>0.449580</td>\n",
       "    </tr>\n",
       "    <tr>\n",
       "      <th>20</th>\n",
       "      <td>0.459322</td>\n",
       "    </tr>\n",
       "    <tr>\n",
       "      <th>30</th>\n",
       "      <td>0.539200</td>\n",
       "    </tr>\n",
       "    <tr>\n",
       "      <th>40</th>\n",
       "      <td>0.643399</td>\n",
       "    </tr>\n",
       "    <tr>\n",
       "      <th>50</th>\n",
       "      <td>0.648551</td>\n",
       "    </tr>\n",
       "    <tr>\n",
       "      <th>60</th>\n",
       "      <td>0.520325</td>\n",
       "    </tr>\n",
       "    <tr>\n",
       "      <th>70</th>\n",
       "      <td>0.500000</td>\n",
       "    </tr>\n",
       "    <tr>\n",
       "      <th>80</th>\n",
       "      <td>0.500000</td>\n",
       "    </tr>\n",
       "  </tbody>\n",
       "</table>\n",
       "</div>"
      ],
      "text/plain": [
       "           target\n",
       "Age_cat          \n",
       "0        0.464286\n",
       "10       0.449580\n",
       "20       0.459322\n",
       "30       0.539200\n",
       "40       0.643399\n",
       "50       0.648551\n",
       "60       0.520325\n",
       "70       0.500000\n",
       "80       0.500000"
      ]
     },
     "execution_count": 39,
     "metadata": {},
     "output_type": "execute_result"
    }
   ],
   "source": [
    "# 나이대별 만족도 비율\n",
    "mean_by_age_cat = df_train['target'].groupby(df_train['Age_cat']).mean()\n",
    "pd.DataFrame(mean_by_age_cat)"
   ]
  },
  {
   "cell_type": "code",
   "execution_count": 40,
   "metadata": {
    "ExecuteTime": {
     "end_time": "2022-02-12T12:28:45.510117Z",
     "start_time": "2022-02-12T12:28:45.352962Z"
    }
   },
   "outputs": [
    {
     "data": {
      "image/png": "[encoded data removed]",
      "text/plain": [
       "<Figure size 864x576 with 1 Axes>"
      ]
     },
     "metadata": {},
     "output_type": "display_data"
    }
   ],
   "source": [
    "plt.figure(figsize=(12,8))\n",
    "mean_by_age_cat.plot.bar(color='red')\n",
    "plt.show()"
   ]
  },
  {
   "cell_type": "code",
   "execution_count": 41,
   "metadata": {
    "ExecuteTime": {
     "end_time": "2022-02-12T12:28:57.486807Z",
     "start_time": "2022-02-12T12:28:57.472520Z"
    }
   },
   "outputs": [],
   "source": [
    "# 아래에서 다시 추가\n",
    "df_train.drop(['Age_cat'], axis=1, inplace=True)"
   ]
  },
  {
   "cell_type": "markdown",
   "metadata": {
    "ExecuteTime": {
     "end_time": "2022-02-09T08:20:15.549351Z",
     "start_time": "2022-02-09T08:20:15.530357Z"
    }
   },
   "source": [
    "### Flight distance\n",
    "\n",
    "> 비행거리\n",
    "- 어떻게 해야 한 눈에 보일까아아아아아아"
   ]
  },
  {
   "cell_type": "code",
   "execution_count": 42,
   "metadata": {
    "ExecuteTime": {
     "end_time": "2022-02-12T12:29:00.083520Z",
     "start_time": "2022-02-12T12:29:00.072410Z"
    }
   },
   "outputs": [
    {
     "data": {
      "text/plain": [
       "count    3000.000000\n",
       "mean     1983.079333\n",
       "std      1028.109117\n",
       "min        52.000000\n",
       "25%      1348.250000\n",
       "50%      1937.000000\n",
       "75%      2547.250000\n",
       "max      6882.000000\n",
       "Name: Flight Distance, dtype: float64"
      ]
     },
     "execution_count": 42,
     "metadata": {},
     "output_type": "execute_result"
    }
   ],
   "source": [
    "df_train['Flight Distance'].describe()"
   ]
  },
  {
   "cell_type": "code",
   "execution_count": 43,
   "metadata": {
    "ExecuteTime": {
     "end_time": "2022-02-12T12:29:02.034332Z",
     "start_time": "2022-02-12T12:29:01.718051Z"
    }
   },
   "outputs": [
    {
     "data": {
      "image/png": "[encoded data removed]",
      "text/plain": [
       "<Figure size 1152x576 with 2 Axes>"
      ]
     },
     "metadata": {},
     "output_type": "display_data"
    }
   ],
   "source": [
    "plt.figure(figsize=(16,8))\n",
    "\n",
    "plt.subplot(1,2,1)\n",
    "plt.boxplot(df_train['Flight Distance'])\n",
    "\n",
    "plt.subplot(1,2,2)\n",
    "sns.distplot(df_train['Flight Distance'], color='b',fit=stats.norm)\n",
    "plt.show()"
   ]
  },
  {
   "cell_type": "code",
   "execution_count": 44,
   "metadata": {
    "ExecuteTime": {
     "end_time": "2022-02-12T12:29:02.628375Z",
     "start_time": "2022-02-12T12:29:02.353829Z"
    }
   },
   "outputs": [
    {
     "data": {
      "image/png": "[encoded data removed]",
      "text/plain": [
       "<Figure size 1152x576 with 2 Axes>"
      ]
     },
     "metadata": {},
     "output_type": "display_data"
    }
   ],
   "source": [
    "# 만족한 사람들 - 비행 거리\n",
    "plt.figure(figsize=(16,8))\n",
    "\n",
    "plt.subplot(1,2,1)\n",
    "plt.boxplot(df_train[df_train['target'] == 1]['Flight Distance'])\n",
    "\n",
    "plt.subplot(1,2,2)\n",
    "sns.distplot(df_train[df_train['target'] == 1]['Flight Distance'], color='b',fit=stats.norm)\n",
    "plt.show()"
   ]
  },
  {
   "cell_type": "code",
   "execution_count": 45,
   "metadata": {
    "ExecuteTime": {
     "end_time": "2022-02-12T12:29:03.302366Z",
     "start_time": "2022-02-12T12:29:02.992095Z"
    }
   },
   "outputs": [
    {
     "data": {
      "image/png": "[encoded data removed]",
      "text/plain": [
       "<Figure size 1152x576 with 2 Axes>"
      ]
     },
     "metadata": {},
     "output_type": "display_data"
    }
   ],
   "source": [
    "# 만족안한 사람들 - 비행 거리\n",
    "plt.figure(figsize=(16,8))\n",
    "\n",
    "plt.subplot(1,2,1)\n",
    "plt.boxplot(df_train[df_train['target'] == 0]['Flight Distance'])\n",
    "\n",
    "plt.subplot(1,2,2)\n",
    "sns.distplot(df_train[df_train['target'] == 0]['Flight Distance'], color='b',fit=stats.norm)\n",
    "plt.show()"
   ]
  },
  {
   "cell_type": "code",
   "execution_count": 46,
   "metadata": {
    "ExecuteTime": {
     "end_time": "2022-02-12T12:29:03.990077Z",
     "start_time": "2022-02-12T12:29:03.681190Z"
    }
   },
   "outputs": [
    {
     "data": {
      "image/png": "[encoded data removed]",
      "text/plain": [
       "<Figure size 1152x576 with 2 Axes>"
      ]
     },
     "metadata": {},
     "output_type": "display_data"
    }
   ],
   "source": [
    "# log transformation 진행했을 때 오른쪽으로 편향되니 transformation 적용 X\n",
    "plt.figure(figsize=(16,8))\n",
    "\n",
    "plt.subplot(1,2,1)\n",
    "plt.boxplot(np.log1p(df_train['Flight Distance']))\n",
    "\n",
    "plt.subplot(1,2,2)\n",
    "sns.distplot(np.log1p(df_train['Flight Distance']), color='b',fit=stats.norm)\n",
    "plt.show()"
   ]
  },
  {
   "cell_type": "markdown",
   "metadata": {},
   "source": [
    "### Departure Delay in Minutes"
   ]
  },
  {
   "cell_type": "code",
   "execution_count": 47,
   "metadata": {
    "ExecuteTime": {
     "end_time": "2022-02-12T12:29:05.399927Z",
     "start_time": "2022-02-12T12:29:05.375494Z"
    }
   },
   "outputs": [
    {
     "data": {
      "text/plain": [
       "count    3000.000000\n",
       "mean       15.634333\n",
       "std        45.083228\n",
       "min         0.000000\n",
       "25%         0.000000\n",
       "50%         0.000000\n",
       "75%        12.000000\n",
       "max      1128.000000\n",
       "Name: Departure Delay in Minutes, dtype: float64"
      ]
     },
     "execution_count": 47,
     "metadata": {},
     "output_type": "execute_result"
    }
   ],
   "source": [
    "df_train['Departure Delay in Minutes'].describe()"
   ]
  },
  {
   "cell_type": "code",
   "execution_count": 48,
   "metadata": {
    "ExecuteTime": {
     "end_time": "2022-02-12T12:29:05.899367Z",
     "start_time": "2022-02-12T12:29:05.887173Z"
    }
   },
   "outputs": [
    {
     "data": {
      "text/plain": [
       "1295"
      ]
     },
     "execution_count": 48,
     "metadata": {},
     "output_type": "execute_result"
    }
   ],
   "source": [
    "# 출발 딜레이가 있었던 사람 수\n",
    "(df_train['Departure Delay in Minutes']!=0).sum()"
   ]
  },
  {
   "cell_type": "code",
   "execution_count": 49,
   "metadata": {
    "ExecuteTime": {
     "end_time": "2022-02-12T12:29:08.421456Z",
     "start_time": "2022-02-12T12:29:08.409990Z"
    }
   },
   "outputs": [
    {
     "data": {
      "text/plain": [
       "632"
      ]
     },
     "execution_count": 49,
     "metadata": {},
     "output_type": "execute_result"
    }
   ],
   "source": [
    "# 출발 딜레이 있는 사람 중 불만족인 사람 수\n",
    "((df_train['Departure Delay in Minutes']!=0)&(df_train['target']==0)).sum()"
   ]
  },
  {
   "cell_type": "code",
   "execution_count": 50,
   "metadata": {
    "ExecuteTime": {
     "end_time": "2022-02-12T12:29:08.907255Z",
     "start_time": "2022-02-12T12:29:08.750611Z"
    }
   },
   "outputs": [
    {
     "data": {
      "image/png": "[encoded data removed]",
      "text/plain": [
       "<Figure size 576x576 with 1 Axes>"
      ]
     },
     "metadata": {},
     "output_type": "display_data"
    }
   ],
   "source": [
    "plt.figure(figsize=(8,8))\n",
    "plt.scatter(x=df_train['Departure Delay in Minutes'], y=df_train['target'])\n",
    "plt.show()"
   ]
  },
  {
   "cell_type": "code",
   "execution_count": 51,
   "metadata": {
    "ExecuteTime": {
     "end_time": "2022-02-12T12:29:09.219326Z",
     "start_time": "2022-02-12T12:29:09.190365Z"
    }
   },
   "outputs": [
    {
     "data": {
      "text/html": [
       "<div>\n",
       "<style scoped>\n",
       "    .dataframe tbody tr th:only-of-type {\n",
       "        vertical-align: middle;\n",
       "    }\n",
       "\n",
       "    .dataframe tbody tr th {\n",
       "        vertical-align: top;\n",
       "    }\n",
       "\n",
       "    .dataframe thead th {\n",
       "        text-align: right;\n",
       "    }\n",
       "</style>\n",
       "<table border=\"1\" class=\"dataframe\">\n",
       "  <thead>\n",
       "    <tr style=\"text-align: right;\">\n",
       "      <th></th>\n",
       "      <th>Gender</th>\n",
       "      <th>Customer Type</th>\n",
       "      <th>Age</th>\n",
       "      <th>Type of Travel</th>\n",
       "      <th>Class</th>\n",
       "      <th>Flight Distance</th>\n",
       "      <th>Seat comfort</th>\n",
       "      <th>Departure/Arrival time convenient</th>\n",
       "      <th>Food and drink</th>\n",
       "      <th>Gate location</th>\n",
       "      <th>...</th>\n",
       "      <th>Ease of Online booking</th>\n",
       "      <th>On-board service</th>\n",
       "      <th>Leg room service</th>\n",
       "      <th>Baggage handling</th>\n",
       "      <th>Checkin service</th>\n",
       "      <th>Cleanliness</th>\n",
       "      <th>Online boarding</th>\n",
       "      <th>Departure Delay in Minutes</th>\n",
       "      <th>Arrival Delay in Minutes</th>\n",
       "      <th>target</th>\n",
       "    </tr>\n",
       "  </thead>\n",
       "  <tbody>\n",
       "    <tr>\n",
       "      <th>1842</th>\n",
       "      <td>Female</td>\n",
       "      <td>disloyal Customer</td>\n",
       "      <td>39</td>\n",
       "      <td>Business travel</td>\n",
       "      <td>Eco</td>\n",
       "      <td>2431</td>\n",
       "      <td>3</td>\n",
       "      <td>3</td>\n",
       "      <td>3</td>\n",
       "      <td>3</td>\n",
       "      <td>...</td>\n",
       "      <td>5</td>\n",
       "      <td>3</td>\n",
       "      <td>1</td>\n",
       "      <td>5</td>\n",
       "      <td>4</td>\n",
       "      <td>1</td>\n",
       "      <td>4</td>\n",
       "      <td>652</td>\n",
       "      <td>638.0</td>\n",
       "      <td>0</td>\n",
       "    </tr>\n",
       "    <tr>\n",
       "      <th>2349</th>\n",
       "      <td>Male</td>\n",
       "      <td>Loyal Customer</td>\n",
       "      <td>8</td>\n",
       "      <td>Personal Travel</td>\n",
       "      <td>Eco</td>\n",
       "      <td>3017</td>\n",
       "      <td>2</td>\n",
       "      <td>5</td>\n",
       "      <td>2</td>\n",
       "      <td>2</td>\n",
       "      <td>...</td>\n",
       "      <td>4</td>\n",
       "      <td>4</td>\n",
       "      <td>3</td>\n",
       "      <td>5</td>\n",
       "      <td>1</td>\n",
       "      <td>3</td>\n",
       "      <td>1</td>\n",
       "      <td>1128</td>\n",
       "      <td>1115.0</td>\n",
       "      <td>0</td>\n",
       "    </tr>\n",
       "  </tbody>\n",
       "</table>\n",
       "<p>2 rows × 23 columns</p>\n",
       "</div>"
      ],
      "text/plain": [
       "      Gender      Customer Type  Age   Type of Travel Class  Flight Distance  \\\n",
       "1842  Female  disloyal Customer   39  Business travel   Eco             2431   \n",
       "2349    Male     Loyal Customer    8  Personal Travel   Eco             3017   \n",
       "\n",
       "      Seat comfort  Departure/Arrival time convenient  Food and drink  \\\n",
       "1842             3                                  3               3   \n",
       "2349             2                                  5               2   \n",
       "\n",
       "      Gate location  ...  Ease of Online booking  On-board service  \\\n",
       "1842              3  ...                       5                 3   \n",
       "2349              2  ...                       4                 4   \n",
       "\n",
       "      Leg room service  Baggage handling  Checkin service  Cleanliness  \\\n",
       "1842                 1                 5                4            1   \n",
       "2349                 3                 5                1            3   \n",
       "\n",
       "      Online boarding  Departure Delay in Minutes  Arrival Delay in Minutes  \\\n",
       "1842                4                         652                     638.0   \n",
       "2349                1                        1128                    1115.0   \n",
       "\n",
       "      target  \n",
       "1842       0  \n",
       "2349       0  \n",
       "\n",
       "[2 rows x 23 columns]"
      ]
     },
     "execution_count": 51,
     "metadata": {},
     "output_type": "execute_result"
    }
   ],
   "source": [
    "df_train[df_train['Departure Delay in Minutes']>=600]"
   ]
  },
  {
   "cell_type": "code",
   "execution_count": 52,
   "metadata": {
    "ExecuteTime": {
     "end_time": "2022-02-12T12:29:09.501257Z",
     "start_time": "2022-02-12T12:29:09.491613Z"
    }
   },
   "outputs": [
    {
     "data": {
      "text/plain": [
       "(array([592], dtype=int64),)"
      ]
     },
     "execution_count": 52,
     "metadata": {},
     "output_type": "execute_result"
    }
   ],
   "source": [
    "# 만족한 사람들 중 딜레이된 시간이 가장 긴 사람\n",
    "np.where(df_train['Departure Delay in Minutes'] == 435)"
   ]
  },
  {
   "cell_type": "markdown",
   "metadata": {},
   "source": [
    "### Arrival Delay in Minutes\n",
    "\n",
    "> 도착 지연"
   ]
  },
  {
   "cell_type": "code",
   "execution_count": 53,
   "metadata": {
    "ExecuteTime": {
     "end_time": "2022-02-12T12:30:47.691393Z",
     "start_time": "2022-02-12T12:30:47.663907Z"
    }
   },
   "outputs": [
    {
     "data": {
      "text/plain": [
       "count    3000.000000\n",
       "mean       15.922000\n",
       "std        45.203411\n",
       "min         0.000000\n",
       "25%         0.000000\n",
       "50%         0.000000\n",
       "75%        13.000000\n",
       "max      1115.000000\n",
       "Name: Arrival Delay in Minutes, dtype: float64"
      ]
     },
     "execution_count": 53,
     "metadata": {},
     "output_type": "execute_result"
    }
   ],
   "source": [
    "df_train['Arrival Delay in Minutes'].describe()"
   ]
  },
  {
   "cell_type": "code",
   "execution_count": 54,
   "metadata": {
    "ExecuteTime": {
     "end_time": "2022-02-12T12:30:48.019316Z",
     "start_time": "2022-02-12T12:30:48.007033Z"
    }
   },
   "outputs": [
    {
     "name": "stdout",
     "output_type": "stream",
     "text": [
      "289\n",
      "333\n"
     ]
    }
   ],
   "source": [
    "print(((df_train['Departure Delay in Minutes']!=0) & (df_train['Arrival Delay in Minutes']==0)).sum())\n",
    "print(((df_train['Departure Delay in Minutes']==0) & (df_train['Arrival Delay in Minutes']!=0)).sum())"
   ]
  },
  {
   "cell_type": "markdown",
   "metadata": {},
   "source": [
    "## Correlation"
   ]
  },
  {
   "cell_type": "code",
   "execution_count": 58,
   "metadata": {
    "ExecuteTime": {
     "end_time": "2022-02-12T12:31:02.714619Z",
     "start_time": "2022-02-12T12:31:02.685876Z"
    }
   },
   "outputs": [],
   "source": [
    "from sklearn.preprocessing import LabelEncoder\n",
    "corr_df = df_train.copy()\n",
    "corr_df[corr_df.columns[corr_df.dtypes=='O']] = corr_df[corr_df.columns[corr_df.dtypes=='O']].astype(str).apply(LabelEncoder().fit_transform)"
   ]
  },
  {
   "cell_type": "code",
   "execution_count": 59,
   "metadata": {
    "ExecuteTime": {
     "end_time": "2022-02-12T12:31:04.457482Z",
     "start_time": "2022-02-12T12:31:03.137421Z"
    }
   },
   "outputs": [
    {
     "data": {
      "image/png": "[encoded data removed]",
      "text/plain": [
       "<Figure size 2520x1800 with 2 Axes>"
      ]
     },
     "metadata": {},
     "output_type": "display_data"
    }
   ],
   "source": [
    "plt.figure(figsize=(35,25))\n",
    "\n",
    "heat_table = corr_df.corr()\n",
    "mask = np.zeros_like(heat_table)\n",
    "mask[np.triu_indices_from(mask)] = True\n",
    "heatmap_ax = sns.heatmap(heat_table, annot=True, mask = mask, cmap='coolwarm')\n",
    "heatmap_ax.set_xticklabels(heatmap_ax.get_xticklabels(), fontsize=15, rotation=45)\n",
    "heatmap_ax.set_yticklabels(heatmap_ax.get_yticklabels(), fontsize=15)\n",
    "plt.title('correlation between features', fontsize=40)\n",
    "plt.show()"
   ]
  },
  {
   "cell_type": "markdown",
   "metadata": {},
   "source": [
    "# Feature Engineering"
   ]
  },
  {
   "cell_type": "markdown",
   "metadata": {},
   "source": [
    "## Age to category"
   ]
  },
  {
   "cell_type": "code",
   "execution_count": 60,
   "metadata": {
    "ExecuteTime": {
     "end_time": "2022-02-12T12:31:06.853194Z",
     "start_time": "2022-02-12T12:31:06.843194Z"
    }
   },
   "outputs": [],
   "source": [
    "def age_categorize(age):\n",
    "    age = (age // 10) * 10\n",
    "    return age"
   ]
  },
  {
   "cell_type": "code",
   "execution_count": 61,
   "metadata": {
    "ExecuteTime": {
     "end_time": "2022-02-12T12:31:07.761883Z",
     "start_time": "2022-02-12T12:31:07.734567Z"
    }
   },
   "outputs": [],
   "source": [
    "# 나이대별로 카테고리화\n",
    "df_train['Age_cat'] = df_train['Age'].apply(age_categorize).astype('category')\n",
    "df_test['Age_cat'] = df_test['Age'].apply(age_categorize).astype('category')"
   ]
  },
  {
   "cell_type": "code",
   "execution_count": 62,
   "metadata": {
    "ExecuteTime": {
     "end_time": "2022-02-12T12:31:08.601089Z",
     "start_time": "2022-02-12T12:31:08.584885Z"
    }
   },
   "outputs": [],
   "source": [
    "df_train.drop(['Age'], axis=1, inplace=True)\n",
    "df_test.drop(['Age'], axis=1, inplace=True)"
   ]
  },
  {
   "cell_type": "markdown",
   "metadata": {},
   "source": [
    "## 출발 지연 & 도착 지연\n",
    "\n",
    "> 출발 지연 & 도착 지연\n",
    "- 출발 지연이 있으면 도착 지연이 있을거라 생각했지만 긴 시간동안 출발지연이 된 경우만 해당하고, 사소하게 딜레이 된 것은 한 쪽이 0일 수 있음.\n",
    "- 그래서 두 피쳐의 평균만 사용하겠음"
   ]
  },
  {
   "cell_type": "code",
   "execution_count": 63,
   "metadata": {
    "ExecuteTime": {
     "end_time": "2022-02-12T12:31:40.411058Z",
     "start_time": "2022-02-12T12:31:40.383917Z"
    }
   },
   "outputs": [],
   "source": [
    "df_train['Delay'] = (df_train['Departure Delay in Minutes'] + df_train['Arrival Delay in Minutes'])/2\n",
    "df_test['Delay'] = (df_test['Departure Delay in Minutes'] + df_test['Arrival Delay in Minutes'])/2"
   ]
  },
  {
   "cell_type": "code",
   "execution_count": 64,
   "metadata": {
    "ExecuteTime": {
     "end_time": "2022-02-12T12:31:41.015802Z",
     "start_time": "2022-02-12T12:31:40.979266Z"
    }
   },
   "outputs": [],
   "source": [
    "df_train.drop(['Departure Delay in Minutes','Arrival Delay in Minutes'], axis=1, inplace=True)\n",
    "df_test.drop(['Departure Delay in Minutes','Arrival Delay in Minutes'], axis=1, inplace=True)"
   ]
  },
  {
   "cell_type": "code",
   "execution_count": 65,
   "metadata": {
    "ExecuteTime": {
     "end_time": "2022-02-12T12:31:41.614108Z",
     "start_time": "2022-02-12T12:31:41.460471Z"
    }
   },
   "outputs": [
    {
     "data": {
      "image/png": "[encoded data removed]",
      "text/plain": [
       "<Figure size 288x288 with 1 Axes>"
      ]
     },
     "metadata": {},
     "output_type": "display_data"
    }
   ],
   "source": [
    "# 좌측에 치우쳐짐\n",
    "plt.figure(figsize=(4,4))\n",
    "sns.kdeplot(df_train['Delay'])\n",
    "plt.show()"
   ]
  },
  {
   "cell_type": "code",
   "execution_count": 66,
   "metadata": {
    "ExecuteTime": {
     "end_time": "2022-02-12T12:31:42.065480Z",
     "start_time": "2022-02-12T12:31:42.051747Z"
    }
   },
   "outputs": [],
   "source": [
    "df_train['Delay'] = np.log1p(df_train['Delay'])\n",
    "df_test['Delay'] = np.log1p(df_test['Delay'])"
   ]
  },
  {
   "cell_type": "markdown",
   "metadata": {},
   "source": [
    "## 0이 있는 이산형 Feature"
   ]
  },
  {
   "cell_type": "code",
   "execution_count": 67,
   "metadata": {
    "ExecuteTime": {
     "end_time": "2022-02-12T12:31:51.140351Z",
     "start_time": "2022-02-12T12:31:51.135166Z"
    }
   },
   "outputs": [],
   "source": [
    "zero_feat = ['Seat comfort', 'Food and drink', 'Inflight entertainment', 'Leg room service']"
   ]
  },
  {
   "cell_type": "code",
   "execution_count": 68,
   "metadata": {
    "ExecuteTime": {
     "end_time": "2022-02-12T12:31:51.667942Z",
     "start_time": "2022-02-12T12:31:51.639228Z"
    }
   },
   "outputs": [
    {
     "name": "stdout",
     "output_type": "stream",
     "text": [
      "Seat comfort\n",
      "0    106\n",
      "Name: Seat comfort, dtype: int64 \n",
      "\n",
      "Food and drink\n",
      "0    100\n",
      "1      5\n",
      "3      1\n",
      "Name: Food and drink, dtype: int64 \n",
      "\n",
      "Inflight entertainment\n",
      "0    44\n",
      "5    28\n",
      "4    23\n",
      "1     5\n",
      "3     4\n",
      "2     2\n",
      "Name: Inflight entertainment, dtype: int64 \n",
      "\n",
      "Leg room service\n",
      "5    22\n",
      "4    21\n",
      "2    21\n",
      "3    19\n",
      "1    15\n",
      "0     8\n",
      "Name: Leg room service, dtype: int64 \n",
      "\n"
     ]
    }
   ],
   "source": [
    "# Seat comfort\n",
    "for feat in zero_feat:\n",
    "    print(feat)\n",
    "    print(df_train[feat][df_train['Seat comfort']==0].value_counts(), '\\n')"
   ]
  },
  {
   "cell_type": "code",
   "execution_count": 69,
   "metadata": {
    "ExecuteTime": {
     "end_time": "2022-02-12T12:31:52.124534Z",
     "start_time": "2022-02-12T12:31:52.095368Z"
    }
   },
   "outputs": [
    {
     "name": "stdout",
     "output_type": "stream",
     "text": [
      "Seat comfort\n",
      "0    44\n",
      "5     9\n",
      "1     9\n",
      "2     5\n",
      "4     3\n",
      "3     3\n",
      "Name: Seat comfort, dtype: int64 \n",
      "\n",
      "Food and drink\n",
      "0    68\n",
      "5     5\n",
      "Name: Food and drink, dtype: int64 \n",
      "\n",
      "Inflight entertainment\n",
      "0    73\n",
      "Name: Inflight entertainment, dtype: int64 \n",
      "\n",
      "Leg room service\n",
      "5    21\n",
      "3    15\n",
      "2    15\n",
      "4    13\n",
      "1     9\n",
      "Name: Leg room service, dtype: int64 \n",
      "\n"
     ]
    }
   ],
   "source": [
    "# Inflight entertainment\n",
    "for feat in zero_feat:\n",
    "    print(feat)\n",
    "    print(df_train[feat][df_train['Inflight entertainment']==0].value_counts(), '\\n')"
   ]
  },
  {
   "cell_type": "code",
   "execution_count": 70,
   "metadata": {
    "ExecuteTime": {
     "end_time": "2022-02-12T12:31:52.547417Z",
     "start_time": "2022-02-12T12:31:52.534019Z"
    }
   },
   "outputs": [
    {
     "name": "stdout",
     "output_type": "stream",
     "text": [
      "Seat comfort\n",
      "0    100\n",
      "1     12\n",
      "2      6\n",
      "5      4\n",
      "4      4\n",
      "3      3\n",
      "Name: Seat comfort, dtype: int64 \n",
      "\n",
      "Food and drink\n",
      "0    129\n",
      "Name: Food and drink, dtype: int64 \n",
      "\n",
      "Inflight entertainment\n",
      "0    68\n",
      "5    25\n",
      "4    22\n",
      "3     6\n",
      "2     4\n",
      "1     4\n",
      "Name: Inflight entertainment, dtype: int64 \n",
      "\n",
      "Leg room service\n",
      "5    30\n",
      "3    24\n",
      "4    23\n",
      "2    23\n",
      "1    18\n",
      "0    11\n",
      "Name: Leg room service, dtype: int64 \n",
      "\n"
     ]
    }
   ],
   "source": [
    "# Food and drink\n",
    "for feat in zero_feat:\n",
    "    print(feat)\n",
    "    print(df_train[feat][df_train['Food and drink']==0].value_counts(), '\\n')"
   ]
  },
  {
   "cell_type": "code",
   "execution_count": 71,
   "metadata": {
    "ExecuteTime": {
     "end_time": "2022-02-12T12:31:52.970046Z",
     "start_time": "2022-02-12T12:31:52.941722Z"
    }
   },
   "outputs": [
    {
     "name": "stdout",
     "output_type": "stream",
     "text": [
      "Seat comfort\n",
      "0    8\n",
      "1    2\n",
      "4    1\n",
      "Name: Seat comfort, dtype: int64 \n",
      "\n",
      "Food and drink\n",
      "0    11\n",
      "Name: Food and drink, dtype: int64 \n",
      "\n",
      "Inflight entertainment\n",
      "5    5\n",
      "3    4\n",
      "4    1\n",
      "2    1\n",
      "Name: Inflight entertainment, dtype: int64 \n",
      "\n",
      "Leg room service\n",
      "0    11\n",
      "Name: Leg room service, dtype: int64 \n",
      "\n"
     ]
    }
   ],
   "source": [
    "# Leg room service\n",
    "for feat in zero_feat:\n",
    "    print(feat)\n",
    "    print(df_train[feat][df_train['Leg room service']==0].value_counts(), '\\n')"
   ]
  },
  {
   "cell_type": "code",
   "execution_count": 72,
   "metadata": {
    "ExecuteTime": {
     "end_time": "2022-02-12T12:31:53.391109Z",
     "start_time": "2022-02-12T12:31:53.377706Z"
    }
   },
   "outputs": [
    {
     "data": {
      "text/plain": [
       "1    100\n",
       "Name: target, dtype: int64"
      ]
     },
     "execution_count": 72,
     "metadata": {},
     "output_type": "execute_result"
    }
   ],
   "source": [
    "# Seat comfort랑 Food and drink가 0이면 무조건 만족이다 -> 그냥 대충 적은 듯\n",
    "df_train['target'][(df_train['Seat comfort']==0) &(df_train['Food and drink']==0)].value_counts()"
   ]
  },
  {
   "cell_type": "code",
   "execution_count": 73,
   "metadata": {
    "ExecuteTime": {
     "end_time": "2022-02-12T12:31:53.986765Z",
     "start_time": "2022-02-12T12:31:53.964628Z"
    }
   },
   "outputs": [
    {
     "data": {
      "text/plain": [
       "1    8\n",
       "Name: target, dtype: int64"
      ]
     },
     "execution_count": 73,
     "metadata": {},
     "output_type": "execute_result"
    }
   ],
   "source": [
    "# Seat comfort랑 Leg room service가 0이면 무조건 만족이다 \n",
    "df_train['target'][(df_train['Leg room service']==0) &(df_train['Seat comfort']==0)].value_counts()"
   ]
  },
  {
   "cell_type": "code",
   "execution_count": 74,
   "metadata": {
    "ExecuteTime": {
     "end_time": "2022-02-12T12:31:54.590833Z",
     "start_time": "2022-02-12T12:31:54.570822Z"
    }
   },
   "outputs": [
    {
     "data": {
      "text/plain": [
       "0    44\n",
       "5    25\n",
       "4    22\n",
       "3     4\n",
       "1     3\n",
       "2     2\n",
       "Name: Inflight entertainment, dtype: int64"
      ]
     },
     "execution_count": 74,
     "metadata": {},
     "output_type": "execute_result"
    }
   ],
   "source": [
    "# Inflight entertainment와 Food and drink\n",
    "df_train['Inflight entertainment'][(df_train['Food and drink']==0) & (df_train['Seat comfort']==0)].value_counts()"
   ]
  },
  {
   "cell_type": "code",
   "execution_count": 76,
   "metadata": {
    "ExecuteTime": {
     "end_time": "2022-02-12T12:32:26.268860Z",
     "start_time": "2022-02-12T12:32:26.246064Z"
    }
   },
   "outputs": [],
   "source": [
    "# 위의 근거들로 0인 값을 5로 변경\n",
    "# 원래의 피쳐를 변경하면 다음 줄에서 오류 발생해서 새로운 피쳐 생성하고 기존 피쳐 제거\n",
    "def zero_process(df):\n",
    "    df['Seat comfort_trans'] = np.where((df['Seat comfort'] == 0) & (df['Food and drink'] == 0), 5, df['Seat comfort'])\n",
    "    df['Food and drink_trans'] = np.where((df['Seat comfort'] == 0) & (df['Food and drink'] == 0), 5, df['Food and drink'])\n",
    "    df['Leg room service_trans'] = np.where((df['Seat comfort'] == 0) & (df['Leg room service'] == 0), 5, df['Leg room service'])\n",
    "    \n",
    "    df.drop(['Seat comfort', 'Food and drink', 'Leg room service'], axis=1, inplace=True)\n",
    "    \n",
    "    return df"
   ]
  },
  {
   "cell_type": "code",
   "execution_count": 77,
   "metadata": {
    "ExecuteTime": {
     "end_time": "2022-02-12T12:32:26.721684Z",
     "start_time": "2022-02-12T12:32:26.708766Z"
    }
   },
   "outputs": [],
   "source": [
    "# 위의 경우에 해당하는 경우에 1, 아니면 0인 피쳐 생성\n",
    "def zero_process2(df):\n",
    "    df['Seat comfort zero'] = np.where((df['Seat comfort'] == 0) & (df['Food and drink'] == 0), 1, 0)\n",
    "    df['Food and drink zero'] = np.where((df['Seat comfort'] == 0) & (df['Food and drink'] == 0), 1, 0)\n",
    "    df['Leg room service zero'] = np.where((df['Seat comfort'] == 0) & (df['Leg room service'] == 0), 1, 0)\n",
    "    \n",
    "    return df"
   ]
  },
  {
   "cell_type": "code",
   "execution_count": 78,
   "metadata": {
    "ExecuteTime": {
     "end_time": "2022-02-12T12:32:27.156409Z",
     "start_time": "2022-02-12T12:32:27.144430Z"
    }
   },
   "outputs": [],
   "source": [
    "# df_train = zero_process2(df_train)\n",
    "# df_test = zero_process2(df_test)"
   ]
  },
  {
   "cell_type": "code",
   "execution_count": 79,
   "metadata": {
    "ExecuteTime": {
     "end_time": "2022-02-12T12:32:27.640726Z",
     "start_time": "2022-02-12T12:32:27.636455Z"
    }
   },
   "outputs": [],
   "source": [
    "# df_train = zero_process(df_train)\n",
    "# df_test = zero_process(df_test)"
   ]
  },
  {
   "cell_type": "markdown",
   "metadata": {},
   "source": [
    "## One-hot encoding"
   ]
  },
  {
   "cell_type": "code",
   "execution_count": 80,
   "metadata": {
    "ExecuteTime": {
     "end_time": "2022-02-12T12:32:29.322698Z",
     "start_time": "2022-02-12T12:32:29.306736Z"
    }
   },
   "outputs": [],
   "source": [
    "dummy_feat = list(df_train.dtypes[df_train.dtypes=='object'].index)"
   ]
  },
  {
   "cell_type": "code",
   "execution_count": 81,
   "metadata": {
    "ExecuteTime": {
     "end_time": "2022-02-12T12:32:29.840532Z",
     "start_time": "2022-02-12T12:32:29.813035Z"
    }
   },
   "outputs": [],
   "source": [
    "df_train = pd.get_dummies(df_train, columns = dummy_feat)\n",
    "df_test = pd.get_dummies(df_test, columns = dummy_feat)"
   ]
  },
  {
   "cell_type": "markdown",
   "metadata": {
    "ExecuteTime": {
     "end_time": "2022-02-10T13:47:48.651850Z",
     "start_time": "2022-02-10T13:47:48.632326Z"
    }
   },
   "source": [
    "## Feature drop\n",
    "\n",
    "> 피쳐 제거\n",
    "- id - 학습에 관련없음 -> 앞에서 삭제함\n",
    "- Food and drink - Seat comfort와의 다중 공선성과 많은 결측치\n",
    "- Departure/Arrival time convenient - 많은 결측치 및 target과의 낮은 상관계수\n",
    "- Inflight entertainment - target과 낮은 상관계수 (0을 어떻게 처리할지 모르겠음)\n",
    "- Online support  - target과 낮은 상관계수\n",
    "- Ease of Online booking  - target과 낮은 상관계수"
   ]
  },
  {
   "cell_type": "code",
   "execution_count": 82,
   "metadata": {
    "ExecuteTime": {
     "end_time": "2022-02-12T12:32:34.776225Z",
     "start_time": "2022-02-12T12:32:34.751543Z"
    }
   },
   "outputs": [],
   "source": [
    "df_train.drop(['Food and drink', 'Departure/Arrival time convenient', 'Inflight entertainment', 'Online support', 'Ease of Online booking'], axis=1, inplace=True)\n",
    "df_test.drop(['Food and drink', 'Departure/Arrival time convenient', 'Inflight entertainment', 'Online support', 'Ease of Online booking'], axis=1, inplace=True)"
   ]
  },
  {
   "cell_type": "markdown",
   "metadata": {},
   "source": [
    "# Modeling\n",
    "\n",
    "> 평가산식\n",
    "- 정확도 : accuracy"
   ]
  },
  {
   "cell_type": "code",
   "execution_count": 83,
   "metadata": {
    "ExecuteTime": {
     "end_time": "2022-02-12T12:32:35.353572Z",
     "start_time": "2022-02-12T12:32:35.342415Z"
    }
   },
   "outputs": [],
   "source": [
    "X = df_train.drop('target', axis=1).values\n",
    "y = df_train['target'].values\n",
    "\n",
    "X_sub = df_test.values"
   ]
  },
  {
   "cell_type": "code",
   "execution_count": 84,
   "metadata": {
    "ExecuteTime": {
     "end_time": "2022-02-12T12:32:38.927800Z",
     "start_time": "2022-02-12T12:32:35.776345Z"
    }
   },
   "outputs": [
    {
     "data": {
      "text/html": [
       "<style  type=\"text/css\" >\n",
       "    #T_dd51dd46_8bff_11ec_afd5_d83bbf4e560frow44_col1 {\n",
       "            background-color:  lightgreen;\n",
       "        }</style><table id=\"T_dd51dd46_8bff_11ec_afd5_d83bbf4e560f\" ><thead>    <tr>        <th class=\"blank level0\" ></th>        <th class=\"col_heading level0 col0\" >Description</th>        <th class=\"col_heading level0 col1\" >Value</th>    </tr></thead><tbody>\n",
       "                <tr>\n",
       "                        <th id=\"T_dd51dd46_8bff_11ec_afd5_d83bbf4e560flevel0_row0\" class=\"row_heading level0 row0\" >0</th>\n",
       "                        <td id=\"T_dd51dd46_8bff_11ec_afd5_d83bbf4e560frow0_col0\" class=\"data row0 col0\" >session_id</td>\n",
       "                        <td id=\"T_dd51dd46_8bff_11ec_afd5_d83bbf4e560frow0_col1\" class=\"data row0 col1\" >20201809</td>\n",
       "            </tr>\n",
       "            <tr>\n",
       "                        <th id=\"T_dd51dd46_8bff_11ec_afd5_d83bbf4e560flevel0_row1\" class=\"row_heading level0 row1\" >1</th>\n",
       "                        <td id=\"T_dd51dd46_8bff_11ec_afd5_d83bbf4e560frow1_col0\" class=\"data row1 col0\" >Target</td>\n",
       "                        <td id=\"T_dd51dd46_8bff_11ec_afd5_d83bbf4e560frow1_col1\" class=\"data row1 col1\" >target</td>\n",
       "            </tr>\n",
       "            <tr>\n",
       "                        <th id=\"T_dd51dd46_8bff_11ec_afd5_d83bbf4e560flevel0_row2\" class=\"row_heading level0 row2\" >2</th>\n",
       "                        <td id=\"T_dd51dd46_8bff_11ec_afd5_d83bbf4e560frow2_col0\" class=\"data row2 col0\" >Target Type</td>\n",
       "                        <td id=\"T_dd51dd46_8bff_11ec_afd5_d83bbf4e560frow2_col1\" class=\"data row2 col1\" >Binary</td>\n",
       "            </tr>\n",
       "            <tr>\n",
       "                        <th id=\"T_dd51dd46_8bff_11ec_afd5_d83bbf4e560flevel0_row3\" class=\"row_heading level0 row3\" >3</th>\n",
       "                        <td id=\"T_dd51dd46_8bff_11ec_afd5_d83bbf4e560frow3_col0\" class=\"data row3 col0\" >Label Encoded</td>\n",
       "                        <td id=\"T_dd51dd46_8bff_11ec_afd5_d83bbf4e560frow3_col1\" class=\"data row3 col1\" >None</td>\n",
       "            </tr>\n",
       "            <tr>\n",
       "                        <th id=\"T_dd51dd46_8bff_11ec_afd5_d83bbf4e560flevel0_row4\" class=\"row_heading level0 row4\" >4</th>\n",
       "                        <td id=\"T_dd51dd46_8bff_11ec_afd5_d83bbf4e560frow4_col0\" class=\"data row4 col0\" >Original Data</td>\n",
       "                        <td id=\"T_dd51dd46_8bff_11ec_afd5_d83bbf4e560frow4_col1\" class=\"data row4 col1\" >(3000, 22)</td>\n",
       "            </tr>\n",
       "            <tr>\n",
       "                        <th id=\"T_dd51dd46_8bff_11ec_afd5_d83bbf4e560flevel0_row5\" class=\"row_heading level0 row5\" >5</th>\n",
       "                        <td id=\"T_dd51dd46_8bff_11ec_afd5_d83bbf4e560frow5_col0\" class=\"data row5 col0\" >Missing Values</td>\n",
       "                        <td id=\"T_dd51dd46_8bff_11ec_afd5_d83bbf4e560frow5_col1\" class=\"data row5 col1\" >False</td>\n",
       "            </tr>\n",
       "            <tr>\n",
       "                        <th id=\"T_dd51dd46_8bff_11ec_afd5_d83bbf4e560flevel0_row6\" class=\"row_heading level0 row6\" >6</th>\n",
       "                        <td id=\"T_dd51dd46_8bff_11ec_afd5_d83bbf4e560frow6_col0\" class=\"data row6 col0\" >Numeric Features</td>\n",
       "                        <td id=\"T_dd51dd46_8bff_11ec_afd5_d83bbf4e560frow6_col1\" class=\"data row6 col1\" >11</td>\n",
       "            </tr>\n",
       "            <tr>\n",
       "                        <th id=\"T_dd51dd46_8bff_11ec_afd5_d83bbf4e560flevel0_row7\" class=\"row_heading level0 row7\" >7</th>\n",
       "                        <td id=\"T_dd51dd46_8bff_11ec_afd5_d83bbf4e560frow7_col0\" class=\"data row7 col0\" >Categorical Features</td>\n",
       "                        <td id=\"T_dd51dd46_8bff_11ec_afd5_d83bbf4e560frow7_col1\" class=\"data row7 col1\" >10</td>\n",
       "            </tr>\n",
       "            <tr>\n",
       "                        <th id=\"T_dd51dd46_8bff_11ec_afd5_d83bbf4e560flevel0_row8\" class=\"row_heading level0 row8\" >8</th>\n",
       "                        <td id=\"T_dd51dd46_8bff_11ec_afd5_d83bbf4e560frow8_col0\" class=\"data row8 col0\" >Ordinal Features</td>\n",
       "                        <td id=\"T_dd51dd46_8bff_11ec_afd5_d83bbf4e560frow8_col1\" class=\"data row8 col1\" >False</td>\n",
       "            </tr>\n",
       "            <tr>\n",
       "                        <th id=\"T_dd51dd46_8bff_11ec_afd5_d83bbf4e560flevel0_row9\" class=\"row_heading level0 row9\" >9</th>\n",
       "                        <td id=\"T_dd51dd46_8bff_11ec_afd5_d83bbf4e560frow9_col0\" class=\"data row9 col0\" >High Cardinality Features</td>\n",
       "                        <td id=\"T_dd51dd46_8bff_11ec_afd5_d83bbf4e560frow9_col1\" class=\"data row9 col1\" >False</td>\n",
       "            </tr>\n",
       "            <tr>\n",
       "                        <th id=\"T_dd51dd46_8bff_11ec_afd5_d83bbf4e560flevel0_row10\" class=\"row_heading level0 row10\" >10</th>\n",
       "                        <td id=\"T_dd51dd46_8bff_11ec_afd5_d83bbf4e560frow10_col0\" class=\"data row10 col0\" >High Cardinality Method</td>\n",
       "                        <td id=\"T_dd51dd46_8bff_11ec_afd5_d83bbf4e560frow10_col1\" class=\"data row10 col1\" >None</td>\n",
       "            </tr>\n",
       "            <tr>\n",
       "                        <th id=\"T_dd51dd46_8bff_11ec_afd5_d83bbf4e560flevel0_row11\" class=\"row_heading level0 row11\" >11</th>\n",
       "                        <td id=\"T_dd51dd46_8bff_11ec_afd5_d83bbf4e560frow11_col0\" class=\"data row11 col0\" >Transformed Train Set</td>\n",
       "                        <td id=\"T_dd51dd46_8bff_11ec_afd5_d83bbf4e560frow11_col1\" class=\"data row11 col1\" >(2099, 66)</td>\n",
       "            </tr>\n",
       "            <tr>\n",
       "                        <th id=\"T_dd51dd46_8bff_11ec_afd5_d83bbf4e560flevel0_row12\" class=\"row_heading level0 row12\" >12</th>\n",
       "                        <td id=\"T_dd51dd46_8bff_11ec_afd5_d83bbf4e560frow12_col0\" class=\"data row12 col0\" >Transformed Test Set</td>\n",
       "                        <td id=\"T_dd51dd46_8bff_11ec_afd5_d83bbf4e560frow12_col1\" class=\"data row12 col1\" >(901, 66)</td>\n",
       "            </tr>\n",
       "            <tr>\n",
       "                        <th id=\"T_dd51dd46_8bff_11ec_afd5_d83bbf4e560flevel0_row13\" class=\"row_heading level0 row13\" >13</th>\n",
       "                        <td id=\"T_dd51dd46_8bff_11ec_afd5_d83bbf4e560frow13_col0\" class=\"data row13 col0\" >Shuffle Train-Test</td>\n",
       "                        <td id=\"T_dd51dd46_8bff_11ec_afd5_d83bbf4e560frow13_col1\" class=\"data row13 col1\" >True</td>\n",
       "            </tr>\n",
       "            <tr>\n",
       "                        <th id=\"T_dd51dd46_8bff_11ec_afd5_d83bbf4e560flevel0_row14\" class=\"row_heading level0 row14\" >14</th>\n",
       "                        <td id=\"T_dd51dd46_8bff_11ec_afd5_d83bbf4e560frow14_col0\" class=\"data row14 col0\" >Stratify Train-Test</td>\n",
       "                        <td id=\"T_dd51dd46_8bff_11ec_afd5_d83bbf4e560frow14_col1\" class=\"data row14 col1\" >False</td>\n",
       "            </tr>\n",
       "            <tr>\n",
       "                        <th id=\"T_dd51dd46_8bff_11ec_afd5_d83bbf4e560flevel0_row15\" class=\"row_heading level0 row15\" >15</th>\n",
       "                        <td id=\"T_dd51dd46_8bff_11ec_afd5_d83bbf4e560frow15_col0\" class=\"data row15 col0\" >Fold Generator</td>\n",
       "                        <td id=\"T_dd51dd46_8bff_11ec_afd5_d83bbf4e560frow15_col1\" class=\"data row15 col1\" >StratifiedKFold</td>\n",
       "            </tr>\n",
       "            <tr>\n",
       "                        <th id=\"T_dd51dd46_8bff_11ec_afd5_d83bbf4e560flevel0_row16\" class=\"row_heading level0 row16\" >16</th>\n",
       "                        <td id=\"T_dd51dd46_8bff_11ec_afd5_d83bbf4e560frow16_col0\" class=\"data row16 col0\" >Fold Number</td>\n",
       "                        <td id=\"T_dd51dd46_8bff_11ec_afd5_d83bbf4e560frow16_col1\" class=\"data row16 col1\" >10</td>\n",
       "            </tr>\n",
       "            <tr>\n",
       "                        <th id=\"T_dd51dd46_8bff_11ec_afd5_d83bbf4e560flevel0_row17\" class=\"row_heading level0 row17\" >17</th>\n",
       "                        <td id=\"T_dd51dd46_8bff_11ec_afd5_d83bbf4e560frow17_col0\" class=\"data row17 col0\" >CPU Jobs</td>\n",
       "                        <td id=\"T_dd51dd46_8bff_11ec_afd5_d83bbf4e560frow17_col1\" class=\"data row17 col1\" >7</td>\n",
       "            </tr>\n",
       "            <tr>\n",
       "                        <th id=\"T_dd51dd46_8bff_11ec_afd5_d83bbf4e560flevel0_row18\" class=\"row_heading level0 row18\" >18</th>\n",
       "                        <td id=\"T_dd51dd46_8bff_11ec_afd5_d83bbf4e560frow18_col0\" class=\"data row18 col0\" >Use GPU</td>\n",
       "                        <td id=\"T_dd51dd46_8bff_11ec_afd5_d83bbf4e560frow18_col1\" class=\"data row18 col1\" >False</td>\n",
       "            </tr>\n",
       "            <tr>\n",
       "                        <th id=\"T_dd51dd46_8bff_11ec_afd5_d83bbf4e560flevel0_row19\" class=\"row_heading level0 row19\" >19</th>\n",
       "                        <td id=\"T_dd51dd46_8bff_11ec_afd5_d83bbf4e560frow19_col0\" class=\"data row19 col0\" >Log Experiment</td>\n",
       "                        <td id=\"T_dd51dd46_8bff_11ec_afd5_d83bbf4e560frow19_col1\" class=\"data row19 col1\" >False</td>\n",
       "            </tr>\n",
       "            <tr>\n",
       "                        <th id=\"T_dd51dd46_8bff_11ec_afd5_d83bbf4e560flevel0_row20\" class=\"row_heading level0 row20\" >20</th>\n",
       "                        <td id=\"T_dd51dd46_8bff_11ec_afd5_d83bbf4e560frow20_col0\" class=\"data row20 col0\" >Experiment Name</td>\n",
       "                        <td id=\"T_dd51dd46_8bff_11ec_afd5_d83bbf4e560frow20_col1\" class=\"data row20 col1\" >clf-default-name</td>\n",
       "            </tr>\n",
       "            <tr>\n",
       "                        <th id=\"T_dd51dd46_8bff_11ec_afd5_d83bbf4e560flevel0_row21\" class=\"row_heading level0 row21\" >21</th>\n",
       "                        <td id=\"T_dd51dd46_8bff_11ec_afd5_d83bbf4e560frow21_col0\" class=\"data row21 col0\" >USI</td>\n",
       "                        <td id=\"T_dd51dd46_8bff_11ec_afd5_d83bbf4e560frow21_col1\" class=\"data row21 col1\" >d59a</td>\n",
       "            </tr>\n",
       "            <tr>\n",
       "                        <th id=\"T_dd51dd46_8bff_11ec_afd5_d83bbf4e560flevel0_row22\" class=\"row_heading level0 row22\" >22</th>\n",
       "                        <td id=\"T_dd51dd46_8bff_11ec_afd5_d83bbf4e560frow22_col0\" class=\"data row22 col0\" >Imputation Type</td>\n",
       "                        <td id=\"T_dd51dd46_8bff_11ec_afd5_d83bbf4e560frow22_col1\" class=\"data row22 col1\" >simple</td>\n",
       "            </tr>\n",
       "            <tr>\n",
       "                        <th id=\"T_dd51dd46_8bff_11ec_afd5_d83bbf4e560flevel0_row23\" class=\"row_heading level0 row23\" >23</th>\n",
       "                        <td id=\"T_dd51dd46_8bff_11ec_afd5_d83bbf4e560frow23_col0\" class=\"data row23 col0\" >Iterative Imputation Iteration</td>\n",
       "                        <td id=\"T_dd51dd46_8bff_11ec_afd5_d83bbf4e560frow23_col1\" class=\"data row23 col1\" >None</td>\n",
       "            </tr>\n",
       "            <tr>\n",
       "                        <th id=\"T_dd51dd46_8bff_11ec_afd5_d83bbf4e560flevel0_row24\" class=\"row_heading level0 row24\" >24</th>\n",
       "                        <td id=\"T_dd51dd46_8bff_11ec_afd5_d83bbf4e560frow24_col0\" class=\"data row24 col0\" >Numeric Imputer</td>\n",
       "                        <td id=\"T_dd51dd46_8bff_11ec_afd5_d83bbf4e560frow24_col1\" class=\"data row24 col1\" >mean</td>\n",
       "            </tr>\n",
       "            <tr>\n",
       "                        <th id=\"T_dd51dd46_8bff_11ec_afd5_d83bbf4e560flevel0_row25\" class=\"row_heading level0 row25\" >25</th>\n",
       "                        <td id=\"T_dd51dd46_8bff_11ec_afd5_d83bbf4e560frow25_col0\" class=\"data row25 col0\" >Iterative Imputation Numeric Model</td>\n",
       "                        <td id=\"T_dd51dd46_8bff_11ec_afd5_d83bbf4e560frow25_col1\" class=\"data row25 col1\" >None</td>\n",
       "            </tr>\n",
       "            <tr>\n",
       "                        <th id=\"T_dd51dd46_8bff_11ec_afd5_d83bbf4e560flevel0_row26\" class=\"row_heading level0 row26\" >26</th>\n",
       "                        <td id=\"T_dd51dd46_8bff_11ec_afd5_d83bbf4e560frow26_col0\" class=\"data row26 col0\" >Categorical Imputer</td>\n",
       "                        <td id=\"T_dd51dd46_8bff_11ec_afd5_d83bbf4e560frow26_col1\" class=\"data row26 col1\" >constant</td>\n",
       "            </tr>\n",
       "            <tr>\n",
       "                        <th id=\"T_dd51dd46_8bff_11ec_afd5_d83bbf4e560flevel0_row27\" class=\"row_heading level0 row27\" >27</th>\n",
       "                        <td id=\"T_dd51dd46_8bff_11ec_afd5_d83bbf4e560frow27_col0\" class=\"data row27 col0\" >Iterative Imputation Categorical Model</td>\n",
       "                        <td id=\"T_dd51dd46_8bff_11ec_afd5_d83bbf4e560frow27_col1\" class=\"data row27 col1\" >None</td>\n",
       "            </tr>\n",
       "            <tr>\n",
       "                        <th id=\"T_dd51dd46_8bff_11ec_afd5_d83bbf4e560flevel0_row28\" class=\"row_heading level0 row28\" >28</th>\n",
       "                        <td id=\"T_dd51dd46_8bff_11ec_afd5_d83bbf4e560frow28_col0\" class=\"data row28 col0\" >Unknown Categoricals Handling</td>\n",
       "                        <td id=\"T_dd51dd46_8bff_11ec_afd5_d83bbf4e560frow28_col1\" class=\"data row28 col1\" >least_frequent</td>\n",
       "            </tr>\n",
       "            <tr>\n",
       "                        <th id=\"T_dd51dd46_8bff_11ec_afd5_d83bbf4e560flevel0_row29\" class=\"row_heading level0 row29\" >29</th>\n",
       "                        <td id=\"T_dd51dd46_8bff_11ec_afd5_d83bbf4e560frow29_col0\" class=\"data row29 col0\" >Normalize</td>\n",
       "                        <td id=\"T_dd51dd46_8bff_11ec_afd5_d83bbf4e560frow29_col1\" class=\"data row29 col1\" >False</td>\n",
       "            </tr>\n",
       "            <tr>\n",
       "                        <th id=\"T_dd51dd46_8bff_11ec_afd5_d83bbf4e560flevel0_row30\" class=\"row_heading level0 row30\" >30</th>\n",
       "                        <td id=\"T_dd51dd46_8bff_11ec_afd5_d83bbf4e560frow30_col0\" class=\"data row30 col0\" >Normalize Method</td>\n",
       "                        <td id=\"T_dd51dd46_8bff_11ec_afd5_d83bbf4e560frow30_col1\" class=\"data row30 col1\" >None</td>\n",
       "            </tr>\n",
       "            <tr>\n",
       "                        <th id=\"T_dd51dd46_8bff_11ec_afd5_d83bbf4e560flevel0_row31\" class=\"row_heading level0 row31\" >31</th>\n",
       "                        <td id=\"T_dd51dd46_8bff_11ec_afd5_d83bbf4e560frow31_col0\" class=\"data row31 col0\" >Transformation</td>\n",
       "                        <td id=\"T_dd51dd46_8bff_11ec_afd5_d83bbf4e560frow31_col1\" class=\"data row31 col1\" >False</td>\n",
       "            </tr>\n",
       "            <tr>\n",
       "                        <th id=\"T_dd51dd46_8bff_11ec_afd5_d83bbf4e560flevel0_row32\" class=\"row_heading level0 row32\" >32</th>\n",
       "                        <td id=\"T_dd51dd46_8bff_11ec_afd5_d83bbf4e560frow32_col0\" class=\"data row32 col0\" >Transformation Method</td>\n",
       "                        <td id=\"T_dd51dd46_8bff_11ec_afd5_d83bbf4e560frow32_col1\" class=\"data row32 col1\" >None</td>\n",
       "            </tr>\n",
       "            <tr>\n",
       "                        <th id=\"T_dd51dd46_8bff_11ec_afd5_d83bbf4e560flevel0_row33\" class=\"row_heading level0 row33\" >33</th>\n",
       "                        <td id=\"T_dd51dd46_8bff_11ec_afd5_d83bbf4e560frow33_col0\" class=\"data row33 col0\" >PCA</td>\n",
       "                        <td id=\"T_dd51dd46_8bff_11ec_afd5_d83bbf4e560frow33_col1\" class=\"data row33 col1\" >False</td>\n",
       "            </tr>\n",
       "            <tr>\n",
       "                        <th id=\"T_dd51dd46_8bff_11ec_afd5_d83bbf4e560flevel0_row34\" class=\"row_heading level0 row34\" >34</th>\n",
       "                        <td id=\"T_dd51dd46_8bff_11ec_afd5_d83bbf4e560frow34_col0\" class=\"data row34 col0\" >PCA Method</td>\n",
       "                        <td id=\"T_dd51dd46_8bff_11ec_afd5_d83bbf4e560frow34_col1\" class=\"data row34 col1\" >None</td>\n",
       "            </tr>\n",
       "            <tr>\n",
       "                        <th id=\"T_dd51dd46_8bff_11ec_afd5_d83bbf4e560flevel0_row35\" class=\"row_heading level0 row35\" >35</th>\n",
       "                        <td id=\"T_dd51dd46_8bff_11ec_afd5_d83bbf4e560frow35_col0\" class=\"data row35 col0\" >PCA Components</td>\n",
       "                        <td id=\"T_dd51dd46_8bff_11ec_afd5_d83bbf4e560frow35_col1\" class=\"data row35 col1\" >None</td>\n",
       "            </tr>\n",
       "            <tr>\n",
       "                        <th id=\"T_dd51dd46_8bff_11ec_afd5_d83bbf4e560flevel0_row36\" class=\"row_heading level0 row36\" >36</th>\n",
       "                        <td id=\"T_dd51dd46_8bff_11ec_afd5_d83bbf4e560frow36_col0\" class=\"data row36 col0\" >Ignore Low Variance</td>\n",
       "                        <td id=\"T_dd51dd46_8bff_11ec_afd5_d83bbf4e560frow36_col1\" class=\"data row36 col1\" >False</td>\n",
       "            </tr>\n",
       "            <tr>\n",
       "                        <th id=\"T_dd51dd46_8bff_11ec_afd5_d83bbf4e560flevel0_row37\" class=\"row_heading level0 row37\" >37</th>\n",
       "                        <td id=\"T_dd51dd46_8bff_11ec_afd5_d83bbf4e560frow37_col0\" class=\"data row37 col0\" >Combine Rare Levels</td>\n",
       "                        <td id=\"T_dd51dd46_8bff_11ec_afd5_d83bbf4e560frow37_col1\" class=\"data row37 col1\" >False</td>\n",
       "            </tr>\n",
       "            <tr>\n",
       "                        <th id=\"T_dd51dd46_8bff_11ec_afd5_d83bbf4e560flevel0_row38\" class=\"row_heading level0 row38\" >38</th>\n",
       "                        <td id=\"T_dd51dd46_8bff_11ec_afd5_d83bbf4e560frow38_col0\" class=\"data row38 col0\" >Rare Level Threshold</td>\n",
       "                        <td id=\"T_dd51dd46_8bff_11ec_afd5_d83bbf4e560frow38_col1\" class=\"data row38 col1\" >None</td>\n",
       "            </tr>\n",
       "            <tr>\n",
       "                        <th id=\"T_dd51dd46_8bff_11ec_afd5_d83bbf4e560flevel0_row39\" class=\"row_heading level0 row39\" >39</th>\n",
       "                        <td id=\"T_dd51dd46_8bff_11ec_afd5_d83bbf4e560frow39_col0\" class=\"data row39 col0\" >Numeric Binning</td>\n",
       "                        <td id=\"T_dd51dd46_8bff_11ec_afd5_d83bbf4e560frow39_col1\" class=\"data row39 col1\" >False</td>\n",
       "            </tr>\n",
       "            <tr>\n",
       "                        <th id=\"T_dd51dd46_8bff_11ec_afd5_d83bbf4e560flevel0_row40\" class=\"row_heading level0 row40\" >40</th>\n",
       "                        <td id=\"T_dd51dd46_8bff_11ec_afd5_d83bbf4e560frow40_col0\" class=\"data row40 col0\" >Remove Outliers</td>\n",
       "                        <td id=\"T_dd51dd46_8bff_11ec_afd5_d83bbf4e560frow40_col1\" class=\"data row40 col1\" >False</td>\n",
       "            </tr>\n",
       "            <tr>\n",
       "                        <th id=\"T_dd51dd46_8bff_11ec_afd5_d83bbf4e560flevel0_row41\" class=\"row_heading level0 row41\" >41</th>\n",
       "                        <td id=\"T_dd51dd46_8bff_11ec_afd5_d83bbf4e560frow41_col0\" class=\"data row41 col0\" >Outliers Threshold</td>\n",
       "                        <td id=\"T_dd51dd46_8bff_11ec_afd5_d83bbf4e560frow41_col1\" class=\"data row41 col1\" >None</td>\n",
       "            </tr>\n",
       "            <tr>\n",
       "                        <th id=\"T_dd51dd46_8bff_11ec_afd5_d83bbf4e560flevel0_row42\" class=\"row_heading level0 row42\" >42</th>\n",
       "                        <td id=\"T_dd51dd46_8bff_11ec_afd5_d83bbf4e560frow42_col0\" class=\"data row42 col0\" >Remove Multicollinearity</td>\n",
       "                        <td id=\"T_dd51dd46_8bff_11ec_afd5_d83bbf4e560frow42_col1\" class=\"data row42 col1\" >False</td>\n",
       "            </tr>\n",
       "            <tr>\n",
       "                        <th id=\"T_dd51dd46_8bff_11ec_afd5_d83bbf4e560flevel0_row43\" class=\"row_heading level0 row43\" >43</th>\n",
       "                        <td id=\"T_dd51dd46_8bff_11ec_afd5_d83bbf4e560frow43_col0\" class=\"data row43 col0\" >Multicollinearity Threshold</td>\n",
       "                        <td id=\"T_dd51dd46_8bff_11ec_afd5_d83bbf4e560frow43_col1\" class=\"data row43 col1\" >None</td>\n",
       "            </tr>\n",
       "            <tr>\n",
       "                        <th id=\"T_dd51dd46_8bff_11ec_afd5_d83bbf4e560flevel0_row44\" class=\"row_heading level0 row44\" >44</th>\n",
       "                        <td id=\"T_dd51dd46_8bff_11ec_afd5_d83bbf4e560frow44_col0\" class=\"data row44 col0\" >Remove Perfect Collinearity</td>\n",
       "                        <td id=\"T_dd51dd46_8bff_11ec_afd5_d83bbf4e560frow44_col1\" class=\"data row44 col1\" >True</td>\n",
       "            </tr>\n",
       "            <tr>\n",
       "                        <th id=\"T_dd51dd46_8bff_11ec_afd5_d83bbf4e560flevel0_row45\" class=\"row_heading level0 row45\" >45</th>\n",
       "                        <td id=\"T_dd51dd46_8bff_11ec_afd5_d83bbf4e560frow45_col0\" class=\"data row45 col0\" >Clustering</td>\n",
       "                        <td id=\"T_dd51dd46_8bff_11ec_afd5_d83bbf4e560frow45_col1\" class=\"data row45 col1\" >False</td>\n",
       "            </tr>\n",
       "            <tr>\n",
       "                        <th id=\"T_dd51dd46_8bff_11ec_afd5_d83bbf4e560flevel0_row46\" class=\"row_heading level0 row46\" >46</th>\n",
       "                        <td id=\"T_dd51dd46_8bff_11ec_afd5_d83bbf4e560frow46_col0\" class=\"data row46 col0\" >Clustering Iteration</td>\n",
       "                        <td id=\"T_dd51dd46_8bff_11ec_afd5_d83bbf4e560frow46_col1\" class=\"data row46 col1\" >None</td>\n",
       "            </tr>\n",
       "            <tr>\n",
       "                        <th id=\"T_dd51dd46_8bff_11ec_afd5_d83bbf4e560flevel0_row47\" class=\"row_heading level0 row47\" >47</th>\n",
       "                        <td id=\"T_dd51dd46_8bff_11ec_afd5_d83bbf4e560frow47_col0\" class=\"data row47 col0\" >Polynomial Features</td>\n",
       "                        <td id=\"T_dd51dd46_8bff_11ec_afd5_d83bbf4e560frow47_col1\" class=\"data row47 col1\" >False</td>\n",
       "            </tr>\n",
       "            <tr>\n",
       "                        <th id=\"T_dd51dd46_8bff_11ec_afd5_d83bbf4e560flevel0_row48\" class=\"row_heading level0 row48\" >48</th>\n",
       "                        <td id=\"T_dd51dd46_8bff_11ec_afd5_d83bbf4e560frow48_col0\" class=\"data row48 col0\" >Polynomial Degree</td>\n",
       "                        <td id=\"T_dd51dd46_8bff_11ec_afd5_d83bbf4e560frow48_col1\" class=\"data row48 col1\" >None</td>\n",
       "            </tr>\n",
       "            <tr>\n",
       "                        <th id=\"T_dd51dd46_8bff_11ec_afd5_d83bbf4e560flevel0_row49\" class=\"row_heading level0 row49\" >49</th>\n",
       "                        <td id=\"T_dd51dd46_8bff_11ec_afd5_d83bbf4e560frow49_col0\" class=\"data row49 col0\" >Trignometry Features</td>\n",
       "                        <td id=\"T_dd51dd46_8bff_11ec_afd5_d83bbf4e560frow49_col1\" class=\"data row49 col1\" >False</td>\n",
       "            </tr>\n",
       "            <tr>\n",
       "                        <th id=\"T_dd51dd46_8bff_11ec_afd5_d83bbf4e560flevel0_row50\" class=\"row_heading level0 row50\" >50</th>\n",
       "                        <td id=\"T_dd51dd46_8bff_11ec_afd5_d83bbf4e560frow50_col0\" class=\"data row50 col0\" >Polynomial Threshold</td>\n",
       "                        <td id=\"T_dd51dd46_8bff_11ec_afd5_d83bbf4e560frow50_col1\" class=\"data row50 col1\" >None</td>\n",
       "            </tr>\n",
       "            <tr>\n",
       "                        <th id=\"T_dd51dd46_8bff_11ec_afd5_d83bbf4e560flevel0_row51\" class=\"row_heading level0 row51\" >51</th>\n",
       "                        <td id=\"T_dd51dd46_8bff_11ec_afd5_d83bbf4e560frow51_col0\" class=\"data row51 col0\" >Group Features</td>\n",
       "                        <td id=\"T_dd51dd46_8bff_11ec_afd5_d83bbf4e560frow51_col1\" class=\"data row51 col1\" >False</td>\n",
       "            </tr>\n",
       "            <tr>\n",
       "                        <th id=\"T_dd51dd46_8bff_11ec_afd5_d83bbf4e560flevel0_row52\" class=\"row_heading level0 row52\" >52</th>\n",
       "                        <td id=\"T_dd51dd46_8bff_11ec_afd5_d83bbf4e560frow52_col0\" class=\"data row52 col0\" >Feature Selection</td>\n",
       "                        <td id=\"T_dd51dd46_8bff_11ec_afd5_d83bbf4e560frow52_col1\" class=\"data row52 col1\" >False</td>\n",
       "            </tr>\n",
       "            <tr>\n",
       "                        <th id=\"T_dd51dd46_8bff_11ec_afd5_d83bbf4e560flevel0_row53\" class=\"row_heading level0 row53\" >53</th>\n",
       "                        <td id=\"T_dd51dd46_8bff_11ec_afd5_d83bbf4e560frow53_col0\" class=\"data row53 col0\" >Feature Selection Method</td>\n",
       "                        <td id=\"T_dd51dd46_8bff_11ec_afd5_d83bbf4e560frow53_col1\" class=\"data row53 col1\" >classic</td>\n",
       "            </tr>\n",
       "            <tr>\n",
       "                        <th id=\"T_dd51dd46_8bff_11ec_afd5_d83bbf4e560flevel0_row54\" class=\"row_heading level0 row54\" >54</th>\n",
       "                        <td id=\"T_dd51dd46_8bff_11ec_afd5_d83bbf4e560frow54_col0\" class=\"data row54 col0\" >Features Selection Threshold</td>\n",
       "                        <td id=\"T_dd51dd46_8bff_11ec_afd5_d83bbf4e560frow54_col1\" class=\"data row54 col1\" >None</td>\n",
       "            </tr>\n",
       "            <tr>\n",
       "                        <th id=\"T_dd51dd46_8bff_11ec_afd5_d83bbf4e560flevel0_row55\" class=\"row_heading level0 row55\" >55</th>\n",
       "                        <td id=\"T_dd51dd46_8bff_11ec_afd5_d83bbf4e560frow55_col0\" class=\"data row55 col0\" >Feature Interaction</td>\n",
       "                        <td id=\"T_dd51dd46_8bff_11ec_afd5_d83bbf4e560frow55_col1\" class=\"data row55 col1\" >False</td>\n",
       "            </tr>\n",
       "            <tr>\n",
       "                        <th id=\"T_dd51dd46_8bff_11ec_afd5_d83bbf4e560flevel0_row56\" class=\"row_heading level0 row56\" >56</th>\n",
       "                        <td id=\"T_dd51dd46_8bff_11ec_afd5_d83bbf4e560frow56_col0\" class=\"data row56 col0\" >Feature Ratio</td>\n",
       "                        <td id=\"T_dd51dd46_8bff_11ec_afd5_d83bbf4e560frow56_col1\" class=\"data row56 col1\" >False</td>\n",
       "            </tr>\n",
       "            <tr>\n",
       "                        <th id=\"T_dd51dd46_8bff_11ec_afd5_d83bbf4e560flevel0_row57\" class=\"row_heading level0 row57\" >57</th>\n",
       "                        <td id=\"T_dd51dd46_8bff_11ec_afd5_d83bbf4e560frow57_col0\" class=\"data row57 col0\" >Interaction Threshold</td>\n",
       "                        <td id=\"T_dd51dd46_8bff_11ec_afd5_d83bbf4e560frow57_col1\" class=\"data row57 col1\" >None</td>\n",
       "            </tr>\n",
       "            <tr>\n",
       "                        <th id=\"T_dd51dd46_8bff_11ec_afd5_d83bbf4e560flevel0_row58\" class=\"row_heading level0 row58\" >58</th>\n",
       "                        <td id=\"T_dd51dd46_8bff_11ec_afd5_d83bbf4e560frow58_col0\" class=\"data row58 col0\" >Fix Imbalance</td>\n",
       "                        <td id=\"T_dd51dd46_8bff_11ec_afd5_d83bbf4e560frow58_col1\" class=\"data row58 col1\" >False</td>\n",
       "            </tr>\n",
       "            <tr>\n",
       "                        <th id=\"T_dd51dd46_8bff_11ec_afd5_d83bbf4e560flevel0_row59\" class=\"row_heading level0 row59\" >59</th>\n",
       "                        <td id=\"T_dd51dd46_8bff_11ec_afd5_d83bbf4e560frow59_col0\" class=\"data row59 col0\" >Fix Imbalance Method</td>\n",
       "                        <td id=\"T_dd51dd46_8bff_11ec_afd5_d83bbf4e560frow59_col1\" class=\"data row59 col1\" >SMOTE</td>\n",
       "            </tr>\n",
       "    </tbody></table>"
      ],
      "text/plain": [
       "<pandas.io.formats.style.Styler at 0x1823f0db580>"
      ]
     },
     "metadata": {},
     "output_type": "display_data"
    }
   ],
   "source": [
    "from pycaret.classification import *\n",
    "\n",
    "clf1 = setup(data = df_train,\n",
    "             silent = True,\n",
    "             target = 'target',\n",
    "             session_id = 20201809,\n",
    "             n_jobs = 7)"
   ]
  },
  {
   "cell_type": "code",
   "execution_count": 85,
   "metadata": {
    "ExecuteTime": {
     "end_time": "2022-02-12T12:33:04.499507Z",
     "start_time": "2022-02-12T12:32:39.943069Z"
    }
   },
   "outputs": [
    {
     "data": {
      "text/html": [
       "<style  type=\"text/css\" >\n",
       "    #T_eca50d32_8bff_11ec_9399_d83bbf4e560f th {\n",
       "          text-align: left;\n",
       "    }    #T_eca50d32_8bff_11ec_9399_d83bbf4e560frow0_col0 {\n",
       "            text-align:  left;\n",
       "            text-align:  left;\n",
       "        }    #T_eca50d32_8bff_11ec_9399_d83bbf4e560frow0_col1 {\n",
       "            text-align:  left;\n",
       "            text-align:  left;\n",
       "            background-color:  yellow;\n",
       "        }    #T_eca50d32_8bff_11ec_9399_d83bbf4e560frow0_col2 {\n",
       "            text-align:  left;\n",
       "            text-align:  left;\n",
       "            : ;\n",
       "        }    #T_eca50d32_8bff_11ec_9399_d83bbf4e560frow0_col3 {\n",
       "            text-align:  left;\n",
       "            text-align:  left;\n",
       "            : ;\n",
       "        }    #T_eca50d32_8bff_11ec_9399_d83bbf4e560frow0_col4 {\n",
       "            text-align:  left;\n",
       "            text-align:  left;\n",
       "            background-color:  yellow;\n",
       "        }    #T_eca50d32_8bff_11ec_9399_d83bbf4e560frow0_col5 {\n",
       "            text-align:  left;\n",
       "            text-align:  left;\n",
       "            background-color:  yellow;\n",
       "        }    #T_eca50d32_8bff_11ec_9399_d83bbf4e560frow0_col6 {\n",
       "            text-align:  left;\n",
       "            text-align:  left;\n",
       "            background-color:  yellow;\n",
       "        }    #T_eca50d32_8bff_11ec_9399_d83bbf4e560frow0_col7 {\n",
       "            text-align:  left;\n",
       "            text-align:  left;\n",
       "            background-color:  yellow;\n",
       "        }    #T_eca50d32_8bff_11ec_9399_d83bbf4e560frow0_col8 {\n",
       "            text-align:  left;\n",
       "            text-align:  left;\n",
       "            : ;\n",
       "            background-color:  lightgrey;\n",
       "        }    #T_eca50d32_8bff_11ec_9399_d83bbf4e560frow1_col0 {\n",
       "            text-align:  left;\n",
       "            text-align:  left;\n",
       "        }    #T_eca50d32_8bff_11ec_9399_d83bbf4e560frow1_col1 {\n",
       "            text-align:  left;\n",
       "            text-align:  left;\n",
       "            : ;\n",
       "        }    #T_eca50d32_8bff_11ec_9399_d83bbf4e560frow1_col2 {\n",
       "            text-align:  left;\n",
       "            text-align:  left;\n",
       "            background-color:  yellow;\n",
       "        }    #T_eca50d32_8bff_11ec_9399_d83bbf4e560frow1_col3 {\n",
       "            text-align:  left;\n",
       "            text-align:  left;\n",
       "            : ;\n",
       "        }    #T_eca50d32_8bff_11ec_9399_d83bbf4e560frow1_col4 {\n",
       "            text-align:  left;\n",
       "            text-align:  left;\n",
       "            : ;\n",
       "        }    #T_eca50d32_8bff_11ec_9399_d83bbf4e560frow1_col5 {\n",
       "            text-align:  left;\n",
       "            text-align:  left;\n",
       "            : ;\n",
       "        }    #T_eca50d32_8bff_11ec_9399_d83bbf4e560frow1_col6 {\n",
       "            text-align:  left;\n",
       "            text-align:  left;\n",
       "            : ;\n",
       "        }    #T_eca50d32_8bff_11ec_9399_d83bbf4e560frow1_col7 {\n",
       "            text-align:  left;\n",
       "            text-align:  left;\n",
       "            : ;\n",
       "        }    #T_eca50d32_8bff_11ec_9399_d83bbf4e560frow1_col8 {\n",
       "            text-align:  left;\n",
       "            text-align:  left;\n",
       "            : ;\n",
       "            background-color:  lightgrey;\n",
       "        }    #T_eca50d32_8bff_11ec_9399_d83bbf4e560frow2_col0 {\n",
       "            text-align:  left;\n",
       "            text-align:  left;\n",
       "        }    #T_eca50d32_8bff_11ec_9399_d83bbf4e560frow2_col1 {\n",
       "            text-align:  left;\n",
       "            text-align:  left;\n",
       "            : ;\n",
       "        }    #T_eca50d32_8bff_11ec_9399_d83bbf4e560frow2_col2 {\n",
       "            text-align:  left;\n",
       "            text-align:  left;\n",
       "            : ;\n",
       "        }    #T_eca50d32_8bff_11ec_9399_d83bbf4e560frow2_col3 {\n",
       "            text-align:  left;\n",
       "            text-align:  left;\n",
       "            : ;\n",
       "        }    #T_eca50d32_8bff_11ec_9399_d83bbf4e560frow2_col4 {\n",
       "            text-align:  left;\n",
       "            text-align:  left;\n",
       "            : ;\n",
       "        }    #T_eca50d32_8bff_11ec_9399_d83bbf4e560frow2_col5 {\n",
       "            text-align:  left;\n",
       "            text-align:  left;\n",
       "            : ;\n",
       "        }    #T_eca50d32_8bff_11ec_9399_d83bbf4e560frow2_col6 {\n",
       "            text-align:  left;\n",
       "            text-align:  left;\n",
       "            : ;\n",
       "        }    #T_eca50d32_8bff_11ec_9399_d83bbf4e560frow2_col7 {\n",
       "            text-align:  left;\n",
       "            text-align:  left;\n",
       "            : ;\n",
       "        }    #T_eca50d32_8bff_11ec_9399_d83bbf4e560frow2_col8 {\n",
       "            text-align:  left;\n",
       "            text-align:  left;\n",
       "            : ;\n",
       "            background-color:  lightgrey;\n",
       "        }    #T_eca50d32_8bff_11ec_9399_d83bbf4e560frow3_col0 {\n",
       "            text-align:  left;\n",
       "            text-align:  left;\n",
       "        }    #T_eca50d32_8bff_11ec_9399_d83bbf4e560frow3_col1 {\n",
       "            text-align:  left;\n",
       "            text-align:  left;\n",
       "            : ;\n",
       "        }    #T_eca50d32_8bff_11ec_9399_d83bbf4e560frow3_col2 {\n",
       "            text-align:  left;\n",
       "            text-align:  left;\n",
       "            : ;\n",
       "        }    #T_eca50d32_8bff_11ec_9399_d83bbf4e560frow3_col3 {\n",
       "            text-align:  left;\n",
       "            text-align:  left;\n",
       "            : ;\n",
       "        }    #T_eca50d32_8bff_11ec_9399_d83bbf4e560frow3_col4 {\n",
       "            text-align:  left;\n",
       "            text-align:  left;\n",
       "            : ;\n",
       "        }    #T_eca50d32_8bff_11ec_9399_d83bbf4e560frow3_col5 {\n",
       "            text-align:  left;\n",
       "            text-align:  left;\n",
       "            : ;\n",
       "        }    #T_eca50d32_8bff_11ec_9399_d83bbf4e560frow3_col6 {\n",
       "            text-align:  left;\n",
       "            text-align:  left;\n",
       "            : ;\n",
       "        }    #T_eca50d32_8bff_11ec_9399_d83bbf4e560frow3_col7 {\n",
       "            text-align:  left;\n",
       "            text-align:  left;\n",
       "            : ;\n",
       "        }    #T_eca50d32_8bff_11ec_9399_d83bbf4e560frow3_col8 {\n",
       "            text-align:  left;\n",
       "            text-align:  left;\n",
       "            : ;\n",
       "            background-color:  lightgrey;\n",
       "        }    #T_eca50d32_8bff_11ec_9399_d83bbf4e560frow4_col0 {\n",
       "            text-align:  left;\n",
       "            text-align:  left;\n",
       "        }    #T_eca50d32_8bff_11ec_9399_d83bbf4e560frow4_col1 {\n",
       "            text-align:  left;\n",
       "            text-align:  left;\n",
       "            : ;\n",
       "        }    #T_eca50d32_8bff_11ec_9399_d83bbf4e560frow4_col2 {\n",
       "            text-align:  left;\n",
       "            text-align:  left;\n",
       "            : ;\n",
       "        }    #T_eca50d32_8bff_11ec_9399_d83bbf4e560frow4_col3 {\n",
       "            text-align:  left;\n",
       "            text-align:  left;\n",
       "            : ;\n",
       "        }    #T_eca50d32_8bff_11ec_9399_d83bbf4e560frow4_col4 {\n",
       "            text-align:  left;\n",
       "            text-align:  left;\n",
       "            : ;\n",
       "        }    #T_eca50d32_8bff_11ec_9399_d83bbf4e560frow4_col5 {\n",
       "            text-align:  left;\n",
       "            text-align:  left;\n",
       "            : ;\n",
       "        }    #T_eca50d32_8bff_11ec_9399_d83bbf4e560frow4_col6 {\n",
       "            text-align:  left;\n",
       "            text-align:  left;\n",
       "            : ;\n",
       "        }    #T_eca50d32_8bff_11ec_9399_d83bbf4e560frow4_col7 {\n",
       "            text-align:  left;\n",
       "            text-align:  left;\n",
       "            : ;\n",
       "        }    #T_eca50d32_8bff_11ec_9399_d83bbf4e560frow4_col8 {\n",
       "            text-align:  left;\n",
       "            text-align:  left;\n",
       "            : ;\n",
       "            background-color:  lightgrey;\n",
       "        }    #T_eca50d32_8bff_11ec_9399_d83bbf4e560frow5_col0 {\n",
       "            text-align:  left;\n",
       "            text-align:  left;\n",
       "        }    #T_eca50d32_8bff_11ec_9399_d83bbf4e560frow5_col1 {\n",
       "            text-align:  left;\n",
       "            text-align:  left;\n",
       "            : ;\n",
       "        }    #T_eca50d32_8bff_11ec_9399_d83bbf4e560frow5_col2 {\n",
       "            text-align:  left;\n",
       "            text-align:  left;\n",
       "            : ;\n",
       "        }    #T_eca50d32_8bff_11ec_9399_d83bbf4e560frow5_col3 {\n",
       "            text-align:  left;\n",
       "            text-align:  left;\n",
       "            : ;\n",
       "        }    #T_eca50d32_8bff_11ec_9399_d83bbf4e560frow5_col4 {\n",
       "            text-align:  left;\n",
       "            text-align:  left;\n",
       "            : ;\n",
       "        }    #T_eca50d32_8bff_11ec_9399_d83bbf4e560frow5_col5 {\n",
       "            text-align:  left;\n",
       "            text-align:  left;\n",
       "            : ;\n",
       "        }    #T_eca50d32_8bff_11ec_9399_d83bbf4e560frow5_col6 {\n",
       "            text-align:  left;\n",
       "            text-align:  left;\n",
       "            : ;\n",
       "        }    #T_eca50d32_8bff_11ec_9399_d83bbf4e560frow5_col7 {\n",
       "            text-align:  left;\n",
       "            text-align:  left;\n",
       "            : ;\n",
       "        }    #T_eca50d32_8bff_11ec_9399_d83bbf4e560frow5_col8 {\n",
       "            text-align:  left;\n",
       "            text-align:  left;\n",
       "            : ;\n",
       "            background-color:  lightgrey;\n",
       "        }    #T_eca50d32_8bff_11ec_9399_d83bbf4e560frow6_col0 {\n",
       "            text-align:  left;\n",
       "            text-align:  left;\n",
       "        }    #T_eca50d32_8bff_11ec_9399_d83bbf4e560frow6_col1 {\n",
       "            text-align:  left;\n",
       "            text-align:  left;\n",
       "            : ;\n",
       "        }    #T_eca50d32_8bff_11ec_9399_d83bbf4e560frow6_col2 {\n",
       "            text-align:  left;\n",
       "            text-align:  left;\n",
       "            : ;\n",
       "        }    #T_eca50d32_8bff_11ec_9399_d83bbf4e560frow6_col3 {\n",
       "            text-align:  left;\n",
       "            text-align:  left;\n",
       "            : ;\n",
       "        }    #T_eca50d32_8bff_11ec_9399_d83bbf4e560frow6_col4 {\n",
       "            text-align:  left;\n",
       "            text-align:  left;\n",
       "            : ;\n",
       "        }    #T_eca50d32_8bff_11ec_9399_d83bbf4e560frow6_col5 {\n",
       "            text-align:  left;\n",
       "            text-align:  left;\n",
       "            : ;\n",
       "        }    #T_eca50d32_8bff_11ec_9399_d83bbf4e560frow6_col6 {\n",
       "            text-align:  left;\n",
       "            text-align:  left;\n",
       "            : ;\n",
       "        }    #T_eca50d32_8bff_11ec_9399_d83bbf4e560frow6_col7 {\n",
       "            text-align:  left;\n",
       "            text-align:  left;\n",
       "            : ;\n",
       "        }    #T_eca50d32_8bff_11ec_9399_d83bbf4e560frow6_col8 {\n",
       "            text-align:  left;\n",
       "            text-align:  left;\n",
       "            : ;\n",
       "            background-color:  lightgrey;\n",
       "        }    #T_eca50d32_8bff_11ec_9399_d83bbf4e560frow7_col0 {\n",
       "            text-align:  left;\n",
       "            text-align:  left;\n",
       "        }    #T_eca50d32_8bff_11ec_9399_d83bbf4e560frow7_col1 {\n",
       "            text-align:  left;\n",
       "            text-align:  left;\n",
       "            : ;\n",
       "        }    #T_eca50d32_8bff_11ec_9399_d83bbf4e560frow7_col2 {\n",
       "            text-align:  left;\n",
       "            text-align:  left;\n",
       "            : ;\n",
       "        }    #T_eca50d32_8bff_11ec_9399_d83bbf4e560frow7_col3 {\n",
       "            text-align:  left;\n",
       "            text-align:  left;\n",
       "            : ;\n",
       "        }    #T_eca50d32_8bff_11ec_9399_d83bbf4e560frow7_col4 {\n",
       "            text-align:  left;\n",
       "            text-align:  left;\n",
       "            : ;\n",
       "        }    #T_eca50d32_8bff_11ec_9399_d83bbf4e560frow7_col5 {\n",
       "            text-align:  left;\n",
       "            text-align:  left;\n",
       "            : ;\n",
       "        }    #T_eca50d32_8bff_11ec_9399_d83bbf4e560frow7_col6 {\n",
       "            text-align:  left;\n",
       "            text-align:  left;\n",
       "            : ;\n",
       "        }    #T_eca50d32_8bff_11ec_9399_d83bbf4e560frow7_col7 {\n",
       "            text-align:  left;\n",
       "            text-align:  left;\n",
       "            : ;\n",
       "        }    #T_eca50d32_8bff_11ec_9399_d83bbf4e560frow7_col8 {\n",
       "            text-align:  left;\n",
       "            text-align:  left;\n",
       "            background-color:  yellow;\n",
       "            background-color:  lightgrey;\n",
       "        }    #T_eca50d32_8bff_11ec_9399_d83bbf4e560frow8_col0 {\n",
       "            text-align:  left;\n",
       "            text-align:  left;\n",
       "        }    #T_eca50d32_8bff_11ec_9399_d83bbf4e560frow8_col1 {\n",
       "            text-align:  left;\n",
       "            text-align:  left;\n",
       "            : ;\n",
       "        }    #T_eca50d32_8bff_11ec_9399_d83bbf4e560frow8_col2 {\n",
       "            text-align:  left;\n",
       "            text-align:  left;\n",
       "            : ;\n",
       "        }    #T_eca50d32_8bff_11ec_9399_d83bbf4e560frow8_col3 {\n",
       "            text-align:  left;\n",
       "            text-align:  left;\n",
       "            : ;\n",
       "        }    #T_eca50d32_8bff_11ec_9399_d83bbf4e560frow8_col4 {\n",
       "            text-align:  left;\n",
       "            text-align:  left;\n",
       "            : ;\n",
       "        }    #T_eca50d32_8bff_11ec_9399_d83bbf4e560frow8_col5 {\n",
       "            text-align:  left;\n",
       "            text-align:  left;\n",
       "            : ;\n",
       "        }    #T_eca50d32_8bff_11ec_9399_d83bbf4e560frow8_col6 {\n",
       "            text-align:  left;\n",
       "            text-align:  left;\n",
       "            : ;\n",
       "        }    #T_eca50d32_8bff_11ec_9399_d83bbf4e560frow8_col7 {\n",
       "            text-align:  left;\n",
       "            text-align:  left;\n",
       "            : ;\n",
       "        }    #T_eca50d32_8bff_11ec_9399_d83bbf4e560frow8_col8 {\n",
       "            text-align:  left;\n",
       "            text-align:  left;\n",
       "            : ;\n",
       "            background-color:  lightgrey;\n",
       "        }    #T_eca50d32_8bff_11ec_9399_d83bbf4e560frow9_col0 {\n",
       "            text-align:  left;\n",
       "            text-align:  left;\n",
       "        }    #T_eca50d32_8bff_11ec_9399_d83bbf4e560frow9_col1 {\n",
       "            text-align:  left;\n",
       "            text-align:  left;\n",
       "            : ;\n",
       "        }    #T_eca50d32_8bff_11ec_9399_d83bbf4e560frow9_col2 {\n",
       "            text-align:  left;\n",
       "            text-align:  left;\n",
       "            : ;\n",
       "        }    #T_eca50d32_8bff_11ec_9399_d83bbf4e560frow9_col3 {\n",
       "            text-align:  left;\n",
       "            text-align:  left;\n",
       "            : ;\n",
       "        }    #T_eca50d32_8bff_11ec_9399_d83bbf4e560frow9_col4 {\n",
       "            text-align:  left;\n",
       "            text-align:  left;\n",
       "            : ;\n",
       "        }    #T_eca50d32_8bff_11ec_9399_d83bbf4e560frow9_col5 {\n",
       "            text-align:  left;\n",
       "            text-align:  left;\n",
       "            : ;\n",
       "        }    #T_eca50d32_8bff_11ec_9399_d83bbf4e560frow9_col6 {\n",
       "            text-align:  left;\n",
       "            text-align:  left;\n",
       "            : ;\n",
       "        }    #T_eca50d32_8bff_11ec_9399_d83bbf4e560frow9_col7 {\n",
       "            text-align:  left;\n",
       "            text-align:  left;\n",
       "            : ;\n",
       "        }    #T_eca50d32_8bff_11ec_9399_d83bbf4e560frow9_col8 {\n",
       "            text-align:  left;\n",
       "            text-align:  left;\n",
       "            : ;\n",
       "            background-color:  lightgrey;\n",
       "        }    #T_eca50d32_8bff_11ec_9399_d83bbf4e560frow10_col0 {\n",
       "            text-align:  left;\n",
       "            text-align:  left;\n",
       "        }    #T_eca50d32_8bff_11ec_9399_d83bbf4e560frow10_col1 {\n",
       "            text-align:  left;\n",
       "            text-align:  left;\n",
       "            : ;\n",
       "        }    #T_eca50d32_8bff_11ec_9399_d83bbf4e560frow10_col2 {\n",
       "            text-align:  left;\n",
       "            text-align:  left;\n",
       "            : ;\n",
       "        }    #T_eca50d32_8bff_11ec_9399_d83bbf4e560frow10_col3 {\n",
       "            text-align:  left;\n",
       "            text-align:  left;\n",
       "            : ;\n",
       "        }    #T_eca50d32_8bff_11ec_9399_d83bbf4e560frow10_col4 {\n",
       "            text-align:  left;\n",
       "            text-align:  left;\n",
       "            : ;\n",
       "        }    #T_eca50d32_8bff_11ec_9399_d83bbf4e560frow10_col5 {\n",
       "            text-align:  left;\n",
       "            text-align:  left;\n",
       "            : ;\n",
       "        }    #T_eca50d32_8bff_11ec_9399_d83bbf4e560frow10_col6 {\n",
       "            text-align:  left;\n",
       "            text-align:  left;\n",
       "            : ;\n",
       "        }    #T_eca50d32_8bff_11ec_9399_d83bbf4e560frow10_col7 {\n",
       "            text-align:  left;\n",
       "            text-align:  left;\n",
       "            : ;\n",
       "        }    #T_eca50d32_8bff_11ec_9399_d83bbf4e560frow10_col8 {\n",
       "            text-align:  left;\n",
       "            text-align:  left;\n",
       "            background-color:  yellow;\n",
       "            background-color:  lightgrey;\n",
       "        }    #T_eca50d32_8bff_11ec_9399_d83bbf4e560frow11_col0 {\n",
       "            text-align:  left;\n",
       "            text-align:  left;\n",
       "        }    #T_eca50d32_8bff_11ec_9399_d83bbf4e560frow11_col1 {\n",
       "            text-align:  left;\n",
       "            text-align:  left;\n",
       "            : ;\n",
       "        }    #T_eca50d32_8bff_11ec_9399_d83bbf4e560frow11_col2 {\n",
       "            text-align:  left;\n",
       "            text-align:  left;\n",
       "            : ;\n",
       "        }    #T_eca50d32_8bff_11ec_9399_d83bbf4e560frow11_col3 {\n",
       "            text-align:  left;\n",
       "            text-align:  left;\n",
       "            : ;\n",
       "        }    #T_eca50d32_8bff_11ec_9399_d83bbf4e560frow11_col4 {\n",
       "            text-align:  left;\n",
       "            text-align:  left;\n",
       "            : ;\n",
       "        }    #T_eca50d32_8bff_11ec_9399_d83bbf4e560frow11_col5 {\n",
       "            text-align:  left;\n",
       "            text-align:  left;\n",
       "            : ;\n",
       "        }    #T_eca50d32_8bff_11ec_9399_d83bbf4e560frow11_col6 {\n",
       "            text-align:  left;\n",
       "            text-align:  left;\n",
       "            : ;\n",
       "        }    #T_eca50d32_8bff_11ec_9399_d83bbf4e560frow11_col7 {\n",
       "            text-align:  left;\n",
       "            text-align:  left;\n",
       "            : ;\n",
       "        }    #T_eca50d32_8bff_11ec_9399_d83bbf4e560frow11_col8 {\n",
       "            text-align:  left;\n",
       "            text-align:  left;\n",
       "            : ;\n",
       "            background-color:  lightgrey;\n",
       "        }    #T_eca50d32_8bff_11ec_9399_d83bbf4e560frow12_col0 {\n",
       "            text-align:  left;\n",
       "            text-align:  left;\n",
       "        }    #T_eca50d32_8bff_11ec_9399_d83bbf4e560frow12_col1 {\n",
       "            text-align:  left;\n",
       "            text-align:  left;\n",
       "            : ;\n",
       "        }    #T_eca50d32_8bff_11ec_9399_d83bbf4e560frow12_col2 {\n",
       "            text-align:  left;\n",
       "            text-align:  left;\n",
       "            : ;\n",
       "        }    #T_eca50d32_8bff_11ec_9399_d83bbf4e560frow12_col3 {\n",
       "            text-align:  left;\n",
       "            text-align:  left;\n",
       "            : ;\n",
       "        }    #T_eca50d32_8bff_11ec_9399_d83bbf4e560frow12_col4 {\n",
       "            text-align:  left;\n",
       "            text-align:  left;\n",
       "            : ;\n",
       "        }    #T_eca50d32_8bff_11ec_9399_d83bbf4e560frow12_col5 {\n",
       "            text-align:  left;\n",
       "            text-align:  left;\n",
       "            : ;\n",
       "        }    #T_eca50d32_8bff_11ec_9399_d83bbf4e560frow12_col6 {\n",
       "            text-align:  left;\n",
       "            text-align:  left;\n",
       "            : ;\n",
       "        }    #T_eca50d32_8bff_11ec_9399_d83bbf4e560frow12_col7 {\n",
       "            text-align:  left;\n",
       "            text-align:  left;\n",
       "            : ;\n",
       "        }    #T_eca50d32_8bff_11ec_9399_d83bbf4e560frow12_col8 {\n",
       "            text-align:  left;\n",
       "            text-align:  left;\n",
       "            : ;\n",
       "            background-color:  lightgrey;\n",
       "        }    #T_eca50d32_8bff_11ec_9399_d83bbf4e560frow13_col0 {\n",
       "            text-align:  left;\n",
       "            text-align:  left;\n",
       "        }    #T_eca50d32_8bff_11ec_9399_d83bbf4e560frow13_col1 {\n",
       "            text-align:  left;\n",
       "            text-align:  left;\n",
       "            : ;\n",
       "        }    #T_eca50d32_8bff_11ec_9399_d83bbf4e560frow13_col2 {\n",
       "            text-align:  left;\n",
       "            text-align:  left;\n",
       "            : ;\n",
       "        }    #T_eca50d32_8bff_11ec_9399_d83bbf4e560frow13_col3 {\n",
       "            text-align:  left;\n",
       "            text-align:  left;\n",
       "            background-color:  yellow;\n",
       "        }    #T_eca50d32_8bff_11ec_9399_d83bbf4e560frow13_col4 {\n",
       "            text-align:  left;\n",
       "            text-align:  left;\n",
       "            : ;\n",
       "        }    #T_eca50d32_8bff_11ec_9399_d83bbf4e560frow13_col5 {\n",
       "            text-align:  left;\n",
       "            text-align:  left;\n",
       "            : ;\n",
       "        }    #T_eca50d32_8bff_11ec_9399_d83bbf4e560frow13_col6 {\n",
       "            text-align:  left;\n",
       "            text-align:  left;\n",
       "            : ;\n",
       "        }    #T_eca50d32_8bff_11ec_9399_d83bbf4e560frow13_col7 {\n",
       "            text-align:  left;\n",
       "            text-align:  left;\n",
       "            : ;\n",
       "        }    #T_eca50d32_8bff_11ec_9399_d83bbf4e560frow13_col8 {\n",
       "            text-align:  left;\n",
       "            text-align:  left;\n",
       "            : ;\n",
       "            background-color:  lightgrey;\n",
       "        }    #T_eca50d32_8bff_11ec_9399_d83bbf4e560frow14_col0 {\n",
       "            text-align:  left;\n",
       "            text-align:  left;\n",
       "        }    #T_eca50d32_8bff_11ec_9399_d83bbf4e560frow14_col1 {\n",
       "            text-align:  left;\n",
       "            text-align:  left;\n",
       "            : ;\n",
       "        }    #T_eca50d32_8bff_11ec_9399_d83bbf4e560frow14_col2 {\n",
       "            text-align:  left;\n",
       "            text-align:  left;\n",
       "            : ;\n",
       "        }    #T_eca50d32_8bff_11ec_9399_d83bbf4e560frow14_col3 {\n",
       "            text-align:  left;\n",
       "            text-align:  left;\n",
       "            : ;\n",
       "        }    #T_eca50d32_8bff_11ec_9399_d83bbf4e560frow14_col4 {\n",
       "            text-align:  left;\n",
       "            text-align:  left;\n",
       "            : ;\n",
       "        }    #T_eca50d32_8bff_11ec_9399_d83bbf4e560frow14_col5 {\n",
       "            text-align:  left;\n",
       "            text-align:  left;\n",
       "            : ;\n",
       "        }    #T_eca50d32_8bff_11ec_9399_d83bbf4e560frow14_col6 {\n",
       "            text-align:  left;\n",
       "            text-align:  left;\n",
       "            : ;\n",
       "        }    #T_eca50d32_8bff_11ec_9399_d83bbf4e560frow14_col7 {\n",
       "            text-align:  left;\n",
       "            text-align:  left;\n",
       "            : ;\n",
       "        }    #T_eca50d32_8bff_11ec_9399_d83bbf4e560frow14_col8 {\n",
       "            text-align:  left;\n",
       "            text-align:  left;\n",
       "            : ;\n",
       "            background-color:  lightgrey;\n",
       "        }</style><table id=\"T_eca50d32_8bff_11ec_9399_d83bbf4e560f\" ><thead>    <tr>        <th class=\"blank level0\" ></th>        <th class=\"col_heading level0 col0\" >Model</th>        <th class=\"col_heading level0 col1\" >Accuracy</th>        <th class=\"col_heading level0 col2\" >AUC</th>        <th class=\"col_heading level0 col3\" >Recall</th>        <th class=\"col_heading level0 col4\" >Prec.</th>        <th class=\"col_heading level0 col5\" >F1</th>        <th class=\"col_heading level0 col6\" >Kappa</th>        <th class=\"col_heading level0 col7\" >MCC</th>        <th class=\"col_heading level0 col8\" >TT (Sec)</th>    </tr></thead><tbody>\n",
       "                <tr>\n",
       "                        <th id=\"T_eca50d32_8bff_11ec_9399_d83bbf4e560flevel0_row0\" class=\"row_heading level0 row0\" >xgboost</th>\n",
       "                        <td id=\"T_eca50d32_8bff_11ec_9399_d83bbf4e560frow0_col0\" class=\"data row0 col0\" >Extreme Gradient Boosting</td>\n",
       "                        <td id=\"T_eca50d32_8bff_11ec_9399_d83bbf4e560frow0_col1\" class=\"data row0 col1\" >0.9257</td>\n",
       "                        <td id=\"T_eca50d32_8bff_11ec_9399_d83bbf4e560frow0_col2\" class=\"data row0 col2\" >0.9772</td>\n",
       "                        <td id=\"T_eca50d32_8bff_11ec_9399_d83bbf4e560frow0_col3\" class=\"data row0 col3\" >0.9386</td>\n",
       "                        <td id=\"T_eca50d32_8bff_11ec_9399_d83bbf4e560frow0_col4\" class=\"data row0 col4\" >0.9316</td>\n",
       "                        <td id=\"T_eca50d32_8bff_11ec_9399_d83bbf4e560frow0_col5\" class=\"data row0 col5\" >0.9347</td>\n",
       "                        <td id=\"T_eca50d32_8bff_11ec_9399_d83bbf4e560frow0_col6\" class=\"data row0 col6\" >0.8484</td>\n",
       "                        <td id=\"T_eca50d32_8bff_11ec_9399_d83bbf4e560frow0_col7\" class=\"data row0 col7\" >0.8493</td>\n",
       "                        <td id=\"T_eca50d32_8bff_11ec_9399_d83bbf4e560frow0_col8\" class=\"data row0 col8\" >0.2970</td>\n",
       "            </tr>\n",
       "            <tr>\n",
       "                        <th id=\"T_eca50d32_8bff_11ec_9399_d83bbf4e560flevel0_row1\" class=\"row_heading level0 row1\" >lightgbm</th>\n",
       "                        <td id=\"T_eca50d32_8bff_11ec_9399_d83bbf4e560frow1_col0\" class=\"data row1 col0\" >Light Gradient Boosting Machine</td>\n",
       "                        <td id=\"T_eca50d32_8bff_11ec_9399_d83bbf4e560frow1_col1\" class=\"data row1 col1\" >0.9242</td>\n",
       "                        <td id=\"T_eca50d32_8bff_11ec_9399_d83bbf4e560frow1_col2\" class=\"data row1 col2\" >0.9785</td>\n",
       "                        <td id=\"T_eca50d32_8bff_11ec_9399_d83bbf4e560frow1_col3\" class=\"data row1 col3\" >0.9369</td>\n",
       "                        <td id=\"T_eca50d32_8bff_11ec_9399_d83bbf4e560frow1_col4\" class=\"data row1 col4\" >0.9309</td>\n",
       "                        <td id=\"T_eca50d32_8bff_11ec_9399_d83bbf4e560frow1_col5\" class=\"data row1 col5\" >0.9335</td>\n",
       "                        <td id=\"T_eca50d32_8bff_11ec_9399_d83bbf4e560frow1_col6\" class=\"data row1 col6\" >0.8455</td>\n",
       "                        <td id=\"T_eca50d32_8bff_11ec_9399_d83bbf4e560frow1_col7\" class=\"data row1 col7\" >0.8466</td>\n",
       "                        <td id=\"T_eca50d32_8bff_11ec_9399_d83bbf4e560frow1_col8\" class=\"data row1 col8\" >0.2180</td>\n",
       "            </tr>\n",
       "            <tr>\n",
       "                        <th id=\"T_eca50d32_8bff_11ec_9399_d83bbf4e560flevel0_row2\" class=\"row_heading level0 row2\" >et</th>\n",
       "                        <td id=\"T_eca50d32_8bff_11ec_9399_d83bbf4e560frow2_col0\" class=\"data row2 col0\" >Extra Trees Classifier</td>\n",
       "                        <td id=\"T_eca50d32_8bff_11ec_9399_d83bbf4e560frow2_col1\" class=\"data row2 col1\" >0.9219</td>\n",
       "                        <td id=\"T_eca50d32_8bff_11ec_9399_d83bbf4e560frow2_col2\" class=\"data row2 col2\" >0.9749</td>\n",
       "                        <td id=\"T_eca50d32_8bff_11ec_9399_d83bbf4e560frow2_col3\" class=\"data row2 col3\" >0.9352</td>\n",
       "                        <td id=\"T_eca50d32_8bff_11ec_9399_d83bbf4e560frow2_col4\" class=\"data row2 col4\" >0.9284</td>\n",
       "                        <td id=\"T_eca50d32_8bff_11ec_9399_d83bbf4e560frow2_col5\" class=\"data row2 col5\" >0.9314</td>\n",
       "                        <td id=\"T_eca50d32_8bff_11ec_9399_d83bbf4e560frow2_col6\" class=\"data row2 col6\" >0.8406</td>\n",
       "                        <td id=\"T_eca50d32_8bff_11ec_9399_d83bbf4e560frow2_col7\" class=\"data row2 col7\" >0.8417</td>\n",
       "                        <td id=\"T_eca50d32_8bff_11ec_9399_d83bbf4e560frow2_col8\" class=\"data row2 col8\" >0.1060</td>\n",
       "            </tr>\n",
       "            <tr>\n",
       "                        <th id=\"T_eca50d32_8bff_11ec_9399_d83bbf4e560flevel0_row3\" class=\"row_heading level0 row3\" >gbc</th>\n",
       "                        <td id=\"T_eca50d32_8bff_11ec_9399_d83bbf4e560frow3_col0\" class=\"data row3 col0\" >Gradient Boosting Classifier</td>\n",
       "                        <td id=\"T_eca50d32_8bff_11ec_9399_d83bbf4e560frow3_col1\" class=\"data row3 col1\" >0.9209</td>\n",
       "                        <td id=\"T_eca50d32_8bff_11ec_9399_d83bbf4e560frow3_col2\" class=\"data row3 col2\" >0.9713</td>\n",
       "                        <td id=\"T_eca50d32_8bff_11ec_9399_d83bbf4e560frow3_col3\" class=\"data row3 col3\" >0.9386</td>\n",
       "                        <td id=\"T_eca50d32_8bff_11ec_9399_d83bbf4e560frow3_col4\" class=\"data row3 col4\" >0.9237</td>\n",
       "                        <td id=\"T_eca50d32_8bff_11ec_9399_d83bbf4e560frow3_col5\" class=\"data row3 col5\" >0.9307</td>\n",
       "                        <td id=\"T_eca50d32_8bff_11ec_9399_d83bbf4e560frow3_col6\" class=\"data row3 col6\" >0.8386</td>\n",
       "                        <td id=\"T_eca50d32_8bff_11ec_9399_d83bbf4e560frow3_col7\" class=\"data row3 col7\" >0.8396</td>\n",
       "                        <td id=\"T_eca50d32_8bff_11ec_9399_d83bbf4e560frow3_col8\" class=\"data row3 col8\" >0.1740</td>\n",
       "            </tr>\n",
       "            <tr>\n",
       "                        <th id=\"T_eca50d32_8bff_11ec_9399_d83bbf4e560flevel0_row4\" class=\"row_heading level0 row4\" >rf</th>\n",
       "                        <td id=\"T_eca50d32_8bff_11ec_9399_d83bbf4e560frow4_col0\" class=\"data row4 col0\" >Random Forest Classifier</td>\n",
       "                        <td id=\"T_eca50d32_8bff_11ec_9399_d83bbf4e560frow4_col1\" class=\"data row4 col1\" >0.9161</td>\n",
       "                        <td id=\"T_eca50d32_8bff_11ec_9399_d83bbf4e560frow4_col2\" class=\"data row4 col2\" >0.9695</td>\n",
       "                        <td id=\"T_eca50d32_8bff_11ec_9399_d83bbf4e560frow4_col3\" class=\"data row4 col3\" >0.9294</td>\n",
       "                        <td id=\"T_eca50d32_8bff_11ec_9399_d83bbf4e560frow4_col4\" class=\"data row4 col4\" >0.9239</td>\n",
       "                        <td id=\"T_eca50d32_8bff_11ec_9399_d83bbf4e560frow4_col5\" class=\"data row4 col5\" >0.9263</td>\n",
       "                        <td id=\"T_eca50d32_8bff_11ec_9399_d83bbf4e560frow4_col6\" class=\"data row4 col6\" >0.8290</td>\n",
       "                        <td id=\"T_eca50d32_8bff_11ec_9399_d83bbf4e560frow4_col7\" class=\"data row4 col7\" >0.8299</td>\n",
       "                        <td id=\"T_eca50d32_8bff_11ec_9399_d83bbf4e560frow4_col8\" class=\"data row4 col8\" >0.1120</td>\n",
       "            </tr>\n",
       "            <tr>\n",
       "                        <th id=\"T_eca50d32_8bff_11ec_9399_d83bbf4e560flevel0_row5\" class=\"row_heading level0 row5\" >dt</th>\n",
       "                        <td id=\"T_eca50d32_8bff_11ec_9399_d83bbf4e560frow5_col0\" class=\"data row5 col0\" >Decision Tree Classifier</td>\n",
       "                        <td id=\"T_eca50d32_8bff_11ec_9399_d83bbf4e560frow5_col1\" class=\"data row5 col1\" >0.8804</td>\n",
       "                        <td id=\"T_eca50d32_8bff_11ec_9399_d83bbf4e560frow5_col2\" class=\"data row5 col2\" >0.8781</td>\n",
       "                        <td id=\"T_eca50d32_8bff_11ec_9399_d83bbf4e560frow5_col3\" class=\"data row5 col3\" >0.8957</td>\n",
       "                        <td id=\"T_eca50d32_8bff_11ec_9399_d83bbf4e560frow5_col4\" class=\"data row5 col4\" >0.8948</td>\n",
       "                        <td id=\"T_eca50d32_8bff_11ec_9399_d83bbf4e560frow5_col5\" class=\"data row5 col5\" >0.8946</td>\n",
       "                        <td id=\"T_eca50d32_8bff_11ec_9399_d83bbf4e560frow5_col6\" class=\"data row5 col6\" >0.7564</td>\n",
       "                        <td id=\"T_eca50d32_8bff_11ec_9399_d83bbf4e560frow5_col7\" class=\"data row5 col7\" >0.7578</td>\n",
       "                        <td id=\"T_eca50d32_8bff_11ec_9399_d83bbf4e560frow5_col8\" class=\"data row5 col8\" >0.0110</td>\n",
       "            </tr>\n",
       "            <tr>\n",
       "                        <th id=\"T_eca50d32_8bff_11ec_9399_d83bbf4e560flevel0_row6\" class=\"row_heading level0 row6\" >lr</th>\n",
       "                        <td id=\"T_eca50d32_8bff_11ec_9399_d83bbf4e560frow6_col0\" class=\"data row6 col0\" >Logistic Regression</td>\n",
       "                        <td id=\"T_eca50d32_8bff_11ec_9399_d83bbf4e560frow6_col1\" class=\"data row6 col1\" >0.8733</td>\n",
       "                        <td id=\"T_eca50d32_8bff_11ec_9399_d83bbf4e560frow6_col2\" class=\"data row6 col2\" >0.9398</td>\n",
       "                        <td id=\"T_eca50d32_8bff_11ec_9399_d83bbf4e560frow6_col3\" class=\"data row6 col3\" >0.8941</td>\n",
       "                        <td id=\"T_eca50d32_8bff_11ec_9399_d83bbf4e560frow6_col4\" class=\"data row6 col4\" >0.8844</td>\n",
       "                        <td id=\"T_eca50d32_8bff_11ec_9399_d83bbf4e560frow6_col5\" class=\"data row6 col5\" >0.8888</td>\n",
       "                        <td id=\"T_eca50d32_8bff_11ec_9399_d83bbf4e560frow6_col6\" class=\"data row6 col6\" >0.7415</td>\n",
       "                        <td id=\"T_eca50d32_8bff_11ec_9399_d83bbf4e560frow6_col7\" class=\"data row6 col7\" >0.7425</td>\n",
       "                        <td id=\"T_eca50d32_8bff_11ec_9399_d83bbf4e560frow6_col8\" class=\"data row6 col8\" >0.8050</td>\n",
       "            </tr>\n",
       "            <tr>\n",
       "                        <th id=\"T_eca50d32_8bff_11ec_9399_d83bbf4e560flevel0_row7\" class=\"row_heading level0 row7\" >ridge</th>\n",
       "                        <td id=\"T_eca50d32_8bff_11ec_9399_d83bbf4e560frow7_col0\" class=\"data row7 col0\" >Ridge Classifier</td>\n",
       "                        <td id=\"T_eca50d32_8bff_11ec_9399_d83bbf4e560frow7_col1\" class=\"data row7 col1\" >0.8709</td>\n",
       "                        <td id=\"T_eca50d32_8bff_11ec_9399_d83bbf4e560frow7_col2\" class=\"data row7 col2\" >0.0000</td>\n",
       "                        <td id=\"T_eca50d32_8bff_11ec_9399_d83bbf4e560frow7_col3\" class=\"data row7 col3\" >0.8882</td>\n",
       "                        <td id=\"T_eca50d32_8bff_11ec_9399_d83bbf4e560frow7_col4\" class=\"data row7 col4\" >0.8852</td>\n",
       "                        <td id=\"T_eca50d32_8bff_11ec_9399_d83bbf4e560frow7_col5\" class=\"data row7 col5\" >0.8864</td>\n",
       "                        <td id=\"T_eca50d32_8bff_11ec_9399_d83bbf4e560frow7_col6\" class=\"data row7 col6\" >0.7369</td>\n",
       "                        <td id=\"T_eca50d32_8bff_11ec_9399_d83bbf4e560frow7_col7\" class=\"data row7 col7\" >0.7375</td>\n",
       "                        <td id=\"T_eca50d32_8bff_11ec_9399_d83bbf4e560frow7_col8\" class=\"data row7 col8\" >0.0100</td>\n",
       "            </tr>\n",
       "            <tr>\n",
       "                        <th id=\"T_eca50d32_8bff_11ec_9399_d83bbf4e560flevel0_row8\" class=\"row_heading level0 row8\" >lda</th>\n",
       "                        <td id=\"T_eca50d32_8bff_11ec_9399_d83bbf4e560frow8_col0\" class=\"data row8 col0\" >Linear Discriminant Analysis</td>\n",
       "                        <td id=\"T_eca50d32_8bff_11ec_9399_d83bbf4e560frow8_col1\" class=\"data row8 col1\" >0.8709</td>\n",
       "                        <td id=\"T_eca50d32_8bff_11ec_9399_d83bbf4e560frow8_col2\" class=\"data row8 col2\" >0.9375</td>\n",
       "                        <td id=\"T_eca50d32_8bff_11ec_9399_d83bbf4e560frow8_col3\" class=\"data row8 col3\" >0.8882</td>\n",
       "                        <td id=\"T_eca50d32_8bff_11ec_9399_d83bbf4e560frow8_col4\" class=\"data row8 col4\" >0.8852</td>\n",
       "                        <td id=\"T_eca50d32_8bff_11ec_9399_d83bbf4e560frow8_col5\" class=\"data row8 col5\" >0.8864</td>\n",
       "                        <td id=\"T_eca50d32_8bff_11ec_9399_d83bbf4e560frow8_col6\" class=\"data row8 col6\" >0.7369</td>\n",
       "                        <td id=\"T_eca50d32_8bff_11ec_9399_d83bbf4e560frow8_col7\" class=\"data row8 col7\" >0.7375</td>\n",
       "                        <td id=\"T_eca50d32_8bff_11ec_9399_d83bbf4e560frow8_col8\" class=\"data row8 col8\" >0.0170</td>\n",
       "            </tr>\n",
       "            <tr>\n",
       "                        <th id=\"T_eca50d32_8bff_11ec_9399_d83bbf4e560flevel0_row9\" class=\"row_heading level0 row9\" >ada</th>\n",
       "                        <td id=\"T_eca50d32_8bff_11ec_9399_d83bbf4e560frow9_col0\" class=\"data row9 col0\" >Ada Boost Classifier</td>\n",
       "                        <td id=\"T_eca50d32_8bff_11ec_9399_d83bbf4e560frow9_col1\" class=\"data row9 col1\" >0.8661</td>\n",
       "                        <td id=\"T_eca50d32_8bff_11ec_9399_d83bbf4e560frow9_col2\" class=\"data row9 col2\" >0.9339</td>\n",
       "                        <td id=\"T_eca50d32_8bff_11ec_9399_d83bbf4e560frow9_col3\" class=\"data row9 col3\" >0.8806</td>\n",
       "                        <td id=\"T_eca50d32_8bff_11ec_9399_d83bbf4e560frow9_col4\" class=\"data row9 col4\" >0.8836</td>\n",
       "                        <td id=\"T_eca50d32_8bff_11ec_9399_d83bbf4e560frow9_col5\" class=\"data row9 col5\" >0.8817</td>\n",
       "                        <td id=\"T_eca50d32_8bff_11ec_9399_d83bbf4e560frow9_col6\" class=\"data row9 col6\" >0.7275</td>\n",
       "                        <td id=\"T_eca50d32_8bff_11ec_9399_d83bbf4e560frow9_col7\" class=\"data row9 col7\" >0.7285</td>\n",
       "                        <td id=\"T_eca50d32_8bff_11ec_9399_d83bbf4e560frow9_col8\" class=\"data row9 col8\" >0.0570</td>\n",
       "            </tr>\n",
       "            <tr>\n",
       "                        <th id=\"T_eca50d32_8bff_11ec_9399_d83bbf4e560flevel0_row10\" class=\"row_heading level0 row10\" >nb</th>\n",
       "                        <td id=\"T_eca50d32_8bff_11ec_9399_d83bbf4e560frow10_col0\" class=\"data row10 col0\" >Naive Bayes</td>\n",
       "                        <td id=\"T_eca50d32_8bff_11ec_9399_d83bbf4e560frow10_col1\" class=\"data row10 col1\" >0.8099</td>\n",
       "                        <td id=\"T_eca50d32_8bff_11ec_9399_d83bbf4e560frow10_col2\" class=\"data row10 col2\" >0.8945</td>\n",
       "                        <td id=\"T_eca50d32_8bff_11ec_9399_d83bbf4e560frow10_col3\" class=\"data row10 col3\" >0.7906</td>\n",
       "                        <td id=\"T_eca50d32_8bff_11ec_9399_d83bbf4e560frow10_col4\" class=\"data row10 col4\" >0.8628</td>\n",
       "                        <td id=\"T_eca50d32_8bff_11ec_9399_d83bbf4e560frow10_col5\" class=\"data row10 col5\" >0.8250</td>\n",
       "                        <td id=\"T_eca50d32_8bff_11ec_9399_d83bbf4e560frow10_col6\" class=\"data row10 col6\" >0.6178</td>\n",
       "                        <td id=\"T_eca50d32_8bff_11ec_9399_d83bbf4e560frow10_col7\" class=\"data row10 col7\" >0.6208</td>\n",
       "                        <td id=\"T_eca50d32_8bff_11ec_9399_d83bbf4e560frow10_col8\" class=\"data row10 col8\" >0.0100</td>\n",
       "            </tr>\n",
       "            <tr>\n",
       "                        <th id=\"T_eca50d32_8bff_11ec_9399_d83bbf4e560flevel0_row11\" class=\"row_heading level0 row11\" >qda</th>\n",
       "                        <td id=\"T_eca50d32_8bff_11ec_9399_d83bbf4e560frow11_col0\" class=\"data row11 col0\" >Quadratic Discriminant Analysis</td>\n",
       "                        <td id=\"T_eca50d32_8bff_11ec_9399_d83bbf4e560frow11_col1\" class=\"data row11 col1\" >0.6113</td>\n",
       "                        <td id=\"T_eca50d32_8bff_11ec_9399_d83bbf4e560frow11_col2\" class=\"data row11 col2\" >0.5816</td>\n",
       "                        <td id=\"T_eca50d32_8bff_11ec_9399_d83bbf4e560frow11_col3\" class=\"data row11 col3\" >0.8049</td>\n",
       "                        <td id=\"T_eca50d32_8bff_11ec_9399_d83bbf4e560frow11_col4\" class=\"data row11 col4\" >0.6232</td>\n",
       "                        <td id=\"T_eca50d32_8bff_11ec_9399_d83bbf4e560frow11_col5\" class=\"data row11 col5\" >0.7006</td>\n",
       "                        <td id=\"T_eca50d32_8bff_11ec_9399_d83bbf4e560frow11_col6\" class=\"data row11 col6\" >0.1699</td>\n",
       "                        <td id=\"T_eca50d32_8bff_11ec_9399_d83bbf4e560frow11_col7\" class=\"data row11 col7\" >0.1821</td>\n",
       "                        <td id=\"T_eca50d32_8bff_11ec_9399_d83bbf4e560frow11_col8\" class=\"data row11 col8\" >0.0160</td>\n",
       "            </tr>\n",
       "            <tr>\n",
       "                        <th id=\"T_eca50d32_8bff_11ec_9399_d83bbf4e560flevel0_row12\" class=\"row_heading level0 row12\" >knn</th>\n",
       "                        <td id=\"T_eca50d32_8bff_11ec_9399_d83bbf4e560frow12_col0\" class=\"data row12 col0\" >K Neighbors Classifier</td>\n",
       "                        <td id=\"T_eca50d32_8bff_11ec_9399_d83bbf4e560frow12_col1\" class=\"data row12 col1\" >0.5769</td>\n",
       "                        <td id=\"T_eca50d32_8bff_11ec_9399_d83bbf4e560frow12_col2\" class=\"data row12 col2\" >0.5756</td>\n",
       "                        <td id=\"T_eca50d32_8bff_11ec_9399_d83bbf4e560frow12_col3\" class=\"data row12 col3\" >0.6678</td>\n",
       "                        <td id=\"T_eca50d32_8bff_11ec_9399_d83bbf4e560frow12_col4\" class=\"data row12 col4\" >0.6171</td>\n",
       "                        <td id=\"T_eca50d32_8bff_11ec_9399_d83bbf4e560frow12_col5\" class=\"data row12 col5\" >0.6409</td>\n",
       "                        <td id=\"T_eca50d32_8bff_11ec_9399_d83bbf4e560frow12_col6\" class=\"data row12 col6\" >0.1277</td>\n",
       "                        <td id=\"T_eca50d32_8bff_11ec_9399_d83bbf4e560frow12_col7\" class=\"data row12 col7\" >0.1288</td>\n",
       "                        <td id=\"T_eca50d32_8bff_11ec_9399_d83bbf4e560frow12_col8\" class=\"data row12 col8\" >0.0210</td>\n",
       "            </tr>\n",
       "            <tr>\n",
       "                        <th id=\"T_eca50d32_8bff_11ec_9399_d83bbf4e560flevel0_row13\" class=\"row_heading level0 row13\" >dummy</th>\n",
       "                        <td id=\"T_eca50d32_8bff_11ec_9399_d83bbf4e560frow13_col0\" class=\"data row13 col0\" >Dummy Classifier</td>\n",
       "                        <td id=\"T_eca50d32_8bff_11ec_9399_d83bbf4e560frow13_col1\" class=\"data row13 col1\" >0.5665</td>\n",
       "                        <td id=\"T_eca50d32_8bff_11ec_9399_d83bbf4e560frow13_col2\" class=\"data row13 col2\" >0.5000</td>\n",
       "                        <td id=\"T_eca50d32_8bff_11ec_9399_d83bbf4e560frow13_col3\" class=\"data row13 col3\" >1.0000</td>\n",
       "                        <td id=\"T_eca50d32_8bff_11ec_9399_d83bbf4e560frow13_col4\" class=\"data row13 col4\" >0.5665</td>\n",
       "                        <td id=\"T_eca50d32_8bff_11ec_9399_d83bbf4e560frow13_col5\" class=\"data row13 col5\" >0.7232</td>\n",
       "                        <td id=\"T_eca50d32_8bff_11ec_9399_d83bbf4e560frow13_col6\" class=\"data row13 col6\" >0.0000</td>\n",
       "                        <td id=\"T_eca50d32_8bff_11ec_9399_d83bbf4e560frow13_col7\" class=\"data row13 col7\" >0.0000</td>\n",
       "                        <td id=\"T_eca50d32_8bff_11ec_9399_d83bbf4e560frow13_col8\" class=\"data row13 col8\" >0.0120</td>\n",
       "            </tr>\n",
       "            <tr>\n",
       "                        <th id=\"T_eca50d32_8bff_11ec_9399_d83bbf4e560flevel0_row14\" class=\"row_heading level0 row14\" >svm</th>\n",
       "                        <td id=\"T_eca50d32_8bff_11ec_9399_d83bbf4e560frow14_col0\" class=\"data row14 col0\" >SVM - Linear Kernel</td>\n",
       "                        <td id=\"T_eca50d32_8bff_11ec_9399_d83bbf4e560frow14_col1\" class=\"data row14 col1\" >0.5293</td>\n",
       "                        <td id=\"T_eca50d32_8bff_11ec_9399_d83bbf4e560frow14_col2\" class=\"data row14 col2\" >0.0000</td>\n",
       "                        <td id=\"T_eca50d32_8bff_11ec_9399_d83bbf4e560frow14_col3\" class=\"data row14 col3\" >0.7034</td>\n",
       "                        <td id=\"T_eca50d32_8bff_11ec_9399_d83bbf4e560frow14_col4\" class=\"data row14 col4\" >0.4970</td>\n",
       "                        <td id=\"T_eca50d32_8bff_11ec_9399_d83bbf4e560frow14_col5\" class=\"data row14 col5\" >0.5132</td>\n",
       "                        <td id=\"T_eca50d32_8bff_11ec_9399_d83bbf4e560frow14_col6\" class=\"data row14 col6\" >0.0054</td>\n",
       "                        <td id=\"T_eca50d32_8bff_11ec_9399_d83bbf4e560frow14_col7\" class=\"data row14 col7\" >0.0234</td>\n",
       "                        <td id=\"T_eca50d32_8bff_11ec_9399_d83bbf4e560frow14_col8\" class=\"data row14 col8\" >0.0220</td>\n",
       "            </tr>\n",
       "    </tbody></table>"
      ],
      "text/plain": [
       "<pandas.io.formats.style.Styler at 0x1823f0db520>"
      ]
     },
     "metadata": {},
     "output_type": "display_data"
    }
   ],
   "source": [
    "#상위 모델 4개를 선택\n",
    "best = compare_models(n_select=4, fold = 10,\n",
    "                      cross_validation=True,\n",
    "                     sort='Accuracy') "
   ]
  },
  {
   "cell_type": "code",
   "execution_count": 86,
   "metadata": {
    "ExecuteTime": {
     "end_time": "2022-02-12T12:33:21.633308Z",
     "start_time": "2022-02-12T12:33:05.755746Z"
    }
   },
   "outputs": [
    {
     "data": {
      "text/html": [
       "<style  type=\"text/css\" >\n",
       "    #T_f692d404_8bff_11ec_a4b0_d83bbf4e560frow10_col0 {\n",
       "            background:  yellow;\n",
       "        }    #T_f692d404_8bff_11ec_a4b0_d83bbf4e560frow10_col1 {\n",
       "            background:  yellow;\n",
       "        }    #T_f692d404_8bff_11ec_a4b0_d83bbf4e560frow10_col2 {\n",
       "            background:  yellow;\n",
       "        }    #T_f692d404_8bff_11ec_a4b0_d83bbf4e560frow10_col3 {\n",
       "            background:  yellow;\n",
       "        }    #T_f692d404_8bff_11ec_a4b0_d83bbf4e560frow10_col4 {\n",
       "            background:  yellow;\n",
       "        }    #T_f692d404_8bff_11ec_a4b0_d83bbf4e560frow10_col5 {\n",
       "            background:  yellow;\n",
       "        }    #T_f692d404_8bff_11ec_a4b0_d83bbf4e560frow10_col6 {\n",
       "            background:  yellow;\n",
       "        }</style><table id=\"T_f692d404_8bff_11ec_a4b0_d83bbf4e560f\" ><thead>    <tr>        <th class=\"blank level0\" ></th>        <th class=\"col_heading level0 col0\" >Accuracy</th>        <th class=\"col_heading level0 col1\" >AUC</th>        <th class=\"col_heading level0 col2\" >Recall</th>        <th class=\"col_heading level0 col3\" >Prec.</th>        <th class=\"col_heading level0 col4\" >F1</th>        <th class=\"col_heading level0 col5\" >Kappa</th>        <th class=\"col_heading level0 col6\" >MCC</th>    </tr></thead><tbody>\n",
       "                <tr>\n",
       "                        <th id=\"T_f692d404_8bff_11ec_a4b0_d83bbf4e560flevel0_row0\" class=\"row_heading level0 row0\" >0</th>\n",
       "                        <td id=\"T_f692d404_8bff_11ec_a4b0_d83bbf4e560frow0_col0\" class=\"data row0 col0\" >0.9476</td>\n",
       "                        <td id=\"T_f692d404_8bff_11ec_a4b0_d83bbf4e560frow0_col1\" class=\"data row0 col1\" >0.9874</td>\n",
       "                        <td id=\"T_f692d404_8bff_11ec_a4b0_d83bbf4e560frow0_col2\" class=\"data row0 col2\" >0.9412</td>\n",
       "                        <td id=\"T_f692d404_8bff_11ec_a4b0_d83bbf4e560frow0_col3\" class=\"data row0 col3\" >0.9655</td>\n",
       "                        <td id=\"T_f692d404_8bff_11ec_a4b0_d83bbf4e560frow0_col4\" class=\"data row0 col4\" >0.9532</td>\n",
       "                        <td id=\"T_f692d404_8bff_11ec_a4b0_d83bbf4e560frow0_col5\" class=\"data row0 col5\" >0.8938</td>\n",
       "                        <td id=\"T_f692d404_8bff_11ec_a4b0_d83bbf4e560frow0_col6\" class=\"data row0 col6\" >0.8941</td>\n",
       "            </tr>\n",
       "            <tr>\n",
       "                        <th id=\"T_f692d404_8bff_11ec_a4b0_d83bbf4e560flevel0_row1\" class=\"row_heading level0 row1\" >1</th>\n",
       "                        <td id=\"T_f692d404_8bff_11ec_a4b0_d83bbf4e560frow1_col0\" class=\"data row1 col0\" >0.9238</td>\n",
       "                        <td id=\"T_f692d404_8bff_11ec_a4b0_d83bbf4e560frow1_col1\" class=\"data row1 col1\" >0.9718</td>\n",
       "                        <td id=\"T_f692d404_8bff_11ec_a4b0_d83bbf4e560frow1_col2\" class=\"data row1 col2\" >0.9160</td>\n",
       "                        <td id=\"T_f692d404_8bff_11ec_a4b0_d83bbf4e560frow1_col3\" class=\"data row1 col3\" >0.9478</td>\n",
       "                        <td id=\"T_f692d404_8bff_11ec_a4b0_d83bbf4e560frow1_col4\" class=\"data row1 col4\" >0.9316</td>\n",
       "                        <td id=\"T_f692d404_8bff_11ec_a4b0_d83bbf4e560frow1_col5\" class=\"data row1 col5\" >0.8457</td>\n",
       "                        <td id=\"T_f692d404_8bff_11ec_a4b0_d83bbf4e560frow1_col6\" class=\"data row1 col6\" >0.8463</td>\n",
       "            </tr>\n",
       "            <tr>\n",
       "                        <th id=\"T_f692d404_8bff_11ec_a4b0_d83bbf4e560flevel0_row2\" class=\"row_heading level0 row2\" >2</th>\n",
       "                        <td id=\"T_f692d404_8bff_11ec_a4b0_d83bbf4e560frow2_col0\" class=\"data row2 col0\" >0.9238</td>\n",
       "                        <td id=\"T_f692d404_8bff_11ec_a4b0_d83bbf4e560frow2_col1\" class=\"data row2 col1\" >0.9763</td>\n",
       "                        <td id=\"T_f692d404_8bff_11ec_a4b0_d83bbf4e560frow2_col2\" class=\"data row2 col2\" >0.9664</td>\n",
       "                        <td id=\"T_f692d404_8bff_11ec_a4b0_d83bbf4e560frow2_col3\" class=\"data row2 col3\" >0.9055</td>\n",
       "                        <td id=\"T_f692d404_8bff_11ec_a4b0_d83bbf4e560frow2_col4\" class=\"data row2 col4\" >0.9350</td>\n",
       "                        <td id=\"T_f692d404_8bff_11ec_a4b0_d83bbf4e560frow2_col5\" class=\"data row2 col5\" >0.8432</td>\n",
       "                        <td id=\"T_f692d404_8bff_11ec_a4b0_d83bbf4e560frow2_col6\" class=\"data row2 col6\" >0.8458</td>\n",
       "            </tr>\n",
       "            <tr>\n",
       "                        <th id=\"T_f692d404_8bff_11ec_a4b0_d83bbf4e560flevel0_row3\" class=\"row_heading level0 row3\" >3</th>\n",
       "                        <td id=\"T_f692d404_8bff_11ec_a4b0_d83bbf4e560frow3_col0\" class=\"data row3 col0\" >0.9095</td>\n",
       "                        <td id=\"T_f692d404_8bff_11ec_a4b0_d83bbf4e560frow3_col1\" class=\"data row3 col1\" >0.9653</td>\n",
       "                        <td id=\"T_f692d404_8bff_11ec_a4b0_d83bbf4e560frow3_col2\" class=\"data row3 col2\" >0.9160</td>\n",
       "                        <td id=\"T_f692d404_8bff_11ec_a4b0_d83bbf4e560frow3_col3\" class=\"data row3 col3\" >0.9237</td>\n",
       "                        <td id=\"T_f692d404_8bff_11ec_a4b0_d83bbf4e560frow3_col4\" class=\"data row3 col4\" >0.9198</td>\n",
       "                        <td id=\"T_f692d404_8bff_11ec_a4b0_d83bbf4e560frow3_col5\" class=\"data row3 col5\" >0.8160</td>\n",
       "                        <td id=\"T_f692d404_8bff_11ec_a4b0_d83bbf4e560frow3_col6\" class=\"data row3 col6\" >0.8160</td>\n",
       "            </tr>\n",
       "            <tr>\n",
       "                        <th id=\"T_f692d404_8bff_11ec_a4b0_d83bbf4e560flevel0_row4\" class=\"row_heading level0 row4\" >4</th>\n",
       "                        <td id=\"T_f692d404_8bff_11ec_a4b0_d83bbf4e560frow4_col0\" class=\"data row4 col0\" >0.9190</td>\n",
       "                        <td id=\"T_f692d404_8bff_11ec_a4b0_d83bbf4e560frow4_col1\" class=\"data row4 col1\" >0.9787</td>\n",
       "                        <td id=\"T_f692d404_8bff_11ec_a4b0_d83bbf4e560frow4_col2\" class=\"data row4 col2\" >0.9580</td>\n",
       "                        <td id=\"T_f692d404_8bff_11ec_a4b0_d83bbf4e560frow4_col3\" class=\"data row4 col3\" >0.9048</td>\n",
       "                        <td id=\"T_f692d404_8bff_11ec_a4b0_d83bbf4e560frow4_col4\" class=\"data row4 col4\" >0.9306</td>\n",
       "                        <td id=\"T_f692d404_8bff_11ec_a4b0_d83bbf4e560frow4_col5\" class=\"data row4 col5\" >0.8337</td>\n",
       "                        <td id=\"T_f692d404_8bff_11ec_a4b0_d83bbf4e560frow4_col6\" class=\"data row4 col6\" >0.8356</td>\n",
       "            </tr>\n",
       "            <tr>\n",
       "                        <th id=\"T_f692d404_8bff_11ec_a4b0_d83bbf4e560flevel0_row5\" class=\"row_heading level0 row5\" >5</th>\n",
       "                        <td id=\"T_f692d404_8bff_11ec_a4b0_d83bbf4e560frow5_col0\" class=\"data row5 col0\" >0.9381</td>\n",
       "                        <td id=\"T_f692d404_8bff_11ec_a4b0_d83bbf4e560frow5_col1\" class=\"data row5 col1\" >0.9842</td>\n",
       "                        <td id=\"T_f692d404_8bff_11ec_a4b0_d83bbf4e560frow5_col2\" class=\"data row5 col2\" >0.9496</td>\n",
       "                        <td id=\"T_f692d404_8bff_11ec_a4b0_d83bbf4e560frow5_col3\" class=\"data row5 col3\" >0.9417</td>\n",
       "                        <td id=\"T_f692d404_8bff_11ec_a4b0_d83bbf4e560frow5_col4\" class=\"data row5 col4\" >0.9456</td>\n",
       "                        <td id=\"T_f692d404_8bff_11ec_a4b0_d83bbf4e560frow5_col5\" class=\"data row5 col5\" >0.8738</td>\n",
       "                        <td id=\"T_f692d404_8bff_11ec_a4b0_d83bbf4e560frow5_col6\" class=\"data row5 col6\" >0.8738</td>\n",
       "            </tr>\n",
       "            <tr>\n",
       "                        <th id=\"T_f692d404_8bff_11ec_a4b0_d83bbf4e560flevel0_row6\" class=\"row_heading level0 row6\" >6</th>\n",
       "                        <td id=\"T_f692d404_8bff_11ec_a4b0_d83bbf4e560frow6_col0\" class=\"data row6 col0\" >0.9095</td>\n",
       "                        <td id=\"T_f692d404_8bff_11ec_a4b0_d83bbf4e560frow6_col1\" class=\"data row6 col1\" >0.9704</td>\n",
       "                        <td id=\"T_f692d404_8bff_11ec_a4b0_d83bbf4e560frow6_col2\" class=\"data row6 col2\" >0.9580</td>\n",
       "                        <td id=\"T_f692d404_8bff_11ec_a4b0_d83bbf4e560frow6_col3\" class=\"data row6 col3\" >0.8906</td>\n",
       "                        <td id=\"T_f692d404_8bff_11ec_a4b0_d83bbf4e560frow6_col4\" class=\"data row6 col4\" >0.9231</td>\n",
       "                        <td id=\"T_f692d404_8bff_11ec_a4b0_d83bbf4e560frow6_col5\" class=\"data row6 col5\" >0.8136</td>\n",
       "                        <td id=\"T_f692d404_8bff_11ec_a4b0_d83bbf4e560frow6_col6\" class=\"data row6 col6\" >0.8168</td>\n",
       "            </tr>\n",
       "            <tr>\n",
       "                        <th id=\"T_f692d404_8bff_11ec_a4b0_d83bbf4e560flevel0_row7\" class=\"row_heading level0 row7\" >7</th>\n",
       "                        <td id=\"T_f692d404_8bff_11ec_a4b0_d83bbf4e560frow7_col0\" class=\"data row7 col0\" >0.9476</td>\n",
       "                        <td id=\"T_f692d404_8bff_11ec_a4b0_d83bbf4e560frow7_col1\" class=\"data row7 col1\" >0.9872</td>\n",
       "                        <td id=\"T_f692d404_8bff_11ec_a4b0_d83bbf4e560frow7_col2\" class=\"data row7 col2\" >0.9496</td>\n",
       "                        <td id=\"T_f692d404_8bff_11ec_a4b0_d83bbf4e560frow7_col3\" class=\"data row7 col3\" >0.9576</td>\n",
       "                        <td id=\"T_f692d404_8bff_11ec_a4b0_d83bbf4e560frow7_col4\" class=\"data row7 col4\" >0.9536</td>\n",
       "                        <td id=\"T_f692d404_8bff_11ec_a4b0_d83bbf4e560frow7_col5\" class=\"data row7 col5\" >0.8935</td>\n",
       "                        <td id=\"T_f692d404_8bff_11ec_a4b0_d83bbf4e560frow7_col6\" class=\"data row7 col6\" >0.8935</td>\n",
       "            </tr>\n",
       "            <tr>\n",
       "                        <th id=\"T_f692d404_8bff_11ec_a4b0_d83bbf4e560flevel0_row8\" class=\"row_heading level0 row8\" >8</th>\n",
       "                        <td id=\"T_f692d404_8bff_11ec_a4b0_d83bbf4e560frow8_col0\" class=\"data row8 col0\" >0.9429</td>\n",
       "                        <td id=\"T_f692d404_8bff_11ec_a4b0_d83bbf4e560frow8_col1\" class=\"data row8 col1\" >0.9887</td>\n",
       "                        <td id=\"T_f692d404_8bff_11ec_a4b0_d83bbf4e560frow8_col2\" class=\"data row8 col2\" >0.9412</td>\n",
       "                        <td id=\"T_f692d404_8bff_11ec_a4b0_d83bbf4e560frow8_col3\" class=\"data row8 col3\" >0.9573</td>\n",
       "                        <td id=\"T_f692d404_8bff_11ec_a4b0_d83bbf4e560frow8_col4\" class=\"data row8 col4\" >0.9492</td>\n",
       "                        <td id=\"T_f692d404_8bff_11ec_a4b0_d83bbf4e560frow8_col5\" class=\"data row8 col5\" >0.8839</td>\n",
       "                        <td id=\"T_f692d404_8bff_11ec_a4b0_d83bbf4e560frow8_col6\" class=\"data row8 col6\" >0.8841</td>\n",
       "            </tr>\n",
       "            <tr>\n",
       "                        <th id=\"T_f692d404_8bff_11ec_a4b0_d83bbf4e560flevel0_row9\" class=\"row_heading level0 row9\" >9</th>\n",
       "                        <td id=\"T_f692d404_8bff_11ec_a4b0_d83bbf4e560frow9_col0\" class=\"data row9 col0\" >0.9139</td>\n",
       "                        <td id=\"T_f692d404_8bff_11ec_a4b0_d83bbf4e560frow9_col1\" class=\"data row9 col1\" >0.9803</td>\n",
       "                        <td id=\"T_f692d404_8bff_11ec_a4b0_d83bbf4e560frow9_col2\" class=\"data row9 col2\" >0.9322</td>\n",
       "                        <td id=\"T_f692d404_8bff_11ec_a4b0_d83bbf4e560frow9_col3\" class=\"data row9 col3\" >0.9167</td>\n",
       "                        <td id=\"T_f692d404_8bff_11ec_a4b0_d83bbf4e560frow9_col4\" class=\"data row9 col4\" >0.9244</td>\n",
       "                        <td id=\"T_f692d404_8bff_11ec_a4b0_d83bbf4e560frow9_col5\" class=\"data row9 col5\" >0.8244</td>\n",
       "                        <td id=\"T_f692d404_8bff_11ec_a4b0_d83bbf4e560frow9_col6\" class=\"data row9 col6\" >0.8245</td>\n",
       "            </tr>\n",
       "            <tr>\n",
       "                        <th id=\"T_f692d404_8bff_11ec_a4b0_d83bbf4e560flevel0_row10\" class=\"row_heading level0 row10\" >Mean</th>\n",
       "                        <td id=\"T_f692d404_8bff_11ec_a4b0_d83bbf4e560frow10_col0\" class=\"data row10 col0\" >0.9276</td>\n",
       "                        <td id=\"T_f692d404_8bff_11ec_a4b0_d83bbf4e560frow10_col1\" class=\"data row10 col1\" >0.9790</td>\n",
       "                        <td id=\"T_f692d404_8bff_11ec_a4b0_d83bbf4e560frow10_col2\" class=\"data row10 col2\" >0.9428</td>\n",
       "                        <td id=\"T_f692d404_8bff_11ec_a4b0_d83bbf4e560frow10_col3\" class=\"data row10 col3\" >0.9311</td>\n",
       "                        <td id=\"T_f692d404_8bff_11ec_a4b0_d83bbf4e560frow10_col4\" class=\"data row10 col4\" >0.9366</td>\n",
       "                        <td id=\"T_f692d404_8bff_11ec_a4b0_d83bbf4e560frow10_col5\" class=\"data row10 col5\" >0.8522</td>\n",
       "                        <td id=\"T_f692d404_8bff_11ec_a4b0_d83bbf4e560frow10_col6\" class=\"data row10 col6\" >0.8531</td>\n",
       "            </tr>\n",
       "            <tr>\n",
       "                        <th id=\"T_f692d404_8bff_11ec_a4b0_d83bbf4e560flevel0_row11\" class=\"row_heading level0 row11\" >SD</th>\n",
       "                        <td id=\"T_f692d404_8bff_11ec_a4b0_d83bbf4e560frow11_col0\" class=\"data row11 col0\" >0.0145</td>\n",
       "                        <td id=\"T_f692d404_8bff_11ec_a4b0_d83bbf4e560frow11_col1\" class=\"data row11 col1\" >0.0076</td>\n",
       "                        <td id=\"T_f692d404_8bff_11ec_a4b0_d83bbf4e560frow11_col2\" class=\"data row11 col2\" >0.0163</td>\n",
       "                        <td id=\"T_f692d404_8bff_11ec_a4b0_d83bbf4e560frow11_col3\" class=\"data row11 col3\" >0.0249</td>\n",
       "                        <td id=\"T_f692d404_8bff_11ec_a4b0_d83bbf4e560frow11_col4\" class=\"data row11 col4\" >0.0122</td>\n",
       "                        <td id=\"T_f692d404_8bff_11ec_a4b0_d83bbf4e560frow11_col5\" class=\"data row11 col5\" >0.0299</td>\n",
       "                        <td id=\"T_f692d404_8bff_11ec_a4b0_d83bbf4e560frow11_col6\" class=\"data row11 col6\" >0.0294</td>\n",
       "            </tr>\n",
       "    </tbody></table>"
      ],
      "text/plain": [
       "<pandas.io.formats.style.Styler at 0x1823f173d00>"
      ]
     },
     "metadata": {},
     "output_type": "display_data"
    },
    {
     "data": {
      "text/html": [
       "<style  type=\"text/css\" >\n",
       "</style><table id=\"T_f6c1973a_8bff_11ec_9fdf_d83bbf4e560f\" ><thead>    <tr>        <th class=\"blank level0\" ></th>        <th class=\"col_heading level0 col0\" >Model</th>        <th class=\"col_heading level0 col1\" >Accuracy</th>        <th class=\"col_heading level0 col2\" >AUC</th>        <th class=\"col_heading level0 col3\" >Recall</th>        <th class=\"col_heading level0 col4\" >Prec.</th>        <th class=\"col_heading level0 col5\" >F1</th>        <th class=\"col_heading level0 col6\" >Kappa</th>        <th class=\"col_heading level0 col7\" >MCC</th>    </tr></thead><tbody>\n",
       "                <tr>\n",
       "                        <th id=\"T_f6c1973a_8bff_11ec_9fdf_d83bbf4e560flevel0_row0\" class=\"row_heading level0 row0\" >0</th>\n",
       "                        <td id=\"T_f6c1973a_8bff_11ec_9fdf_d83bbf4e560frow0_col0\" class=\"data row0 col0\" >Voting Classifier</td>\n",
       "                        <td id=\"T_f6c1973a_8bff_11ec_9fdf_d83bbf4e560frow0_col1\" class=\"data row0 col1\" >0.9123</td>\n",
       "                        <td id=\"T_f6c1973a_8bff_11ec_9fdf_d83bbf4e560frow0_col2\" class=\"data row0 col2\" >0.9776</td>\n",
       "                        <td id=\"T_f6c1973a_8bff_11ec_9fdf_d83bbf4e560frow0_col3\" class=\"data row0 col3\" >0.9353</td>\n",
       "                        <td id=\"T_f6c1973a_8bff_11ec_9fdf_d83bbf4e560frow0_col4\" class=\"data row0 col4\" >0.9032</td>\n",
       "                        <td id=\"T_f6c1973a_8bff_11ec_9fdf_d83bbf4e560frow0_col5\" class=\"data row0 col5\" >0.9190</td>\n",
       "                        <td id=\"T_f6c1973a_8bff_11ec_9fdf_d83bbf4e560frow0_col6\" class=\"data row0 col6\" >0.8235</td>\n",
       "                        <td id=\"T_f6c1973a_8bff_11ec_9fdf_d83bbf4e560frow0_col7\" class=\"data row0 col7\" >0.8241</td>\n",
       "            </tr>\n",
       "    </tbody></table>"
      ],
      "text/plain": [
       "<pandas.io.formats.style.Styler at 0x1823f171d00>"
      ]
     },
     "metadata": {},
     "output_type": "display_data"
    },
    {
     "data": {
      "text/html": [
       "<div>\n",
       "<style scoped>\n",
       "    .dataframe tbody tr th:only-of-type {\n",
       "        vertical-align: middle;\n",
       "    }\n",
       "\n",
       "    .dataframe tbody tr th {\n",
       "        vertical-align: top;\n",
       "    }\n",
       "\n",
       "    .dataframe thead th {\n",
       "        text-align: right;\n",
       "    }\n",
       "</style>\n",
       "<table border=\"1\" class=\"dataframe\">\n",
       "  <thead>\n",
       "    <tr style=\"text-align: right;\">\n",
       "      <th></th>\n",
       "      <th>Flight Distance</th>\n",
       "      <th>Delay</th>\n",
       "      <th>Gender_Female</th>\n",
       "      <th>Customer Type_Loyal Customer</th>\n",
       "      <th>Type of Travel_Business travel</th>\n",
       "      <th>Class_Business</th>\n",
       "      <th>Class_Eco</th>\n",
       "      <th>Class_Eco Plus</th>\n",
       "      <th>Seat comfort_0</th>\n",
       "      <th>Seat comfort_1</th>\n",
       "      <th>...</th>\n",
       "      <th>Age_cat_20</th>\n",
       "      <th>Age_cat_30</th>\n",
       "      <th>Age_cat_40</th>\n",
       "      <th>Age_cat_50</th>\n",
       "      <th>Age_cat_60</th>\n",
       "      <th>Age_cat_70</th>\n",
       "      <th>Age_cat_80</th>\n",
       "      <th>target</th>\n",
       "      <th>Label</th>\n",
       "      <th>Score</th>\n",
       "    </tr>\n",
       "  </thead>\n",
       "  <tbody>\n",
       "    <tr>\n",
       "      <th>0</th>\n",
       "      <td>974.0</td>\n",
       "      <td>0.405465</td>\n",
       "      <td>1</td>\n",
       "      <td>1</td>\n",
       "      <td>1</td>\n",
       "      <td>0</td>\n",
       "      <td>1</td>\n",
       "      <td>0</td>\n",
       "      <td>0.0</td>\n",
       "      <td>0.0</td>\n",
       "      <td>...</td>\n",
       "      <td>0.0</td>\n",
       "      <td>0.0</td>\n",
       "      <td>1.0</td>\n",
       "      <td>0.0</td>\n",
       "      <td>0.0</td>\n",
       "      <td>0.0</td>\n",
       "      <td>0.0</td>\n",
       "      <td>0</td>\n",
       "      <td>1</td>\n",
       "      <td>0.7791</td>\n",
       "    </tr>\n",
       "    <tr>\n",
       "      <th>1</th>\n",
       "      <td>1236.0</td>\n",
       "      <td>3.198673</td>\n",
       "      <td>1</td>\n",
       "      <td>1</td>\n",
       "      <td>1</td>\n",
       "      <td>1</td>\n",
       "      <td>0</td>\n",
       "      <td>0</td>\n",
       "      <td>0.0</td>\n",
       "      <td>0.0</td>\n",
       "      <td>...</td>\n",
       "      <td>0.0</td>\n",
       "      <td>1.0</td>\n",
       "      <td>0.0</td>\n",
       "      <td>0.0</td>\n",
       "      <td>0.0</td>\n",
       "      <td>0.0</td>\n",
       "      <td>0.0</td>\n",
       "      <td>1</td>\n",
       "      <td>1</td>\n",
       "      <td>0.9956</td>\n",
       "    </tr>\n",
       "    <tr>\n",
       "      <th>2</th>\n",
       "      <td>2065.0</td>\n",
       "      <td>2.708050</td>\n",
       "      <td>1</td>\n",
       "      <td>1</td>\n",
       "      <td>0</td>\n",
       "      <td>0</td>\n",
       "      <td>1</td>\n",
       "      <td>0</td>\n",
       "      <td>0.0</td>\n",
       "      <td>0.0</td>\n",
       "      <td>...</td>\n",
       "      <td>1.0</td>\n",
       "      <td>0.0</td>\n",
       "      <td>0.0</td>\n",
       "      <td>0.0</td>\n",
       "      <td>0.0</td>\n",
       "      <td>0.0</td>\n",
       "      <td>0.0</td>\n",
       "      <td>0</td>\n",
       "      <td>0</td>\n",
       "      <td>0.5213</td>\n",
       "    </tr>\n",
       "    <tr>\n",
       "      <th>3</th>\n",
       "      <td>2934.0</td>\n",
       "      <td>1.098612</td>\n",
       "      <td>1</td>\n",
       "      <td>1</td>\n",
       "      <td>1</td>\n",
       "      <td>1</td>\n",
       "      <td>0</td>\n",
       "      <td>0</td>\n",
       "      <td>0.0</td>\n",
       "      <td>0.0</td>\n",
       "      <td>...</td>\n",
       "      <td>1.0</td>\n",
       "      <td>0.0</td>\n",
       "      <td>0.0</td>\n",
       "      <td>0.0</td>\n",
       "      <td>0.0</td>\n",
       "      <td>0.0</td>\n",
       "      <td>0.0</td>\n",
       "      <td>1</td>\n",
       "      <td>1</td>\n",
       "      <td>0.9533</td>\n",
       "    </tr>\n",
       "    <tr>\n",
       "      <th>4</th>\n",
       "      <td>3119.0</td>\n",
       "      <td>2.079442</td>\n",
       "      <td>1</td>\n",
       "      <td>1</td>\n",
       "      <td>0</td>\n",
       "      <td>0</td>\n",
       "      <td>0</td>\n",
       "      <td>1</td>\n",
       "      <td>0.0</td>\n",
       "      <td>0.0</td>\n",
       "      <td>...</td>\n",
       "      <td>0.0</td>\n",
       "      <td>0.0</td>\n",
       "      <td>0.0</td>\n",
       "      <td>0.0</td>\n",
       "      <td>0.0</td>\n",
       "      <td>0.0</td>\n",
       "      <td>0.0</td>\n",
       "      <td>1</td>\n",
       "      <td>1</td>\n",
       "      <td>0.9175</td>\n",
       "    </tr>\n",
       "    <tr>\n",
       "      <th>5</th>\n",
       "      <td>4113.0</td>\n",
       "      <td>0.000000</td>\n",
       "      <td>0</td>\n",
       "      <td>1</td>\n",
       "      <td>1</td>\n",
       "      <td>0</td>\n",
       "      <td>1</td>\n",
       "      <td>0</td>\n",
       "      <td>0.0</td>\n",
       "      <td>0.0</td>\n",
       "      <td>...</td>\n",
       "      <td>0.0</td>\n",
       "      <td>0.0</td>\n",
       "      <td>1.0</td>\n",
       "      <td>0.0</td>\n",
       "      <td>0.0</td>\n",
       "      <td>0.0</td>\n",
       "      <td>0.0</td>\n",
       "      <td>1</td>\n",
       "      <td>0</td>\n",
       "      <td>0.7239</td>\n",
       "    </tr>\n",
       "    <tr>\n",
       "      <th>6</th>\n",
       "      <td>2233.0</td>\n",
       "      <td>4.248495</td>\n",
       "      <td>1</td>\n",
       "      <td>0</td>\n",
       "      <td>1</td>\n",
       "      <td>1</td>\n",
       "      <td>0</td>\n",
       "      <td>0</td>\n",
       "      <td>0.0</td>\n",
       "      <td>0.0</td>\n",
       "      <td>...</td>\n",
       "      <td>1.0</td>\n",
       "      <td>0.0</td>\n",
       "      <td>0.0</td>\n",
       "      <td>0.0</td>\n",
       "      <td>0.0</td>\n",
       "      <td>0.0</td>\n",
       "      <td>0.0</td>\n",
       "      <td>0</td>\n",
       "      <td>0</td>\n",
       "      <td>0.7202</td>\n",
       "    </tr>\n",
       "    <tr>\n",
       "      <th>7</th>\n",
       "      <td>4188.0</td>\n",
       "      <td>1.609438</td>\n",
       "      <td>0</td>\n",
       "      <td>0</td>\n",
       "      <td>1</td>\n",
       "      <td>1</td>\n",
       "      <td>0</td>\n",
       "      <td>0</td>\n",
       "      <td>0.0</td>\n",
       "      <td>1.0</td>\n",
       "      <td>...</td>\n",
       "      <td>0.0</td>\n",
       "      <td>1.0</td>\n",
       "      <td>0.0</td>\n",
       "      <td>0.0</td>\n",
       "      <td>0.0</td>\n",
       "      <td>0.0</td>\n",
       "      <td>0.0</td>\n",
       "      <td>0</td>\n",
       "      <td>0</td>\n",
       "      <td>0.6609</td>\n",
       "    </tr>\n",
       "    <tr>\n",
       "      <th>8</th>\n",
       "      <td>2522.0</td>\n",
       "      <td>1.386294</td>\n",
       "      <td>1</td>\n",
       "      <td>1</td>\n",
       "      <td>0</td>\n",
       "      <td>0</td>\n",
       "      <td>1</td>\n",
       "      <td>0</td>\n",
       "      <td>0.0</td>\n",
       "      <td>0.0</td>\n",
       "      <td>...</td>\n",
       "      <td>0.0</td>\n",
       "      <td>0.0</td>\n",
       "      <td>1.0</td>\n",
       "      <td>0.0</td>\n",
       "      <td>0.0</td>\n",
       "      <td>0.0</td>\n",
       "      <td>0.0</td>\n",
       "      <td>1</td>\n",
       "      <td>1</td>\n",
       "      <td>0.9981</td>\n",
       "    </tr>\n",
       "    <tr>\n",
       "      <th>9</th>\n",
       "      <td>534.0</td>\n",
       "      <td>3.178054</td>\n",
       "      <td>1</td>\n",
       "      <td>1</td>\n",
       "      <td>1</td>\n",
       "      <td>1</td>\n",
       "      <td>0</td>\n",
       "      <td>0</td>\n",
       "      <td>0.0</td>\n",
       "      <td>1.0</td>\n",
       "      <td>...</td>\n",
       "      <td>0.0</td>\n",
       "      <td>1.0</td>\n",
       "      <td>0.0</td>\n",
       "      <td>0.0</td>\n",
       "      <td>0.0</td>\n",
       "      <td>0.0</td>\n",
       "      <td>0.0</td>\n",
       "      <td>0</td>\n",
       "      <td>0</td>\n",
       "      <td>0.8833</td>\n",
       "    </tr>\n",
       "  </tbody>\n",
       "</table>\n",
       "<p>10 rows × 69 columns</p>\n",
       "</div>"
      ],
      "text/plain": [
       "   Flight Distance     Delay  Gender_Female  Customer Type_Loyal Customer  \\\n",
       "0            974.0  0.405465              1                             1   \n",
       "1           1236.0  3.198673              1                             1   \n",
       "2           2065.0  2.708050              1                             1   \n",
       "3           2934.0  1.098612              1                             1   \n",
       "4           3119.0  2.079442              1                             1   \n",
       "5           4113.0  0.000000              0                             1   \n",
       "6           2233.0  4.248495              1                             0   \n",
       "7           4188.0  1.609438              0                             0   \n",
       "8           2522.0  1.386294              1                             1   \n",
       "9            534.0  3.178054              1                             1   \n",
       "\n",
       "   Type of Travel_Business travel  Class_Business  Class_Eco  Class_Eco Plus  \\\n",
       "0                               1               0          1               0   \n",
       "1                               1               1          0               0   \n",
       "2                               0               0          1               0   \n",
       "3                               1               1          0               0   \n",
       "4                               0               0          0               1   \n",
       "5                               1               0          1               0   \n",
       "6                               1               1          0               0   \n",
       "7                               1               1          0               0   \n",
       "8                               0               0          1               0   \n",
       "9                               1               1          0               0   \n",
       "\n",
       "   Seat comfort_0  Seat comfort_1  ...  Age_cat_20  Age_cat_30  Age_cat_40  \\\n",
       "0             0.0             0.0  ...         0.0         0.0         1.0   \n",
       "1             0.0             0.0  ...         0.0         1.0         0.0   \n",
       "2             0.0             0.0  ...         1.0         0.0         0.0   \n",
       "3             0.0             0.0  ...         1.0         0.0         0.0   \n",
       "4             0.0             0.0  ...         0.0         0.0         0.0   \n",
       "5             0.0             0.0  ...         0.0         0.0         1.0   \n",
       "6             0.0             0.0  ...         1.0         0.0         0.0   \n",
       "7             0.0             1.0  ...         0.0         1.0         0.0   \n",
       "8             0.0             0.0  ...         0.0         0.0         1.0   \n",
       "9             0.0             1.0  ...         0.0         1.0         0.0   \n",
       "\n",
       "   Age_cat_50  Age_cat_60  Age_cat_70  Age_cat_80  target  Label   Score  \n",
       "0         0.0         0.0         0.0         0.0       0      1  0.7791  \n",
       "1         0.0         0.0         0.0         0.0       1      1  0.9956  \n",
       "2         0.0         0.0         0.0         0.0       0      0  0.5213  \n",
       "3         0.0         0.0         0.0         0.0       1      1  0.9533  \n",
       "4         0.0         0.0         0.0         0.0       1      1  0.9175  \n",
       "5         0.0         0.0         0.0         0.0       1      0  0.7239  \n",
       "6         0.0         0.0         0.0         0.0       0      0  0.7202  \n",
       "7         0.0         0.0         0.0         0.0       0      0  0.6609  \n",
       "8         0.0         0.0         0.0         0.0       1      1  0.9981  \n",
       "9         0.0         0.0         0.0         0.0       0      0  0.8833  \n",
       "\n",
       "[10 rows x 69 columns]"
      ]
     },
     "execution_count": 86,
     "metadata": {},
     "output_type": "execute_result"
    }
   ],
   "source": [
    "blend_4_soft = blend_models(estimator_list=best, method='soft', choose_better = True)\n",
    "predict_model(blend_4_soft).head(10)"
   ]
  },
  {
   "cell_type": "code",
   "execution_count": 87,
   "metadata": {
    "ExecuteTime": {
     "end_time": "2022-02-12T12:33:30.941385Z",
     "start_time": "2022-02-12T12:33:23.409330Z"
    }
   },
   "outputs": [],
   "source": [
    "final_blend_4_soft = finalize_model(blend_4_soft)\n",
    "prediction = predict_model(final_blend_4_soft, data = df_test)"
   ]
  },
  {
   "cell_type": "markdown",
   "metadata": {},
   "source": [
    "# Submission"
   ]
  },
  {
   "cell_type": "code",
   "execution_count": 88,
   "metadata": {
    "ExecuteTime": {
     "end_time": "2022-02-12T12:33:32.562094Z",
     "start_time": "2022-02-12T12:33:32.548149Z"
    },
    "scrolled": true
   },
   "outputs": [
    {
     "data": {
      "text/html": [
       "<div>\n",
       "<style scoped>\n",
       "    .dataframe tbody tr th:only-of-type {\n",
       "        vertical-align: middle;\n",
       "    }\n",
       "\n",
       "    .dataframe tbody tr th {\n",
       "        vertical-align: top;\n",
       "    }\n",
       "\n",
       "    .dataframe thead th {\n",
       "        text-align: right;\n",
       "    }\n",
       "</style>\n",
       "<table border=\"1\" class=\"dataframe\">\n",
       "  <thead>\n",
       "    <tr style=\"text-align: right;\">\n",
       "      <th></th>\n",
       "      <th>id</th>\n",
       "      <th>target</th>\n",
       "    </tr>\n",
       "  </thead>\n",
       "  <tbody>\n",
       "    <tr>\n",
       "      <th>0</th>\n",
       "      <td>1</td>\n",
       "      <td>1</td>\n",
       "    </tr>\n",
       "    <tr>\n",
       "      <th>1</th>\n",
       "      <td>2</td>\n",
       "      <td>0</td>\n",
       "    </tr>\n",
       "    <tr>\n",
       "      <th>2</th>\n",
       "      <td>3</td>\n",
       "      <td>1</td>\n",
       "    </tr>\n",
       "    <tr>\n",
       "      <th>3</th>\n",
       "      <td>4</td>\n",
       "      <td>1</td>\n",
       "    </tr>\n",
       "    <tr>\n",
       "      <th>4</th>\n",
       "      <td>5</td>\n",
       "      <td>1</td>\n",
       "    </tr>\n",
       "  </tbody>\n",
       "</table>\n",
       "</div>"
      ],
      "text/plain": [
       "   id  target\n",
       "0   1       1\n",
       "1   2       0\n",
       "2   3       1\n",
       "3   4       1\n",
       "4   5       1"
      ]
     },
     "execution_count": 88,
     "metadata": {},
     "output_type": "execute_result"
    }
   ],
   "source": [
    "submission = pd.read_csv(\"./data/sample_submission.csv\")\n",
    "submission['target'] = prediction['Label']\n",
    "submission.head()"
   ]
  },
  {
   "cell_type": "code",
   "execution_count": 89,
   "metadata": {
    "ExecuteTime": {
     "end_time": "2022-02-12T12:33:34.084731Z",
     "start_time": "2022-02-12T12:33:34.071413Z"
    }
   },
   "outputs": [],
   "source": [
    "submission.to_csv(\"./data/submission_pycaret_4.csv\",index=False)"
   ]
  }
 ],
 "metadata": {
  "hide_input": false,
  "kernelspec": {
   "display_name": "Python 3",
   "language": "python",
   "name": "python3"
  },
  "language_info": {
   "codemirror_mode": {
    "name": "ipython",
    "version": 3
   },
   "file_extension": ".py",
   "mimetype": "text/x-python",
   "name": "python",
   "nbconvert_exporter": "python",
   "pygments_lexer": "ipython3",
   "version": "3.8.3"
  },
  "toc": {
   "base_numbering": 1,
   "nav_menu": {},
   "number_sections": true,
   "sideBar": true,
   "skip_h1_title": false,
   "title_cell": "Table of Contents",
   "title_sidebar": "Contents",
   "toc_cell": false,
   "toc_position": {
    "height": "calc(100% - 180px)",
    "left": "10px",
    "top": "150px",
    "width": "244.938px"
   },
   "toc_section_display": true,
   "toc_window_display": true
  },
  "varInspector": {
   "cols": {
    "lenName": 16,
    "lenType": 16,
    "lenVar": 40
   },
   "kernels_config": {
    "python": {
     "delete_cmd_postfix": "",
     "delete_cmd_prefix": "del ",
     "library": "var_list.py",
     "varRefreshCmd": "print(var_dic_list())"
    },
    "r": {
     "delete_cmd_postfix": ") ",
     "delete_cmd_prefix": "rm(",
     "library": "var_list.r",
     "varRefreshCmd": "cat(var_dic_list()) "
    }
   },
   "types_to_exclude": [
    "module",
    "function",
    "builtin_function_or_method",
    "instance",
    "_Feature"
   ],
   "window_display": false
  }
 },
 "nbformat": 4,
 "nbformat_minor": 4
}
